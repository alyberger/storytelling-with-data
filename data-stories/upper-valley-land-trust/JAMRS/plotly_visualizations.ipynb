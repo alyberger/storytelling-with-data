{
 "cells": [
  {
   "cell_type": "code",
   "execution_count": 1,
   "metadata": {},
   "outputs": [
    {
     "name": "stderr",
     "output_type": "stream",
     "text": [
      "/optnfs/el7/jupyterhub/envs/Psych81.09/lib/python3.6/site-packages/hypertools/plot/__init__.py:10: UserWarning: Could not switch backend to TkAgg.  This may impact performance of the plotting functions.\n",
      "  warnings.warn('Could not switch backend to TkAgg.  This may impact performance of the plotting functions.')\n"
     ]
    }
   ],
   "source": [
    "#Imported relevant and necessary libraries and data cleaning tools\n",
    "import pandas as pd\n",
    "import numpy as np\n",
    "import seaborn as sns\n",
    "import matplotlib.pyplot as plt\n",
    "import hypertools as hyp\n",
    "import plotly_express as px #plotly express is a library for drawing interactive figures\n",
    "from glob import glob as lsdir\n",
    "import os\n",
    "import re\n",
    "import datetime as dt\n",
    "\n",
    "from sklearn import linear_model\n",
    "from sklearn.neural_network import MLPRegressor\n",
    "from sklearn.model_selection import train_test_split\n",
    "\n",
    "%matplotlib inline"
   ]
  },
  {
   "cell_type": "code",
   "execution_count": 2,
   "metadata": {},
   "outputs": [
    {
     "name": "stdout",
     "output_type": "stream",
     "text": [
      "WARNING *** OLE2 inconsistency: SSCS size is 0 but SSAT size is non-zero\n"
     ]
    }
   ],
   "source": [
    "#Code from Professor Manning to set up and read in the relevant UVLT data \n",
    "data_readers = {'xlsx': pd.read_excel, 'xls': pd.read_excel, 'dta': pd.read_stata}\n",
    "get_extension = lambda x: x.split('.')[-1]\n",
    "\n",
    "\n",
    "def read_data(datadir, readers):\n",
    "    files = lsdir(os.path.join('..', datadir, '*'))\n",
    "    readable_files = []\n",
    "    data = []\n",
    "    for f in files:\n",
    "        ext = get_extension(f)\n",
    "        if ext in readers.keys():\n",
    "            readable_files.append(f)\n",
    "            data.append(data_readers[ext](f))\n",
    "    return readable_files, data\n",
    "\n",
    "\n",
    "fnames, data = read_data('data', data_readers)"
   ]
  },
  {
   "cell_type": "code",
   "execution_count": 3,
   "metadata": {},
   "outputs": [
    {
     "data": {
      "text/plain": [
       "['../data/UVLTdata_individual.dta',\n",
       " '../data/UVLTdata_final.dta',\n",
       " '../data/Direct Mailing Analysis.xlsx',\n",
       " '../data/UVLTDataAnalysis.xls',\n",
       " '../data/TownLevelData.xlsx',\n",
       " '../data/TownLevelData.dta',\n",
       " '../data/CensusInfoUpperValley2015JH.xlsx']"
      ]
     },
     "execution_count": 3,
     "metadata": {},
     "output_type": "execute_result"
    }
   ],
   "source": [
    "#A summary of the data files that are now read into the notebook\n",
    "fnames"
   ]
  },
  {
   "cell_type": "code",
   "execution_count": 4,
   "metadata": {},
   "outputs": [],
   "source": [
    "#Renaming relevant columns in UVLT individual data to be more easily readable\n",
    "names={'DeceasedDateYN' : 'Is the donor Deceased?',\n",
    "       'U_Tot_Amt': 'Total Unrestricted Donations',\n",
    "      'U_Tot_Cnt': 'Total # Unrestricted Donations',\n",
    "      'ConservedOwner' : 'Owns Conserved Land?',\n",
    "      'RTotAmt' : 'Total Restricted Donations',\n",
    "       'RTotCnt': 'Total # Restricted Donations',\n",
    "      'VTotCnt' : 'Total Volunteer Occurances',\n",
    "      'ETotCnt' : 'Total Event Attendances'}\n",
    "data[1].rename(names, inplace=True, axis=1)"
   ]
  },
  {
   "cell_type": "code",
   "execution_count": 5,
   "metadata": {
    "scrolled": true
   },
   "outputs": [],
   "source": [
    "#copying each set of data into more memorably named versions\n",
    "final_data=data[1].copy()"
   ]
  },
  {
   "cell_type": "code",
   "execution_count": 6,
   "metadata": {},
   "outputs": [
    {
     "data": {
      "text/html": [
       "<div>\n",
       "<style scoped>\n",
       "    .dataframe tbody tr th:only-of-type {\n",
       "        vertical-align: middle;\n",
       "    }\n",
       "\n",
       "    .dataframe tbody tr th {\n",
       "        vertical-align: top;\n",
       "    }\n",
       "\n",
       "    .dataframe thead th {\n",
       "        text-align: right;\n",
       "    }\n",
       "</style>\n",
       "<table border=\"1\" class=\"dataframe\">\n",
       "  <thead>\n",
       "    <tr style=\"text-align: right;\">\n",
       "      <th></th>\n",
       "      <th>ContactID</th>\n",
       "      <th>State</th>\n",
       "      <th>TownID</th>\n",
       "      <th>Town</th>\n",
       "      <th>LandOwnerTownID</th>\n",
       "      <th>Is the donor Deceased?</th>\n",
       "      <th>Total Unrestricted Donations</th>\n",
       "      <th>Total # Unrestricted Donations</th>\n",
       "      <th>U200001</th>\n",
       "      <th>U200102</th>\n",
       "      <th>...</th>\n",
       "      <th>E201819</th>\n",
       "      <th>DeceasedDate</th>\n",
       "      <th>Owns Conserved Land?</th>\n",
       "      <th>Nprojects</th>\n",
       "      <th>Nacres</th>\n",
       "      <th>Nmembers</th>\n",
       "      <th>MedianHHIncome</th>\n",
       "      <th>MeanHHIncome</th>\n",
       "      <th>PercBAplus</th>\n",
       "      <th>PercAge55Plus</th>\n",
       "    </tr>\n",
       "  </thead>\n",
       "  <tbody>\n",
       "    <tr>\n",
       "      <th>0</th>\n",
       "      <td>2903.0</td>\n",
       "      <td>VT</td>\n",
       "      <td>2.0</td>\n",
       "      <td>Bradford</td>\n",
       "      <td>0.0</td>\n",
       "      <td>0.0</td>\n",
       "      <td>0.0</td>\n",
       "      <td>0.0</td>\n",
       "      <td>0.0</td>\n",
       "      <td>0.0</td>\n",
       "      <td>...</td>\n",
       "      <td>0.0</td>\n",
       "      <td>NaN</td>\n",
       "      <td>0.0</td>\n",
       "      <td>20.0</td>\n",
       "      <td>2258.32</td>\n",
       "      <td>7.0</td>\n",
       "      <td>48056.0</td>\n",
       "      <td>58716.0</td>\n",
       "      <td>30.6</td>\n",
       "      <td>32.912306</td>\n",
       "    </tr>\n",
       "    <tr>\n",
       "      <th>1</th>\n",
       "      <td>11472.0</td>\n",
       "      <td>VT</td>\n",
       "      <td>2.0</td>\n",
       "      <td>Bradford</td>\n",
       "      <td>0.0</td>\n",
       "      <td>0.0</td>\n",
       "      <td>0.0</td>\n",
       "      <td>0.0</td>\n",
       "      <td>0.0</td>\n",
       "      <td>0.0</td>\n",
       "      <td>...</td>\n",
       "      <td>0.0</td>\n",
       "      <td>NaN</td>\n",
       "      <td>0.0</td>\n",
       "      <td>20.0</td>\n",
       "      <td>2258.32</td>\n",
       "      <td>7.0</td>\n",
       "      <td>48056.0</td>\n",
       "      <td>58716.0</td>\n",
       "      <td>30.6</td>\n",
       "      <td>32.912306</td>\n",
       "    </tr>\n",
       "    <tr>\n",
       "      <th>2</th>\n",
       "      <td>9206.0</td>\n",
       "      <td>VT</td>\n",
       "      <td>2.0</td>\n",
       "      <td>Bradford</td>\n",
       "      <td>0.0</td>\n",
       "      <td>0.0</td>\n",
       "      <td>75.0</td>\n",
       "      <td>2.0</td>\n",
       "      <td>0.0</td>\n",
       "      <td>0.0</td>\n",
       "      <td>...</td>\n",
       "      <td>0.0</td>\n",
       "      <td>NaN</td>\n",
       "      <td>0.0</td>\n",
       "      <td>20.0</td>\n",
       "      <td>2258.32</td>\n",
       "      <td>7.0</td>\n",
       "      <td>48056.0</td>\n",
       "      <td>58716.0</td>\n",
       "      <td>30.6</td>\n",
       "      <td>32.912306</td>\n",
       "    </tr>\n",
       "    <tr>\n",
       "      <th>3</th>\n",
       "      <td>12910.0</td>\n",
       "      <td>VT</td>\n",
       "      <td>2.0</td>\n",
       "      <td>Bradford</td>\n",
       "      <td>0.0</td>\n",
       "      <td>0.0</td>\n",
       "      <td>0.0</td>\n",
       "      <td>0.0</td>\n",
       "      <td>0.0</td>\n",
       "      <td>0.0</td>\n",
       "      <td>...</td>\n",
       "      <td>0.0</td>\n",
       "      <td>NaN</td>\n",
       "      <td>0.0</td>\n",
       "      <td>20.0</td>\n",
       "      <td>2258.32</td>\n",
       "      <td>7.0</td>\n",
       "      <td>48056.0</td>\n",
       "      <td>58716.0</td>\n",
       "      <td>30.6</td>\n",
       "      <td>32.912306</td>\n",
       "    </tr>\n",
       "    <tr>\n",
       "      <th>4</th>\n",
       "      <td>5029.0</td>\n",
       "      <td>VT</td>\n",
       "      <td>2.0</td>\n",
       "      <td>Bradford</td>\n",
       "      <td>0.0</td>\n",
       "      <td>0.0</td>\n",
       "      <td>0.0</td>\n",
       "      <td>0.0</td>\n",
       "      <td>0.0</td>\n",
       "      <td>0.0</td>\n",
       "      <td>...</td>\n",
       "      <td>0.0</td>\n",
       "      <td>NaN</td>\n",
       "      <td>0.0</td>\n",
       "      <td>20.0</td>\n",
       "      <td>2258.32</td>\n",
       "      <td>7.0</td>\n",
       "      <td>48056.0</td>\n",
       "      <td>58716.0</td>\n",
       "      <td>30.6</td>\n",
       "      <td>32.912306</td>\n",
       "    </tr>\n",
       "  </tbody>\n",
       "</table>\n",
       "<p>5 rows × 97 columns</p>\n",
       "</div>"
      ],
      "text/plain": [
       "   ContactID State  TownID      Town  LandOwnerTownID  Is the donor Deceased?  \\\n",
       "0     2903.0    VT     2.0  Bradford              0.0                     0.0   \n",
       "1    11472.0    VT     2.0  Bradford              0.0                     0.0   \n",
       "2     9206.0    VT     2.0  Bradford              0.0                     0.0   \n",
       "3    12910.0    VT     2.0  Bradford              0.0                     0.0   \n",
       "4     5029.0    VT     2.0  Bradford              0.0                     0.0   \n",
       "\n",
       "   Total Unrestricted Donations  Total # Unrestricted Donations  U200001  \\\n",
       "0                           0.0                             0.0      0.0   \n",
       "1                           0.0                             0.0      0.0   \n",
       "2                          75.0                             2.0      0.0   \n",
       "3                           0.0                             0.0      0.0   \n",
       "4                           0.0                             0.0      0.0   \n",
       "\n",
       "   U200102      ...        E201819  DeceasedDate  Owns Conserved Land?  \\\n",
       "0      0.0      ...            0.0           NaN                   0.0   \n",
       "1      0.0      ...            0.0           NaN                   0.0   \n",
       "2      0.0      ...            0.0           NaN                   0.0   \n",
       "3      0.0      ...            0.0           NaN                   0.0   \n",
       "4      0.0      ...            0.0           NaN                   0.0   \n",
       "\n",
       "   Nprojects   Nacres  Nmembers  MedianHHIncome  MeanHHIncome  PercBAplus  \\\n",
       "0       20.0  2258.32       7.0         48056.0       58716.0        30.6   \n",
       "1       20.0  2258.32       7.0         48056.0       58716.0        30.6   \n",
       "2       20.0  2258.32       7.0         48056.0       58716.0        30.6   \n",
       "3       20.0  2258.32       7.0         48056.0       58716.0        30.6   \n",
       "4       20.0  2258.32       7.0         48056.0       58716.0        30.6   \n",
       "\n",
       "   PercAge55Plus  \n",
       "0      32.912306  \n",
       "1      32.912306  \n",
       "2      32.912306  \n",
       "3      32.912306  \n",
       "4      32.912306  \n",
       "\n",
       "[5 rows x 97 columns]"
      ]
     },
     "execution_count": 6,
     "metadata": {},
     "output_type": "execute_result"
    }
   ],
   "source": [
    "final_data.head()"
   ]
  },
  {
   "cell_type": "code",
   "execution_count": 7,
   "metadata": {},
   "outputs": [],
   "source": [
    "#creates new DataFrame of average unrestricted donations -- this will be used to store all averages\n",
    "avg_data = final_data.groupby('Town', as_index=False)['Total Unrestricted Donations'].mean()"
   ]
  },
  {
   "cell_type": "code",
   "execution_count": 8,
   "metadata": {},
   "outputs": [],
   "source": [
    "#add columns with average town data to the new DataFrame\n",
    "avg_data['Avg # UR Donations'] = final_data.groupby('Town', as_index=True)['Total # Unrestricted Donations'].mean().values\n",
    "avg_data['Avg R Donations'] = final_data.groupby('Town', as_index=True)['Total Restricted Donations'].mean().values\n",
    "avg_data['Avg # R Donations'] = final_data.groupby('Town', as_index=True)['Total # Restricted Donations'].mean().values\n",
    "avg_data['Avg Volunteer Occurances'] = final_data.groupby('Town', as_index=True)['Total Volunteer Occurances'].mean().values\n",
    "avg_data['Avg Event Attendances'] = final_data.groupby('Town', as_index=True)['Total Event Attendances'].mean().values\n",
    "avg_data.rename({'Total Unrestricted Donations' : 'Avg UR Donations'}, inplace=True, axis = 1)\n",
    "\n",
    "avg_data.drop(avg_data.index[0], inplace=True)"
   ]
  },
  {
   "cell_type": "code",
   "execution_count": 9,
   "metadata": {
    "scrolled": true
   },
   "outputs": [
    {
     "data": {
      "text/html": [
       "<div>\n",
       "<style scoped>\n",
       "    .dataframe tbody tr th:only-of-type {\n",
       "        vertical-align: middle;\n",
       "    }\n",
       "\n",
       "    .dataframe tbody tr th {\n",
       "        vertical-align: top;\n",
       "    }\n",
       "\n",
       "    .dataframe thead th {\n",
       "        text-align: right;\n",
       "    }\n",
       "</style>\n",
       "<table border=\"1\" class=\"dataframe\">\n",
       "  <thead>\n",
       "    <tr style=\"text-align: right;\">\n",
       "      <th></th>\n",
       "      <th>Town</th>\n",
       "      <th>Avg UR Donations</th>\n",
       "      <th>Avg # UR Donations</th>\n",
       "      <th>Avg R Donations</th>\n",
       "      <th>Avg # R Donations</th>\n",
       "      <th>Avg Volunteer Occurances</th>\n",
       "      <th>Avg Event Attendances</th>\n",
       "    </tr>\n",
       "  </thead>\n",
       "  <tbody>\n",
       "    <tr>\n",
       "      <th>1</th>\n",
       "      <td>All Other Towns</td>\n",
       "      <td>362.811579</td>\n",
       "      <td>0.769182</td>\n",
       "      <td>168.536277</td>\n",
       "      <td>0.114465</td>\n",
       "      <td>0.207547</td>\n",
       "      <td>0.267925</td>\n",
       "    </tr>\n",
       "    <tr>\n",
       "      <th>2</th>\n",
       "      <td>All Other Towns CT</td>\n",
       "      <td>442.218543</td>\n",
       "      <td>1.079470</td>\n",
       "      <td>350.066225</td>\n",
       "      <td>0.145695</td>\n",
       "      <td>0.000000</td>\n",
       "      <td>0.019868</td>\n",
       "    </tr>\n",
       "    <tr>\n",
       "      <th>3</th>\n",
       "      <td>All Other Towns MA</td>\n",
       "      <td>1250.132725</td>\n",
       "      <td>1.266247</td>\n",
       "      <td>689.746918</td>\n",
       "      <td>0.253669</td>\n",
       "      <td>0.041929</td>\n",
       "      <td>0.102725</td>\n",
       "    </tr>\n",
       "    <tr>\n",
       "      <th>4</th>\n",
       "      <td>All Other Towns ME</td>\n",
       "      <td>289.410364</td>\n",
       "      <td>1.945455</td>\n",
       "      <td>61.363636</td>\n",
       "      <td>0.163636</td>\n",
       "      <td>0.018182</td>\n",
       "      <td>0.236364</td>\n",
       "    </tr>\n",
       "    <tr>\n",
       "      <th>5</th>\n",
       "      <td>All Other Towns NH</td>\n",
       "      <td>96.395799</td>\n",
       "      <td>0.538970</td>\n",
       "      <td>465.202761</td>\n",
       "      <td>0.142668</td>\n",
       "      <td>0.129458</td>\n",
       "      <td>0.248349</td>\n",
       "    </tr>\n",
       "  </tbody>\n",
       "</table>\n",
       "</div>"
      ],
      "text/plain": [
       "                 Town  Avg UR Donations  Avg # UR Donations  Avg R Donations  \\\n",
       "1     All Other Towns        362.811579            0.769182       168.536277   \n",
       "2  All Other Towns CT        442.218543            1.079470       350.066225   \n",
       "3  All Other Towns MA       1250.132725            1.266247       689.746918   \n",
       "4  All Other Towns ME        289.410364            1.945455        61.363636   \n",
       "5  All Other Towns NH         96.395799            0.538970       465.202761   \n",
       "\n",
       "   Avg # R Donations  Avg Volunteer Occurances  Avg Event Attendances  \n",
       "1           0.114465                  0.207547               0.267925  \n",
       "2           0.145695                  0.000000               0.019868  \n",
       "3           0.253669                  0.041929               0.102725  \n",
       "4           0.163636                  0.018182               0.236364  \n",
       "5           0.142668                  0.129458               0.248349  "
      ]
     },
     "execution_count": 9,
     "metadata": {},
     "output_type": "execute_result"
    }
   ],
   "source": [
    "avg_data.head()"
   ]
  },
  {
   "cell_type": "code",
   "execution_count": 10,
   "metadata": {},
   "outputs": [],
   "source": [
    "zipcode_data=data[3].copy()\n",
    "town_data=data[4].copy()"
   ]
  },
  {
   "cell_type": "code",
   "execution_count": 11,
   "metadata": {
    "scrolled": true
   },
   "outputs": [
    {
     "data": {
      "text/html": [
       "<div>\n",
       "<style scoped>\n",
       "    .dataframe tbody tr th:only-of-type {\n",
       "        vertical-align: middle;\n",
       "    }\n",
       "\n",
       "    .dataframe tbody tr th {\n",
       "        vertical-align: top;\n",
       "    }\n",
       "\n",
       "    .dataframe thead th {\n",
       "        text-align: right;\n",
       "    }\n",
       "</style>\n",
       "<table border=\"1\" class=\"dataframe\">\n",
       "  <thead>\n",
       "    <tr style=\"text-align: right;\">\n",
       "      <th></th>\n",
       "      <th>TownID</th>\n",
       "      <th>Town</th>\n",
       "      <th>Nprojects</th>\n",
       "      <th>Nacres</th>\n",
       "      <th>Nmembers</th>\n",
       "      <th>MedianHHIncome</th>\n",
       "      <th>MeanHHIncome</th>\n",
       "      <th>PercBAplus</th>\n",
       "      <th>PercAge55Plus</th>\n",
       "    </tr>\n",
       "  </thead>\n",
       "  <tbody>\n",
       "    <tr>\n",
       "      <th>0</th>\n",
       "      <td>1</td>\n",
       "      <td>Bath</td>\n",
       "      <td>9</td>\n",
       "      <td>746.00</td>\n",
       "      <td>0</td>\n",
       "      <td>47386</td>\n",
       "      <td>60413</td>\n",
       "      <td>25.274725</td>\n",
       "      <td>48.844538</td>\n",
       "    </tr>\n",
       "    <tr>\n",
       "      <th>1</th>\n",
       "      <td>2</td>\n",
       "      <td>Bradford</td>\n",
       "      <td>20</td>\n",
       "      <td>2258.32</td>\n",
       "      <td>7</td>\n",
       "      <td>48056</td>\n",
       "      <td>58716</td>\n",
       "      <td>30.600000</td>\n",
       "      <td>32.912306</td>\n",
       "    </tr>\n",
       "    <tr>\n",
       "      <th>2</th>\n",
       "      <td>3</td>\n",
       "      <td>Canaan</td>\n",
       "      <td>9</td>\n",
       "      <td>1676.35</td>\n",
       "      <td>10</td>\n",
       "      <td>58333</td>\n",
       "      <td>68870</td>\n",
       "      <td>25.300000</td>\n",
       "      <td>33.863520</td>\n",
       "    </tr>\n",
       "    <tr>\n",
       "      <th>3</th>\n",
       "      <td>4</td>\n",
       "      <td>Cavendish</td>\n",
       "      <td>0</td>\n",
       "      <td>0.00</td>\n",
       "      <td>0</td>\n",
       "      <td>48750</td>\n",
       "      <td>69230</td>\n",
       "      <td>31.001727</td>\n",
       "      <td>40.359043</td>\n",
       "    </tr>\n",
       "    <tr>\n",
       "      <th>4</th>\n",
       "      <td>5</td>\n",
       "      <td>Charlestown</td>\n",
       "      <td>2</td>\n",
       "      <td>408.90</td>\n",
       "      <td>2</td>\n",
       "      <td>42693</td>\n",
       "      <td>50823</td>\n",
       "      <td>14.300000</td>\n",
       "      <td>36.050905</td>\n",
       "    </tr>\n",
       "  </tbody>\n",
       "</table>\n",
       "</div>"
      ],
      "text/plain": [
       "   TownID         Town  Nprojects   Nacres  Nmembers  MedianHHIncome  \\\n",
       "0       1         Bath          9   746.00         0           47386   \n",
       "1       2     Bradford         20  2258.32         7           48056   \n",
       "2       3       Canaan          9  1676.35        10           58333   \n",
       "3       4    Cavendish          0     0.00         0           48750   \n",
       "4       5  Charlestown          2   408.90         2           42693   \n",
       "\n",
       "   MeanHHIncome  PercBAplus  PercAge55Plus  \n",
       "0         60413   25.274725      48.844538  \n",
       "1         58716   30.600000      32.912306  \n",
       "2         68870   25.300000      33.863520  \n",
       "3         69230   31.001727      40.359043  \n",
       "4         50823   14.300000      36.050905  "
      ]
     },
     "execution_count": 11,
     "metadata": {},
     "output_type": "execute_result"
    }
   ],
   "source": [
    "town_data.head()"
   ]
  },
  {
   "cell_type": "code",
   "execution_count": 12,
   "metadata": {},
   "outputs": [
    {
     "data": {
      "text/html": [
       "<div>\n",
       "<style scoped>\n",
       "    .dataframe tbody tr th:only-of-type {\n",
       "        vertical-align: middle;\n",
       "    }\n",
       "\n",
       "    .dataframe tbody tr th {\n",
       "        vertical-align: top;\n",
       "    }\n",
       "\n",
       "    .dataframe thead th {\n",
       "        text-align: right;\n",
       "    }\n",
       "</style>\n",
       "<table border=\"1\" class=\"dataframe\">\n",
       "  <thead>\n",
       "    <tr style=\"text-align: right;\">\n",
       "      <th></th>\n",
       "      <th>Town</th>\n",
       "      <th>Avg UR Donations</th>\n",
       "      <th>Avg # UR Donations</th>\n",
       "      <th>Avg R Donations</th>\n",
       "      <th>Avg # R Donations</th>\n",
       "      <th>Avg Volunteer Occurances</th>\n",
       "      <th>Avg Event Attendances</th>\n",
       "      <th>TownID</th>\n",
       "      <th>Nprojects</th>\n",
       "      <th>Nacres</th>\n",
       "      <th>Nmembers</th>\n",
       "      <th>MedianHHIncome</th>\n",
       "      <th>MeanHHIncome</th>\n",
       "      <th>PercBAplus</th>\n",
       "      <th>PercAge55Plus</th>\n",
       "    </tr>\n",
       "  </thead>\n",
       "  <tbody>\n",
       "    <tr>\n",
       "      <th>0</th>\n",
       "      <td>Bath</td>\n",
       "      <td>0.000000</td>\n",
       "      <td>0.000000</td>\n",
       "      <td>0.000000</td>\n",
       "      <td>0.000000</td>\n",
       "      <td>0.000000</td>\n",
       "      <td>0.000000</td>\n",
       "      <td>1</td>\n",
       "      <td>9</td>\n",
       "      <td>746.00</td>\n",
       "      <td>0</td>\n",
       "      <td>47386</td>\n",
       "      <td>60413</td>\n",
       "      <td>25.274725</td>\n",
       "      <td>48.844538</td>\n",
       "    </tr>\n",
       "    <tr>\n",
       "      <th>1</th>\n",
       "      <td>Bradford</td>\n",
       "      <td>45.607143</td>\n",
       "      <td>0.878571</td>\n",
       "      <td>407.857143</td>\n",
       "      <td>0.035714</td>\n",
       "      <td>0.164286</td>\n",
       "      <td>0.457143</td>\n",
       "      <td>2</td>\n",
       "      <td>20</td>\n",
       "      <td>2258.32</td>\n",
       "      <td>7</td>\n",
       "      <td>48056</td>\n",
       "      <td>58716</td>\n",
       "      <td>30.600000</td>\n",
       "      <td>32.912306</td>\n",
       "    </tr>\n",
       "    <tr>\n",
       "      <th>2</th>\n",
       "      <td>Canaan</td>\n",
       "      <td>90.153541</td>\n",
       "      <td>1.009569</td>\n",
       "      <td>3.110048</td>\n",
       "      <td>0.014354</td>\n",
       "      <td>0.272727</td>\n",
       "      <td>0.315789</td>\n",
       "      <td>3</td>\n",
       "      <td>9</td>\n",
       "      <td>1676.35</td>\n",
       "      <td>10</td>\n",
       "      <td>58333</td>\n",
       "      <td>68870</td>\n",
       "      <td>25.300000</td>\n",
       "      <td>33.863520</td>\n",
       "    </tr>\n",
       "    <tr>\n",
       "      <th>3</th>\n",
       "      <td>Cavendish</td>\n",
       "      <td>0.000000</td>\n",
       "      <td>0.000000</td>\n",
       "      <td>0.000000</td>\n",
       "      <td>0.000000</td>\n",
       "      <td>0.000000</td>\n",
       "      <td>0.000000</td>\n",
       "      <td>4</td>\n",
       "      <td>0</td>\n",
       "      <td>0.00</td>\n",
       "      <td>0</td>\n",
       "      <td>48750</td>\n",
       "      <td>69230</td>\n",
       "      <td>31.001727</td>\n",
       "      <td>40.359043</td>\n",
       "    </tr>\n",
       "    <tr>\n",
       "      <th>4</th>\n",
       "      <td>Charlestown</td>\n",
       "      <td>22.196262</td>\n",
       "      <td>0.308411</td>\n",
       "      <td>5.607477</td>\n",
       "      <td>0.018692</td>\n",
       "      <td>0.093458</td>\n",
       "      <td>0.214953</td>\n",
       "      <td>5</td>\n",
       "      <td>2</td>\n",
       "      <td>408.90</td>\n",
       "      <td>2</td>\n",
       "      <td>42693</td>\n",
       "      <td>50823</td>\n",
       "      <td>14.300000</td>\n",
       "      <td>36.050905</td>\n",
       "    </tr>\n",
       "  </tbody>\n",
       "</table>\n",
       "</div>"
      ],
      "text/plain": [
       "          Town  Avg UR Donations  Avg # UR Donations  Avg R Donations  \\\n",
       "0         Bath          0.000000            0.000000         0.000000   \n",
       "1     Bradford         45.607143            0.878571       407.857143   \n",
       "2       Canaan         90.153541            1.009569         3.110048   \n",
       "3    Cavendish          0.000000            0.000000         0.000000   \n",
       "4  Charlestown         22.196262            0.308411         5.607477   \n",
       "\n",
       "   Avg # R Donations  Avg Volunteer Occurances  Avg Event Attendances  TownID  \\\n",
       "0           0.000000                  0.000000               0.000000       1   \n",
       "1           0.035714                  0.164286               0.457143       2   \n",
       "2           0.014354                  0.272727               0.315789       3   \n",
       "3           0.000000                  0.000000               0.000000       4   \n",
       "4           0.018692                  0.093458               0.214953       5   \n",
       "\n",
       "   Nprojects   Nacres  Nmembers  MedianHHIncome  MeanHHIncome  PercBAplus  \\\n",
       "0          9   746.00         0           47386         60413   25.274725   \n",
       "1         20  2258.32         7           48056         58716   30.600000   \n",
       "2          9  1676.35        10           58333         68870   25.300000   \n",
       "3          0     0.00         0           48750         69230   31.001727   \n",
       "4          2   408.90         2           42693         50823   14.300000   \n",
       "\n",
       "   PercAge55Plus  \n",
       "0      48.844538  \n",
       "1      32.912306  \n",
       "2      33.863520  \n",
       "3      40.359043  \n",
       "4      36.050905  "
      ]
     },
     "execution_count": 12,
     "metadata": {},
     "output_type": "execute_result"
    }
   ],
   "source": [
    "#merge town demographics to main averages DataFrame\n",
    "avg_data = pd.merge(avg_data, town_data, on=\"Town\")\n",
    "avg_data.drop(['TownID'], axis=1)\n",
    "avg_data.fillna(0, inplace=True)\n",
    "avg_data.head()"
   ]
  },
  {
   "cell_type": "code",
   "execution_count": 25,
   "metadata": {},
   "outputs": [
    {
     "data": {
      "application/vnd.plotly.v1+json": {
       "config": {
        "linkText": "Export to plot.ly",
        "plotlyServerURL": "https://plot.ly",
        "showLink": false
       },
       "data": [
        {
         "hovertemplate": "<b>%{hovertext}</b><br><br>MedianHHIncome=%{x}<br>Avg UR Donations=%{y}<br>Nmembers=%{marker.size}<br>Avg # UR Donations=%{marker.color}<extra></extra>",
         "hovertext": [
          "Bath",
          "Bradford",
          "Canaan",
          "Cavendish",
          "Charlestown",
          "Chelsea",
          "Claremont",
          "Corinth",
          "Cornish",
          "Croydon",
          "Dorchester",
          "Enfield",
          "Fairlee",
          "Grafton",
          "Grantham",
          "Hanover",
          "Hartford",
          "Hartland",
          "Haverhill",
          "Lebanon",
          "Lyme",
          "Newbury",
          "Newport",
          "Norwich",
          "Orange",
          "Orford",
          "Piermont",
          "Plainfield",
          "Pomfret",
          "Reading",
          "Royalton",
          "Ryegate",
          "Sharon",
          "Springfield",
          "Strafford",
          "Thetford",
          "Topsham",
          "Tunbridge",
          "Unity",
          "Vershire",
          "Weathersfield",
          "West Fairlee",
          "West Windsor",
          "Windsor",
          "Woodstock"
         ],
         "legendgroup": "",
         "marker": {
          "cmax": 1.9878048780487805,
          "cmin": 0,
          "color": [
           0,
           0.8785714285714286,
           1.0095693779904307,
           0,
           0.308411214953271,
           0.21666666666666667,
           0.18902439024390244,
           0.42391304347826086,
           1.1884816753926701,
           0,
           0,
           1.076086956521739,
           0.9464285714285714,
           0.59375,
           0.8636363636363636,
           1.9401041666666667,
           0.7713310580204779,
           0.6888888888888889,
           1.9878048780487805,
           1.3008130081300813,
           1.9174311926605505,
           0.6565656565656566,
           0,
           1.478713339640492,
           0,
           1.379746835443038,
           1.1363636363636365,
           1.3644859813084111,
           1.141025641025641,
           0.19148936170212766,
           0.5766871165644172,
           0.6666666666666666,
           0.6842105263157895,
           0.6055555555555555,
           0.9601769911504425,
           1.4878048780487805,
           0.03571428571428571,
           0.589041095890411,
           0,
           1.064516129032258,
           1.0506329113924051,
           0,
           0.6842105263157895,
           0.7960199004975125,
           0.8623188405797102
          ],
          "colorbar": {
           "title": {
            "text": "Avg # UR Donations"
           }
          },
          "colorscale": [
           [
            0,
            "rgb(158,1,66)"
           ],
           [
            0.1,
            "rgb(213,62,79)"
           ],
           [
            0.2,
            "rgb(244,109,67)"
           ],
           [
            0.3,
            "rgb(253,174,97)"
           ],
           [
            0.4,
            "rgb(254,224,139)"
           ],
           [
            0.5,
            "rgb(255,255,191)"
           ],
           [
            0.6,
            "rgb(230,245,152)"
           ],
           [
            0.7,
            "rgb(171,221,164)"
           ],
           [
            0.8,
            "rgb(102,194,165)"
           ],
           [
            0.9,
            "rgb(50,136,189)"
           ],
           [
            1,
            "rgb(94,79,162)"
           ]
          ],
          "showscale": true,
          "size": [
           0,
           7,
           10,
           0,
           2,
           1,
           0,
           3,
           11,
           0,
           0,
           20,
           10,
           1,
           11,
           153,
           25,
           8,
           9,
           55,
           59,
           8,
           2,
           79,
           0,
           11,
           6,
           25,
           12,
           2,
           10,
           3,
           7,
           5,
           10,
           52,
           0,
           3,
           0,
           2,
           4,
           0,
           12,
           3,
           19
          ],
          "sizemode": "area",
          "sizeref": 0.0612,
          "symbol": "circle"
         },
         "mode": "markers",
         "name": " ",
         "showlegend": false,
         "type": "scatter",
         "uid": "bb507efc-71d3-44fa-9f54-c43dd11b9316",
         "x": [
          47386,
          48056,
          58333,
          48750,
          42693,
          58333,
          45510,
          56719,
          75417,
          71094,
          56719,
          79907,
          67100,
          45958,
          96875,
          94063,
          56577,
          54931,
          46892,
          52825,
          110781,
          46134,
          53900,
          90104,
          63750,
          76339,
          72841,
          99625,
          73802,
          59583,
          39484,
          49844,
          60781,
          43777,
          57500,
          72768,
          56667,
          61438,
          57917,
          47500,
          61447,
          50625,
          66705,
          36600,
          76686
         ],
         "xaxis": "x",
         "y": [
          0,
          45.607142857142854,
          90.15354066985645,
          0,
          22.19626168224299,
          11.833333333333334,
          28.274390243902438,
          51.08695652173913,
          106.83246073298429,
          0,
          0,
          209.91445652173914,
          123.97678571428571,
          52.8125,
          121.98051948051948,
          1018.2553541666664,
          482.1740784982935,
          47.044444444444444,
          189.4512195121951,
          257.6893031358885,
          1476.0800366972478,
          171.31313131313132,
          0,
          889.002261116367,
          0,
          357.6741772151899,
          2837.9931818181817,
          874.4666666666668,
          2723.3624358974357,
          24.25531914893617,
          43.987730061349694,
          200.77960784313726,
          94.11926315789474,
          116.01466666666667,
          306.5364601769911,
          197.98382113821137,
          8.928571428571429,
          51.36986301369863,
          0,
          399.51612903225805,
          113.10126582278481,
          0,
          852.4944736842104,
          97.98507462686567,
          459.10101449275356
         ],
         "yaxis": "y"
        }
       ],
       "layout": {
        "grid": {
         "xaxes": [
          "x"
         ],
         "xgap": 0.1,
         "xside": "bottom",
         "yaxes": [
          "y"
         ],
         "ygap": 0.1,
         "yside": "left"
        },
        "height": 600,
        "legend": {
         "tracegroupgap": 0
        },
        "margin": {
         "t": 60
        },
        "template": {
         "data": {
          "bar": [
           {
            "marker": {
             "line": {
              "color": "#E5ECF6",
              "width": 0.5
             }
            },
            "type": "bar"
           }
          ],
          "barpolar": [
           {
            "marker": {
             "line": {
              "color": "#E5ECF6",
              "width": 0.5
             }
            },
            "type": "barpolar"
           }
          ],
          "carpet": [
           {
            "aaxis": {
             "endlinecolor": "#2a3f5f",
             "gridcolor": "white",
             "linecolor": "white",
             "minorgridcolor": "white",
             "startlinecolor": "#2a3f5f"
            },
            "baxis": {
             "endlinecolor": "#2a3f5f",
             "gridcolor": "white",
             "linecolor": "white",
             "minorgridcolor": "white",
             "startlinecolor": "#2a3f5f"
            },
            "type": "carpet"
           }
          ],
          "choropleth": [
           {
            "colorbar": {
             "outlinewidth": 0,
             "ticks": ""
            },
            "type": "choropleth"
           }
          ],
          "contour": [
           {
            "autocolorscale": true,
            "colorbar": {
             "outlinewidth": 0,
             "ticks": ""
            },
            "type": "contour"
           }
          ],
          "contourcarpet": [
           {
            "colorbar": {
             "outlinewidth": 0,
             "ticks": ""
            },
            "type": "contourcarpet"
           }
          ],
          "heatmap": [
           {
            "autocolorscale": true,
            "colorbar": {
             "outlinewidth": 0,
             "ticks": ""
            },
            "type": "heatmap"
           }
          ],
          "heatmapgl": [
           {
            "colorbar": {
             "outlinewidth": 0,
             "ticks": ""
            },
            "type": "heatmapgl"
           }
          ],
          "histogram": [
           {
            "marker": {
             "colorbar": {
              "outlinewidth": 0,
              "ticks": ""
             }
            },
            "type": "histogram"
           }
          ],
          "histogram2d": [
           {
            "autocolorscale": true,
            "colorbar": {
             "outlinewidth": 0,
             "ticks": ""
            },
            "type": "histogram2d"
           }
          ],
          "histogram2dcontour": [
           {
            "autocolorscale": true,
            "colorbar": {
             "outlinewidth": 0,
             "ticks": ""
            },
            "type": "histogram2dcontour"
           }
          ],
          "mesh3d": [
           {
            "colorbar": {
             "outlinewidth": 0,
             "ticks": ""
            },
            "type": "mesh3d"
           }
          ],
          "parcoords": [
           {
            "line": {
             "colorbar": {
              "outlinewidth": 0,
              "ticks": ""
             }
            },
            "type": "parcoords"
           }
          ],
          "scatter": [
           {
            "marker": {
             "colorbar": {
              "outlinewidth": 0,
              "ticks": ""
             }
            },
            "type": "scatter"
           }
          ],
          "scatter3d": [
           {
            "marker": {
             "colorbar": {
              "outlinewidth": 0,
              "ticks": ""
             }
            },
            "type": "scatter3d"
           }
          ],
          "scattercarpet": [
           {
            "marker": {
             "colorbar": {
              "outlinewidth": 0,
              "ticks": ""
             }
            },
            "type": "scattercarpet"
           }
          ],
          "scattergeo": [
           {
            "marker": {
             "colorbar": {
              "outlinewidth": 0,
              "ticks": ""
             }
            },
            "type": "scattergeo"
           }
          ],
          "scattergl": [
           {
            "marker": {
             "colorbar": {
              "outlinewidth": 0,
              "ticks": ""
             }
            },
            "type": "scattergl"
           }
          ],
          "scattermapbox": [
           {
            "marker": {
             "colorbar": {
              "outlinewidth": 0,
              "ticks": ""
             }
            },
            "type": "scattermapbox"
           }
          ],
          "scatterpolar": [
           {
            "marker": {
             "colorbar": {
              "outlinewidth": 0,
              "ticks": ""
             }
            },
            "type": "scatterpolar"
           }
          ],
          "scatterpolargl": [
           {
            "marker": {
             "colorbar": {
              "outlinewidth": 0,
              "ticks": ""
             }
            },
            "type": "scatterpolargl"
           }
          ],
          "scatterternary": [
           {
            "marker": {
             "colorbar": {
              "outlinewidth": 0,
              "ticks": ""
             }
            },
            "type": "scatterternary"
           }
          ],
          "surface": [
           {
            "colorbar": {
             "outlinewidth": 0,
             "ticks": ""
            },
            "type": "surface"
           }
          ],
          "table": [
           {
            "cells": {
             "fill": {
              "color": "#EBF0F8"
             },
             "line": {
              "color": "white"
             }
            },
            "header": {
             "fill": {
              "color": "#C8D4E3"
             },
             "line": {
              "color": "white"
             }
            },
            "type": "table"
           }
          ]
         },
         "layout": {
          "annotationdefaults": {
           "arrowcolor": "#506784",
           "arrowhead": 0,
           "arrowwidth": 1
          },
          "colorscale": {
           "diverging": [
            [
             0,
             "#8e0152"
            ],
            [
             0.1,
             "#c51b7d"
            ],
            [
             0.2,
             "#de77ae"
            ],
            [
             0.3,
             "#f1b6da"
            ],
            [
             0.4,
             "#fde0ef"
            ],
            [
             0.5,
             "#f7f7f7"
            ],
            [
             0.6,
             "#e6f5d0"
            ],
            [
             0.7,
             "#b8e186"
            ],
            [
             0.8,
             "#7fbc41"
            ],
            [
             0.9,
             "#4d9221"
            ],
            [
             1,
             "#276419"
            ]
           ],
           "sequential": [
            [
             0,
             "#0508b8"
            ],
            [
             0.0893854748603352,
             "#1910d8"
            ],
            [
             0.1787709497206704,
             "#3c19f0"
            ],
            [
             0.2681564245810056,
             "#6b1cfb"
            ],
            [
             0.3575418994413408,
             "#981cfd"
            ],
            [
             0.44692737430167595,
             "#bf1cfd"
            ],
            [
             0.5363128491620112,
             "#dd2bfd"
            ],
            [
             0.6256983240223464,
             "#f246fe"
            ],
            [
             0.7150837988826816,
             "#fc67fd"
            ],
            [
             0.8044692737430168,
             "#fe88fc"
            ],
            [
             0.8938547486033519,
             "#fea5fd"
            ],
            [
             0.9832402234636871,
             "#febefe"
            ],
            [
             1,
             "#fec3fe"
            ]
           ],
           "sequentialminus": [
            [
             0,
             "#0508b8"
            ],
            [
             0.0893854748603352,
             "#1910d8"
            ],
            [
             0.1787709497206704,
             "#3c19f0"
            ],
            [
             0.2681564245810056,
             "#6b1cfb"
            ],
            [
             0.3575418994413408,
             "#981cfd"
            ],
            [
             0.44692737430167595,
             "#bf1cfd"
            ],
            [
             0.5363128491620112,
             "#dd2bfd"
            ],
            [
             0.6256983240223464,
             "#f246fe"
            ],
            [
             0.7150837988826816,
             "#fc67fd"
            ],
            [
             0.8044692737430168,
             "#fe88fc"
            ],
            [
             0.8938547486033519,
             "#fea5fd"
            ],
            [
             0.9832402234636871,
             "#febefe"
            ],
            [
             1,
             "#fec3fe"
            ]
           ]
          },
          "colorway": [
           "#636efa",
           "#EF553B",
           "#00cc96",
           "#ab63fa",
           "#19d3f3",
           "#e763fa",
           "#FECB52",
           "#FFA15A",
           "#FF6692",
           "#B6E880"
          ],
          "font": {
           "color": "#2a3f5f"
          },
          "geo": {
           "bgcolor": "white",
           "lakecolor": "white",
           "landcolor": "#E5ECF6",
           "showlakes": true,
           "showland": true,
           "subunitcolor": "white"
          },
          "hovermode": "closest",
          "mapbox": {
           "style": "light"
          },
          "paper_bgcolor": "white",
          "plot_bgcolor": "#E5ECF6",
          "polar": {
           "angularaxis": {
            "gridcolor": "white",
            "linecolor": "white",
            "ticks": ""
           },
           "bgcolor": "#E5ECF6",
           "radialaxis": {
            "gridcolor": "white",
            "linecolor": "white",
            "ticks": ""
           }
          },
          "scene": {
           "xaxis": {
            "backgroundcolor": "#E5ECF6",
            "gridcolor": "white",
            "gridwidth": 2,
            "linecolor": "white",
            "showbackground": true,
            "ticks": "",
            "zerolinecolor": "white"
           },
           "yaxis": {
            "backgroundcolor": "#E5ECF6",
            "gridcolor": "white",
            "gridwidth": 2,
            "linecolor": "white",
            "showbackground": true,
            "ticks": "",
            "zerolinecolor": "white"
           },
           "zaxis": {
            "backgroundcolor": "#E5ECF6",
            "gridcolor": "white",
            "gridwidth": 2,
            "linecolor": "white",
            "showbackground": true,
            "ticks": "",
            "zerolinecolor": "white"
           }
          },
          "shapedefaults": {
           "fillcolor": "#506784",
           "line": {
            "width": 0
           },
           "opacity": 0.4
          },
          "ternary": {
           "aaxis": {
            "gridcolor": "white",
            "linecolor": "white",
            "ticks": ""
           },
           "baxis": {
            "gridcolor": "white",
            "linecolor": "white",
            "ticks": ""
           },
           "bgcolor": "#E5ECF6",
           "caxis": {
            "gridcolor": "white",
            "linecolor": "white",
            "ticks": ""
           }
          },
          "title": {
           "x": 0.05
          },
          "xaxis": {
           "automargin": true,
           "gridcolor": "white",
           "linecolor": "white",
           "ticks": "",
           "zerolinecolor": "white",
           "zerolinewidth": 2
          },
          "yaxis": {
           "automargin": true,
           "gridcolor": "white",
           "linecolor": "white",
           "ticks": "",
           "zerolinecolor": "white",
           "zerolinewidth": 2
          }
         }
        },
        "xaxis": {
         "title": {
          "text": "MedianHHIncome"
         },
         "type": "log"
        },
        "yaxis": {
         "title": {
          "text": "Avg UR Donations"
         }
        }
       }
      },
      "text/html": [
       "<div id=\"5b63fb52-07e6-4267-96ae-4d56ca75c9d2\" style=\"height: 600px; width: 100%;\" class=\"plotly-graph-div\"></div><script type=\"text/javascript\">require([\"plotly\"], function(Plotly) { window.PLOTLYENV=window.PLOTLYENV || {};window.PLOTLYENV.BASE_URL=\"https://plot.ly\";\n",
       "if (document.getElementById(\"5b63fb52-07e6-4267-96ae-4d56ca75c9d2\")) {\n",
       "    Plotly.newPlot(\"5b63fb52-07e6-4267-96ae-4d56ca75c9d2\", [{\"hovertemplate\": \"<b>%{hovertext}</b><br><br>MedianHHIncome=%{x}<br>Avg UR Donations=%{y}<br>Nmembers=%{marker.size}<br>Avg # UR Donations=%{marker.color}<extra></extra>\", \"hovertext\": [\"Bath\", \"Bradford\", \"Canaan\", \"Cavendish\", \"Charlestown\", \"Chelsea\", \"Claremont\", \"Corinth\", \"Cornish\", \"Croydon\", \"Dorchester\", \"Enfield\", \"Fairlee\", \"Grafton\", \"Grantham\", \"Hanover\", \"Hartford\", \"Hartland\", \"Haverhill\", \"Lebanon\", \"Lyme\", \"Newbury\", \"Newport\", \"Norwich\", \"Orange\", \"Orford\", \"Piermont\", \"Plainfield\", \"Pomfret\", \"Reading\", \"Royalton\", \"Ryegate\", \"Sharon\", \"Springfield\", \"Strafford\", \"Thetford\", \"Topsham\", \"Tunbridge\", \"Unity\", \"Vershire\", \"Weathersfield\", \"West Fairlee\", \"West Windsor\", \"Windsor\", \"Woodstock\"], \"legendgroup\": \"\", \"marker\": {\"cmax\": 1.9878048780487805, \"cmin\": 0.0, \"color\": [0.0, 0.8785714285714286, 1.0095693779904307, 0.0, 0.308411214953271, 0.21666666666666667, 0.18902439024390244, 0.42391304347826086, 1.1884816753926701, 0.0, 0.0, 1.076086956521739, 0.9464285714285714, 0.59375, 0.8636363636363636, 1.9401041666666667, 0.7713310580204779, 0.6888888888888889, 1.9878048780487805, 1.3008130081300813, 1.9174311926605505, 0.6565656565656566, 0.0, 1.478713339640492, 0.0, 1.379746835443038, 1.1363636363636365, 1.3644859813084111, 1.141025641025641, 0.19148936170212766, 0.5766871165644172, 0.6666666666666666, 0.6842105263157895, 0.6055555555555555, 0.9601769911504425, 1.4878048780487805, 0.03571428571428571, 0.589041095890411, 0.0, 1.064516129032258, 1.0506329113924051, 0.0, 0.6842105263157895, 0.7960199004975125, 0.8623188405797102], \"colorbar\": {\"title\": {\"text\": \"Avg # UR Donations\"}}, \"colorscale\": [[0.0, \"rgb(158,1,66)\"], [0.1, \"rgb(213,62,79)\"], [0.2, \"rgb(244,109,67)\"], [0.3, \"rgb(253,174,97)\"], [0.4, \"rgb(254,224,139)\"], [0.5, \"rgb(255,255,191)\"], [0.6, \"rgb(230,245,152)\"], [0.7, \"rgb(171,221,164)\"], [0.8, \"rgb(102,194,165)\"], [0.9, \"rgb(50,136,189)\"], [1.0, \"rgb(94,79,162)\"]], \"showscale\": true, \"size\": [0, 7, 10, 0, 2, 1, 0, 3, 11, 0, 0, 20, 10, 1, 11, 153, 25, 8, 9, 55, 59, 8, 2, 79, 0, 11, 6, 25, 12, 2, 10, 3, 7, 5, 10, 52, 0, 3, 0, 2, 4, 0, 12, 3, 19], \"sizemode\": \"area\", \"sizeref\": 0.0612, \"symbol\": \"circle\"}, \"mode\": \"markers\", \"name\": \" \", \"showlegend\": false, \"x\": [47386, 48056, 58333, 48750, 42693, 58333, 45510, 56719, 75417, 71094, 56719, 79907, 67100, 45958, 96875, 94063, 56577, 54931, 46892, 52825, 110781, 46134, 53900, 90104, 63750, 76339, 72841, 99625, 73802, 59583, 39484, 49844, 60781, 43777, 57500, 72768, 56667, 61438, 57917, 47500, 61447, 50625, 66705, 36600, 76686], \"xaxis\": \"x\", \"y\": [0.0, 45.607142857142854, 90.15354066985645, 0.0, 22.19626168224299, 11.833333333333334, 28.274390243902438, 51.08695652173913, 106.83246073298429, 0.0, 0.0, 209.91445652173914, 123.97678571428571, 52.8125, 121.98051948051948, 1018.2553541666664, 482.1740784982935, 47.044444444444444, 189.4512195121951, 257.6893031358885, 1476.0800366972478, 171.31313131313132, 0.0, 889.002261116367, 0.0, 357.6741772151899, 2837.9931818181817, 874.4666666666668, 2723.3624358974357, 24.25531914893617, 43.987730061349694, 200.77960784313726, 94.11926315789474, 116.01466666666667, 306.5364601769911, 197.98382113821137, 8.928571428571429, 51.36986301369863, 0.0, 399.51612903225805, 113.10126582278481, 0.0, 852.4944736842104, 97.98507462686567, 459.10101449275356], \"yaxis\": \"y\", \"type\": \"scatter\", \"uid\": \"bb507efc-71d3-44fa-9f54-c43dd11b9316\"}], {\"height\": 600, \"legend\": {\"tracegroupgap\": 0}, \"margin\": {\"t\": 60}, \"template\": {\"data\": {\"barpolar\": [{\"marker\": {\"line\": {\"color\": \"#E5ECF6\", \"width\": 0.5}}, \"type\": \"barpolar\"}], \"bar\": [{\"marker\": {\"line\": {\"color\": \"#E5ECF6\", \"width\": 0.5}}, \"type\": \"bar\"}], \"carpet\": [{\"aaxis\": {\"endlinecolor\": \"#2a3f5f\", \"gridcolor\": \"white\", \"linecolor\": \"white\", \"minorgridcolor\": \"white\", \"startlinecolor\": \"#2a3f5f\"}, \"baxis\": {\"endlinecolor\": \"#2a3f5f\", \"gridcolor\": \"white\", \"linecolor\": \"white\", \"minorgridcolor\": \"white\", \"startlinecolor\": \"#2a3f5f\"}, \"type\": \"carpet\"}], \"choropleth\": [{\"colorbar\": {\"outlinewidth\": 0, \"ticks\": \"\"}, \"type\": \"choropleth\"}], \"contourcarpet\": [{\"colorbar\": {\"outlinewidth\": 0, \"ticks\": \"\"}, \"type\": \"contourcarpet\"}], \"contour\": [{\"autocolorscale\": true, \"colorbar\": {\"outlinewidth\": 0, \"ticks\": \"\"}, \"type\": \"contour\"}], \"heatmapgl\": [{\"colorbar\": {\"outlinewidth\": 0, \"ticks\": \"\"}, \"type\": \"heatmapgl\"}], \"heatmap\": [{\"autocolorscale\": true, \"colorbar\": {\"outlinewidth\": 0, \"ticks\": \"\"}, \"type\": \"heatmap\"}], \"histogram2dcontour\": [{\"autocolorscale\": true, \"colorbar\": {\"outlinewidth\": 0, \"ticks\": \"\"}, \"type\": \"histogram2dcontour\"}], \"histogram2d\": [{\"autocolorscale\": true, \"colorbar\": {\"outlinewidth\": 0, \"ticks\": \"\"}, \"type\": \"histogram2d\"}], \"histogram\": [{\"marker\": {\"colorbar\": {\"outlinewidth\": 0, \"ticks\": \"\"}}, \"type\": \"histogram\"}], \"mesh3d\": [{\"colorbar\": {\"outlinewidth\": 0, \"ticks\": \"\"}, \"type\": \"mesh3d\"}], \"parcoords\": [{\"line\": {\"colorbar\": {\"outlinewidth\": 0, \"ticks\": \"\"}}, \"type\": \"parcoords\"}], \"scatter3d\": [{\"marker\": {\"colorbar\": {\"outlinewidth\": 0, \"ticks\": \"\"}}, \"type\": \"scatter3d\"}], \"scattercarpet\": [{\"marker\": {\"colorbar\": {\"outlinewidth\": 0, \"ticks\": \"\"}}, \"type\": \"scattercarpet\"}], \"scattergeo\": [{\"marker\": {\"colorbar\": {\"outlinewidth\": 0, \"ticks\": \"\"}}, \"type\": \"scattergeo\"}], \"scattergl\": [{\"marker\": {\"colorbar\": {\"outlinewidth\": 0, \"ticks\": \"\"}}, \"type\": \"scattergl\"}], \"scattermapbox\": [{\"marker\": {\"colorbar\": {\"outlinewidth\": 0, \"ticks\": \"\"}}, \"type\": \"scattermapbox\"}], \"scatterpolargl\": [{\"marker\": {\"colorbar\": {\"outlinewidth\": 0, \"ticks\": \"\"}}, \"type\": \"scatterpolargl\"}], \"scatterpolar\": [{\"marker\": {\"colorbar\": {\"outlinewidth\": 0, \"ticks\": \"\"}}, \"type\": \"scatterpolar\"}], \"scatter\": [{\"marker\": {\"colorbar\": {\"outlinewidth\": 0, \"ticks\": \"\"}}, \"type\": \"scatter\"}], \"scatterternary\": [{\"marker\": {\"colorbar\": {\"outlinewidth\": 0, \"ticks\": \"\"}}, \"type\": \"scatterternary\"}], \"surface\": [{\"colorbar\": {\"outlinewidth\": 0, \"ticks\": \"\"}, \"type\": \"surface\"}], \"table\": [{\"cells\": {\"fill\": {\"color\": \"#EBF0F8\"}, \"line\": {\"color\": \"white\"}}, \"header\": {\"fill\": {\"color\": \"#C8D4E3\"}, \"line\": {\"color\": \"white\"}}, \"type\": \"table\"}]}, \"layout\": {\"annotationdefaults\": {\"arrowcolor\": \"#506784\", \"arrowhead\": 0, \"arrowwidth\": 1}, \"colorscale\": {\"diverging\": [[0, \"#8e0152\"], [0.1, \"#c51b7d\"], [0.2, \"#de77ae\"], [0.3, \"#f1b6da\"], [0.4, \"#fde0ef\"], [0.5, \"#f7f7f7\"], [0.6, \"#e6f5d0\"], [0.7, \"#b8e186\"], [0.8, \"#7fbc41\"], [0.9, \"#4d9221\"], [1, \"#276419\"]], \"sequential\": [[0.0, \"#0508b8\"], [0.0893854748603352, \"#1910d8\"], [0.1787709497206704, \"#3c19f0\"], [0.2681564245810056, \"#6b1cfb\"], [0.3575418994413408, \"#981cfd\"], [0.44692737430167595, \"#bf1cfd\"], [0.5363128491620112, \"#dd2bfd\"], [0.6256983240223464, \"#f246fe\"], [0.7150837988826816, \"#fc67fd\"], [0.8044692737430168, \"#fe88fc\"], [0.8938547486033519, \"#fea5fd\"], [0.9832402234636871, \"#febefe\"], [1.0, \"#fec3fe\"]], \"sequentialminus\": [[0.0, \"#0508b8\"], [0.0893854748603352, \"#1910d8\"], [0.1787709497206704, \"#3c19f0\"], [0.2681564245810056, \"#6b1cfb\"], [0.3575418994413408, \"#981cfd\"], [0.44692737430167595, \"#bf1cfd\"], [0.5363128491620112, \"#dd2bfd\"], [0.6256983240223464, \"#f246fe\"], [0.7150837988826816, \"#fc67fd\"], [0.8044692737430168, \"#fe88fc\"], [0.8938547486033519, \"#fea5fd\"], [0.9832402234636871, \"#febefe\"], [1.0, \"#fec3fe\"]]}, \"colorway\": [\"#636efa\", \"#EF553B\", \"#00cc96\", \"#ab63fa\", \"#19d3f3\", \"#e763fa\", \"#FECB52\", \"#FFA15A\", \"#FF6692\", \"#B6E880\"], \"font\": {\"color\": \"#2a3f5f\"}, \"geo\": {\"bgcolor\": \"white\", \"lakecolor\": \"white\", \"landcolor\": \"#E5ECF6\", \"showlakes\": true, \"showland\": true, \"subunitcolor\": \"white\"}, \"hovermode\": \"closest\", \"mapbox\": {\"style\": \"light\"}, \"paper_bgcolor\": \"white\", \"plot_bgcolor\": \"#E5ECF6\", \"polar\": {\"angularaxis\": {\"gridcolor\": \"white\", \"linecolor\": \"white\", \"ticks\": \"\"}, \"bgcolor\": \"#E5ECF6\", \"radialaxis\": {\"gridcolor\": \"white\", \"linecolor\": \"white\", \"ticks\": \"\"}}, \"scene\": {\"xaxis\": {\"backgroundcolor\": \"#E5ECF6\", \"gridcolor\": \"white\", \"gridwidth\": 2, \"linecolor\": \"white\", \"showbackground\": true, \"ticks\": \"\", \"zerolinecolor\": \"white\"}, \"yaxis\": {\"backgroundcolor\": \"#E5ECF6\", \"gridcolor\": \"white\", \"gridwidth\": 2, \"linecolor\": \"white\", \"showbackground\": true, \"ticks\": \"\", \"zerolinecolor\": \"white\"}, \"zaxis\": {\"backgroundcolor\": \"#E5ECF6\", \"gridcolor\": \"white\", \"gridwidth\": 2, \"linecolor\": \"white\", \"showbackground\": true, \"ticks\": \"\", \"zerolinecolor\": \"white\"}}, \"shapedefaults\": {\"fillcolor\": \"#506784\", \"line\": {\"width\": 0}, \"opacity\": 0.4}, \"ternary\": {\"aaxis\": {\"gridcolor\": \"white\", \"linecolor\": \"white\", \"ticks\": \"\"}, \"baxis\": {\"gridcolor\": \"white\", \"linecolor\": \"white\", \"ticks\": \"\"}, \"bgcolor\": \"#E5ECF6\", \"caxis\": {\"gridcolor\": \"white\", \"linecolor\": \"white\", \"ticks\": \"\"}}, \"title\": {\"x\": 0.05}, \"xaxis\": {\"automargin\": true, \"gridcolor\": \"white\", \"linecolor\": \"white\", \"ticks\": \"\", \"zerolinecolor\": \"white\", \"zerolinewidth\": 2}, \"yaxis\": {\"automargin\": true, \"gridcolor\": \"white\", \"linecolor\": \"white\", \"ticks\": \"\", \"zerolinecolor\": \"white\", \"zerolinewidth\": 2}}}, \"grid\": {\"xaxes\": [\"x\"], \"yaxes\": [\"y\"], \"xgap\": 0.1, \"ygap\": 0.1, \"xside\": \"bottom\", \"yside\": \"left\"}, \"xaxis\": {\"title\": {\"text\": \"MedianHHIncome\"}, \"type\": \"log\"}, \"yaxis\": {\"title\": {\"text\": \"Avg UR Donations\"}}}, {\"showLink\": false, \"linkText\": \"Export to plot.ly\", \"plotlyServerURL\": \"https://plot.ly\"}); \n",
       "}\n",
       "});</script><script type=\"text/javascript\">window.addEventListener(\"resize\", function(){if (document.getElementById(\"5b63fb52-07e6-4267-96ae-4d56ca75c9d2\")) {window._Plotly.Plots.resize(document.getElementById(\"5b63fb52-07e6-4267-96ae-4d56ca75c9d2\"));};})</script>"
      ],
      "text/vnd.plotly.v1+html": [
       "<div id=\"5b63fb52-07e6-4267-96ae-4d56ca75c9d2\" style=\"height: 600px; width: 100%;\" class=\"plotly-graph-div\"></div><script type=\"text/javascript\">require([\"plotly\"], function(Plotly) { window.PLOTLYENV=window.PLOTLYENV || {};window.PLOTLYENV.BASE_URL=\"https://plot.ly\";\n",
       "if (document.getElementById(\"5b63fb52-07e6-4267-96ae-4d56ca75c9d2\")) {\n",
       "    Plotly.newPlot(\"5b63fb52-07e6-4267-96ae-4d56ca75c9d2\", [{\"hovertemplate\": \"<b>%{hovertext}</b><br><br>MedianHHIncome=%{x}<br>Avg UR Donations=%{y}<br>Nmembers=%{marker.size}<br>Avg # UR Donations=%{marker.color}<extra></extra>\", \"hovertext\": [\"Bath\", \"Bradford\", \"Canaan\", \"Cavendish\", \"Charlestown\", \"Chelsea\", \"Claremont\", \"Corinth\", \"Cornish\", \"Croydon\", \"Dorchester\", \"Enfield\", \"Fairlee\", \"Grafton\", \"Grantham\", \"Hanover\", \"Hartford\", \"Hartland\", \"Haverhill\", \"Lebanon\", \"Lyme\", \"Newbury\", \"Newport\", \"Norwich\", \"Orange\", \"Orford\", \"Piermont\", \"Plainfield\", \"Pomfret\", \"Reading\", \"Royalton\", \"Ryegate\", \"Sharon\", \"Springfield\", \"Strafford\", \"Thetford\", \"Topsham\", \"Tunbridge\", \"Unity\", \"Vershire\", \"Weathersfield\", \"West Fairlee\", \"West Windsor\", \"Windsor\", \"Woodstock\"], \"legendgroup\": \"\", \"marker\": {\"cmax\": 1.9878048780487805, \"cmin\": 0.0, \"color\": [0.0, 0.8785714285714286, 1.0095693779904307, 0.0, 0.308411214953271, 0.21666666666666667, 0.18902439024390244, 0.42391304347826086, 1.1884816753926701, 0.0, 0.0, 1.076086956521739, 0.9464285714285714, 0.59375, 0.8636363636363636, 1.9401041666666667, 0.7713310580204779, 0.6888888888888889, 1.9878048780487805, 1.3008130081300813, 1.9174311926605505, 0.6565656565656566, 0.0, 1.478713339640492, 0.0, 1.379746835443038, 1.1363636363636365, 1.3644859813084111, 1.141025641025641, 0.19148936170212766, 0.5766871165644172, 0.6666666666666666, 0.6842105263157895, 0.6055555555555555, 0.9601769911504425, 1.4878048780487805, 0.03571428571428571, 0.589041095890411, 0.0, 1.064516129032258, 1.0506329113924051, 0.0, 0.6842105263157895, 0.7960199004975125, 0.8623188405797102], \"colorbar\": {\"title\": {\"text\": \"Avg # UR Donations\"}}, \"colorscale\": [[0.0, \"rgb(158,1,66)\"], [0.1, \"rgb(213,62,79)\"], [0.2, \"rgb(244,109,67)\"], [0.3, \"rgb(253,174,97)\"], [0.4, \"rgb(254,224,139)\"], [0.5, \"rgb(255,255,191)\"], [0.6, \"rgb(230,245,152)\"], [0.7, \"rgb(171,221,164)\"], [0.8, \"rgb(102,194,165)\"], [0.9, \"rgb(50,136,189)\"], [1.0, \"rgb(94,79,162)\"]], \"showscale\": true, \"size\": [0, 7, 10, 0, 2, 1, 0, 3, 11, 0, 0, 20, 10, 1, 11, 153, 25, 8, 9, 55, 59, 8, 2, 79, 0, 11, 6, 25, 12, 2, 10, 3, 7, 5, 10, 52, 0, 3, 0, 2, 4, 0, 12, 3, 19], \"sizemode\": \"area\", \"sizeref\": 0.0612, \"symbol\": \"circle\"}, \"mode\": \"markers\", \"name\": \" \", \"showlegend\": false, \"x\": [47386, 48056, 58333, 48750, 42693, 58333, 45510, 56719, 75417, 71094, 56719, 79907, 67100, 45958, 96875, 94063, 56577, 54931, 46892, 52825, 110781, 46134, 53900, 90104, 63750, 76339, 72841, 99625, 73802, 59583, 39484, 49844, 60781, 43777, 57500, 72768, 56667, 61438, 57917, 47500, 61447, 50625, 66705, 36600, 76686], \"xaxis\": \"x\", \"y\": [0.0, 45.607142857142854, 90.15354066985645, 0.0, 22.19626168224299, 11.833333333333334, 28.274390243902438, 51.08695652173913, 106.83246073298429, 0.0, 0.0, 209.91445652173914, 123.97678571428571, 52.8125, 121.98051948051948, 1018.2553541666664, 482.1740784982935, 47.044444444444444, 189.4512195121951, 257.6893031358885, 1476.0800366972478, 171.31313131313132, 0.0, 889.002261116367, 0.0, 357.6741772151899, 2837.9931818181817, 874.4666666666668, 2723.3624358974357, 24.25531914893617, 43.987730061349694, 200.77960784313726, 94.11926315789474, 116.01466666666667, 306.5364601769911, 197.98382113821137, 8.928571428571429, 51.36986301369863, 0.0, 399.51612903225805, 113.10126582278481, 0.0, 852.4944736842104, 97.98507462686567, 459.10101449275356], \"yaxis\": \"y\", \"type\": \"scatter\", \"uid\": \"bb507efc-71d3-44fa-9f54-c43dd11b9316\"}], {\"height\": 600, \"legend\": {\"tracegroupgap\": 0}, \"margin\": {\"t\": 60}, \"template\": {\"data\": {\"barpolar\": [{\"marker\": {\"line\": {\"color\": \"#E5ECF6\", \"width\": 0.5}}, \"type\": \"barpolar\"}], \"bar\": [{\"marker\": {\"line\": {\"color\": \"#E5ECF6\", \"width\": 0.5}}, \"type\": \"bar\"}], \"carpet\": [{\"aaxis\": {\"endlinecolor\": \"#2a3f5f\", \"gridcolor\": \"white\", \"linecolor\": \"white\", \"minorgridcolor\": \"white\", \"startlinecolor\": \"#2a3f5f\"}, \"baxis\": {\"endlinecolor\": \"#2a3f5f\", \"gridcolor\": \"white\", \"linecolor\": \"white\", \"minorgridcolor\": \"white\", \"startlinecolor\": \"#2a3f5f\"}, \"type\": \"carpet\"}], \"choropleth\": [{\"colorbar\": {\"outlinewidth\": 0, \"ticks\": \"\"}, \"type\": \"choropleth\"}], \"contourcarpet\": [{\"colorbar\": {\"outlinewidth\": 0, \"ticks\": \"\"}, \"type\": \"contourcarpet\"}], \"contour\": [{\"autocolorscale\": true, \"colorbar\": {\"outlinewidth\": 0, \"ticks\": \"\"}, \"type\": \"contour\"}], \"heatmapgl\": [{\"colorbar\": {\"outlinewidth\": 0, \"ticks\": \"\"}, \"type\": \"heatmapgl\"}], \"heatmap\": [{\"autocolorscale\": true, \"colorbar\": {\"outlinewidth\": 0, \"ticks\": \"\"}, \"type\": \"heatmap\"}], \"histogram2dcontour\": [{\"autocolorscale\": true, \"colorbar\": {\"outlinewidth\": 0, \"ticks\": \"\"}, \"type\": \"histogram2dcontour\"}], \"histogram2d\": [{\"autocolorscale\": true, \"colorbar\": {\"outlinewidth\": 0, \"ticks\": \"\"}, \"type\": \"histogram2d\"}], \"histogram\": [{\"marker\": {\"colorbar\": {\"outlinewidth\": 0, \"ticks\": \"\"}}, \"type\": \"histogram\"}], \"mesh3d\": [{\"colorbar\": {\"outlinewidth\": 0, \"ticks\": \"\"}, \"type\": \"mesh3d\"}], \"parcoords\": [{\"line\": {\"colorbar\": {\"outlinewidth\": 0, \"ticks\": \"\"}}, \"type\": \"parcoords\"}], \"scatter3d\": [{\"marker\": {\"colorbar\": {\"outlinewidth\": 0, \"ticks\": \"\"}}, \"type\": \"scatter3d\"}], \"scattercarpet\": [{\"marker\": {\"colorbar\": {\"outlinewidth\": 0, \"ticks\": \"\"}}, \"type\": \"scattercarpet\"}], \"scattergeo\": [{\"marker\": {\"colorbar\": {\"outlinewidth\": 0, \"ticks\": \"\"}}, \"type\": \"scattergeo\"}], \"scattergl\": [{\"marker\": {\"colorbar\": {\"outlinewidth\": 0, \"ticks\": \"\"}}, \"type\": \"scattergl\"}], \"scattermapbox\": [{\"marker\": {\"colorbar\": {\"outlinewidth\": 0, \"ticks\": \"\"}}, \"type\": \"scattermapbox\"}], \"scatterpolargl\": [{\"marker\": {\"colorbar\": {\"outlinewidth\": 0, \"ticks\": \"\"}}, \"type\": \"scatterpolargl\"}], \"scatterpolar\": [{\"marker\": {\"colorbar\": {\"outlinewidth\": 0, \"ticks\": \"\"}}, \"type\": \"scatterpolar\"}], \"scatter\": [{\"marker\": {\"colorbar\": {\"outlinewidth\": 0, \"ticks\": \"\"}}, \"type\": \"scatter\"}], \"scatterternary\": [{\"marker\": {\"colorbar\": {\"outlinewidth\": 0, \"ticks\": \"\"}}, \"type\": \"scatterternary\"}], \"surface\": [{\"colorbar\": {\"outlinewidth\": 0, \"ticks\": \"\"}, \"type\": \"surface\"}], \"table\": [{\"cells\": {\"fill\": {\"color\": \"#EBF0F8\"}, \"line\": {\"color\": \"white\"}}, \"header\": {\"fill\": {\"color\": \"#C8D4E3\"}, \"line\": {\"color\": \"white\"}}, \"type\": \"table\"}]}, \"layout\": {\"annotationdefaults\": {\"arrowcolor\": \"#506784\", \"arrowhead\": 0, \"arrowwidth\": 1}, \"colorscale\": {\"diverging\": [[0, \"#8e0152\"], [0.1, \"#c51b7d\"], [0.2, \"#de77ae\"], [0.3, \"#f1b6da\"], [0.4, \"#fde0ef\"], [0.5, \"#f7f7f7\"], [0.6, \"#e6f5d0\"], [0.7, \"#b8e186\"], [0.8, \"#7fbc41\"], [0.9, \"#4d9221\"], [1, \"#276419\"]], \"sequential\": [[0.0, \"#0508b8\"], [0.0893854748603352, \"#1910d8\"], [0.1787709497206704, \"#3c19f0\"], [0.2681564245810056, \"#6b1cfb\"], [0.3575418994413408, \"#981cfd\"], [0.44692737430167595, \"#bf1cfd\"], [0.5363128491620112, \"#dd2bfd\"], [0.6256983240223464, \"#f246fe\"], [0.7150837988826816, \"#fc67fd\"], [0.8044692737430168, \"#fe88fc\"], [0.8938547486033519, \"#fea5fd\"], [0.9832402234636871, \"#febefe\"], [1.0, \"#fec3fe\"]], \"sequentialminus\": [[0.0, \"#0508b8\"], [0.0893854748603352, \"#1910d8\"], [0.1787709497206704, \"#3c19f0\"], [0.2681564245810056, \"#6b1cfb\"], [0.3575418994413408, \"#981cfd\"], [0.44692737430167595, \"#bf1cfd\"], [0.5363128491620112, \"#dd2bfd\"], [0.6256983240223464, \"#f246fe\"], [0.7150837988826816, \"#fc67fd\"], [0.8044692737430168, \"#fe88fc\"], [0.8938547486033519, \"#fea5fd\"], [0.9832402234636871, \"#febefe\"], [1.0, \"#fec3fe\"]]}, \"colorway\": [\"#636efa\", \"#EF553B\", \"#00cc96\", \"#ab63fa\", \"#19d3f3\", \"#e763fa\", \"#FECB52\", \"#FFA15A\", \"#FF6692\", \"#B6E880\"], \"font\": {\"color\": \"#2a3f5f\"}, \"geo\": {\"bgcolor\": \"white\", \"lakecolor\": \"white\", \"landcolor\": \"#E5ECF6\", \"showlakes\": true, \"showland\": true, \"subunitcolor\": \"white\"}, \"hovermode\": \"closest\", \"mapbox\": {\"style\": \"light\"}, \"paper_bgcolor\": \"white\", \"plot_bgcolor\": \"#E5ECF6\", \"polar\": {\"angularaxis\": {\"gridcolor\": \"white\", \"linecolor\": \"white\", \"ticks\": \"\"}, \"bgcolor\": \"#E5ECF6\", \"radialaxis\": {\"gridcolor\": \"white\", \"linecolor\": \"white\", \"ticks\": \"\"}}, \"scene\": {\"xaxis\": {\"backgroundcolor\": \"#E5ECF6\", \"gridcolor\": \"white\", \"gridwidth\": 2, \"linecolor\": \"white\", \"showbackground\": true, \"ticks\": \"\", \"zerolinecolor\": \"white\"}, \"yaxis\": {\"backgroundcolor\": \"#E5ECF6\", \"gridcolor\": \"white\", \"gridwidth\": 2, \"linecolor\": \"white\", \"showbackground\": true, \"ticks\": \"\", \"zerolinecolor\": \"white\"}, \"zaxis\": {\"backgroundcolor\": \"#E5ECF6\", \"gridcolor\": \"white\", \"gridwidth\": 2, \"linecolor\": \"white\", \"showbackground\": true, \"ticks\": \"\", \"zerolinecolor\": \"white\"}}, \"shapedefaults\": {\"fillcolor\": \"#506784\", \"line\": {\"width\": 0}, \"opacity\": 0.4}, \"ternary\": {\"aaxis\": {\"gridcolor\": \"white\", \"linecolor\": \"white\", \"ticks\": \"\"}, \"baxis\": {\"gridcolor\": \"white\", \"linecolor\": \"white\", \"ticks\": \"\"}, \"bgcolor\": \"#E5ECF6\", \"caxis\": {\"gridcolor\": \"white\", \"linecolor\": \"white\", \"ticks\": \"\"}}, \"title\": {\"x\": 0.05}, \"xaxis\": {\"automargin\": true, \"gridcolor\": \"white\", \"linecolor\": \"white\", \"ticks\": \"\", \"zerolinecolor\": \"white\", \"zerolinewidth\": 2}, \"yaxis\": {\"automargin\": true, \"gridcolor\": \"white\", \"linecolor\": \"white\", \"ticks\": \"\", \"zerolinecolor\": \"white\", \"zerolinewidth\": 2}}}, \"grid\": {\"xaxes\": [\"x\"], \"yaxes\": [\"y\"], \"xgap\": 0.1, \"ygap\": 0.1, \"xside\": \"bottom\", \"yside\": \"left\"}, \"xaxis\": {\"title\": {\"text\": \"MedianHHIncome\"}, \"type\": \"log\"}, \"yaxis\": {\"title\": {\"text\": \"Avg UR Donations\"}}}, {\"showLink\": false, \"linkText\": \"Export to plot.ly\", \"plotlyServerURL\": \"https://plot.ly\"}); \n",
       "}\n",
       "});</script><script type=\"text/javascript\">window.addEventListener(\"resize\", function(){if (document.getElementById(\"5b63fb52-07e6-4267-96ae-4d56ca75c9d2\")) {window._Plotly.Plots.resize(document.getElementById(\"5b63fb52-07e6-4267-96ae-4d56ca75c9d2\"));};})</script>"
      ]
     },
     "metadata": {},
     "output_type": "display_data"
    }
   ],
   "source": [
    "px.scatter(avg_data, x=\"MedianHHIncome\", y=\"Avg UR Donations\", hover_name=\"Town\", size=\"Nmembers\", size_max=50, color=\"Avg # UR Donations\", color_continuous_scale=px.colors.diverging.Spectral, log_x=True)\n",
    "\n"
   ]
  },
  {
   "cell_type": "code",
   "execution_count": 24,
   "metadata": {},
   "outputs": [
    {
     "data": {
      "application/vnd.plotly.v1+json": {
       "config": {
        "linkText": "Export to plot.ly",
        "plotlyServerURL": "https://plot.ly",
        "showLink": false
       },
       "data": [
        {
         "hovertemplate": "<b>%{hovertext}</b><br><br>MedianHHIncome=%{x}<br>Avg R Donations=%{y}<br>Nmembers=%{marker.size}<br>Avg # R Donations=%{marker.color}<extra></extra>",
         "hovertext": [
          "Bath",
          "Bradford",
          "Canaan",
          "Cavendish",
          "Charlestown",
          "Chelsea",
          "Claremont",
          "Corinth",
          "Cornish",
          "Croydon",
          "Dorchester",
          "Enfield",
          "Fairlee",
          "Grafton",
          "Grantham",
          "Hanover",
          "Hartford",
          "Hartland",
          "Haverhill",
          "Lebanon",
          "Lyme",
          "Newbury",
          "Newport",
          "Norwich",
          "Orange",
          "Orford",
          "Piermont",
          "Plainfield",
          "Pomfret",
          "Reading",
          "Royalton",
          "Ryegate",
          "Sharon",
          "Springfield",
          "Strafford",
          "Thetford",
          "Topsham",
          "Tunbridge",
          "Unity",
          "Vershire",
          "Weathersfield",
          "West Fairlee",
          "West Windsor",
          "Windsor",
          "Woodstock"
         ],
         "legendgroup": "",
         "marker": {
          "cmax": 0.5142276422764228,
          "cmin": 0,
          "color": [
           0,
           0.03571428571428571,
           0.014354066985645933,
           0,
           0.018691588785046728,
           0,
           0.04878048780487805,
           0,
           0.17801047120418848,
           0,
           0,
           0.2826086956521739,
           0.10119047619047619,
           0.03125,
           0.032467532467532464,
           0.0921875,
           0.06484641638225255,
           0.4622222222222222,
           0.024390243902439025,
           0.07897793263646923,
           0.24036697247706423,
           0.020202020202020204,
           0,
           0.30274361400189215,
           0,
           0.3291139240506329,
           0.022727272727272728,
           0.09345794392523364,
           0.38461538461538464,
           0,
           0.049079754601226995,
           0.0196078431372549,
           0.031578947368421054,
           0.03333333333333333,
           0.19911504424778761,
           0.5142276422764228,
           0,
           0.0273972602739726,
           0,
           0.06451612903225806,
           0.0759493670886076,
           0,
           0.05263157894736842,
           0.09950248756218906,
           0.17028985507246377
          ],
          "colorbar": {
           "title": {
            "text": "Avg # R Donations"
           }
          },
          "colorscale": [
           [
            0,
            "rgb(158,1,66)"
           ],
           [
            0.1,
            "rgb(213,62,79)"
           ],
           [
            0.2,
            "rgb(244,109,67)"
           ],
           [
            0.3,
            "rgb(253,174,97)"
           ],
           [
            0.4,
            "rgb(254,224,139)"
           ],
           [
            0.5,
            "rgb(255,255,191)"
           ],
           [
            0.6,
            "rgb(230,245,152)"
           ],
           [
            0.7,
            "rgb(171,221,164)"
           ],
           [
            0.8,
            "rgb(102,194,165)"
           ],
           [
            0.9,
            "rgb(50,136,189)"
           ],
           [
            1,
            "rgb(94,79,162)"
           ]
          ],
          "showscale": true,
          "size": [
           0,
           7,
           10,
           0,
           2,
           1,
           0,
           3,
           11,
           0,
           0,
           20,
           10,
           1,
           11,
           153,
           25,
           8,
           9,
           55,
           59,
           8,
           2,
           79,
           0,
           11,
           6,
           25,
           12,
           2,
           10,
           3,
           7,
           5,
           10,
           52,
           0,
           3,
           0,
           2,
           4,
           0,
           12,
           3,
           19
          ],
          "sizemode": "area",
          "sizeref": 0.0612,
          "symbol": "circle"
         },
         "mode": "markers",
         "name": " ",
         "showlegend": false,
         "type": "scatter",
         "uid": "6807bfc4-73ab-4c91-9467-0b1dc9e590a0",
         "x": [
          47386,
          48056,
          58333,
          48750,
          42693,
          58333,
          45510,
          56719,
          75417,
          71094,
          56719,
          79907,
          67100,
          45958,
          96875,
          94063,
          56577,
          54931,
          46892,
          52825,
          110781,
          46134,
          53900,
          90104,
          63750,
          76339,
          72841,
          99625,
          73802,
          59583,
          39484,
          49844,
          60781,
          43777,
          57500,
          72768,
          56667,
          61438,
          57917,
          47500,
          61447,
          50625,
          66705,
          36600,
          76686
         ],
         "xaxis": "x",
         "y": [
          0,
          407.85714285714283,
          3.110047846889952,
          0,
          5.607476635514018,
          0,
          26.524390243902438,
          0,
          174.05759162303664,
          0,
          0,
          166.21315217391304,
          201.75595238095238,
          0.78125,
          434.2282467532467,
          774.4954895833332,
          887.2764505119454,
          646.679288888889,
          2.4390243902439024,
          212.74883855981417,
          894.0580183486238,
          2493.7658585858585,
          0,
          652.9378429517503,
          0,
          96.51898734177215,
          1.4204545454545454,
          524.7427414330217,
          166.47589743589742,
          0,
          82.20858895705521,
          0.9803921568627451,
          6.315789473684211,
          147.71555555555554,
          79.84513274336283,
          186.99705284552846,
          0,
          1.7123287671232876,
          0,
          38.70967741935484,
          39.87341772151899,
          0,
          677.8508771929825,
          73.38308457711443,
          689.0910144927537
         ],
         "yaxis": "y"
        }
       ],
       "layout": {
        "grid": {
         "xaxes": [
          "x"
         ],
         "xgap": 0.1,
         "xside": "bottom",
         "yaxes": [
          "y"
         ],
         "ygap": 0.1,
         "yside": "left"
        },
        "height": 600,
        "legend": {
         "tracegroupgap": 0
        },
        "margin": {
         "t": 60
        },
        "template": {
         "data": {
          "bar": [
           {
            "marker": {
             "line": {
              "color": "#E5ECF6",
              "width": 0.5
             }
            },
            "type": "bar"
           }
          ],
          "barpolar": [
           {
            "marker": {
             "line": {
              "color": "#E5ECF6",
              "width": 0.5
             }
            },
            "type": "barpolar"
           }
          ],
          "carpet": [
           {
            "aaxis": {
             "endlinecolor": "#2a3f5f",
             "gridcolor": "white",
             "linecolor": "white",
             "minorgridcolor": "white",
             "startlinecolor": "#2a3f5f"
            },
            "baxis": {
             "endlinecolor": "#2a3f5f",
             "gridcolor": "white",
             "linecolor": "white",
             "minorgridcolor": "white",
             "startlinecolor": "#2a3f5f"
            },
            "type": "carpet"
           }
          ],
          "choropleth": [
           {
            "colorbar": {
             "outlinewidth": 0,
             "ticks": ""
            },
            "type": "choropleth"
           }
          ],
          "contour": [
           {
            "autocolorscale": true,
            "colorbar": {
             "outlinewidth": 0,
             "ticks": ""
            },
            "type": "contour"
           }
          ],
          "contourcarpet": [
           {
            "colorbar": {
             "outlinewidth": 0,
             "ticks": ""
            },
            "type": "contourcarpet"
           }
          ],
          "heatmap": [
           {
            "autocolorscale": true,
            "colorbar": {
             "outlinewidth": 0,
             "ticks": ""
            },
            "type": "heatmap"
           }
          ],
          "heatmapgl": [
           {
            "colorbar": {
             "outlinewidth": 0,
             "ticks": ""
            },
            "type": "heatmapgl"
           }
          ],
          "histogram": [
           {
            "marker": {
             "colorbar": {
              "outlinewidth": 0,
              "ticks": ""
             }
            },
            "type": "histogram"
           }
          ],
          "histogram2d": [
           {
            "autocolorscale": true,
            "colorbar": {
             "outlinewidth": 0,
             "ticks": ""
            },
            "type": "histogram2d"
           }
          ],
          "histogram2dcontour": [
           {
            "autocolorscale": true,
            "colorbar": {
             "outlinewidth": 0,
             "ticks": ""
            },
            "type": "histogram2dcontour"
           }
          ],
          "mesh3d": [
           {
            "colorbar": {
             "outlinewidth": 0,
             "ticks": ""
            },
            "type": "mesh3d"
           }
          ],
          "parcoords": [
           {
            "line": {
             "colorbar": {
              "outlinewidth": 0,
              "ticks": ""
             }
            },
            "type": "parcoords"
           }
          ],
          "scatter": [
           {
            "marker": {
             "colorbar": {
              "outlinewidth": 0,
              "ticks": ""
             }
            },
            "type": "scatter"
           }
          ],
          "scatter3d": [
           {
            "marker": {
             "colorbar": {
              "outlinewidth": 0,
              "ticks": ""
             }
            },
            "type": "scatter3d"
           }
          ],
          "scattercarpet": [
           {
            "marker": {
             "colorbar": {
              "outlinewidth": 0,
              "ticks": ""
             }
            },
            "type": "scattercarpet"
           }
          ],
          "scattergeo": [
           {
            "marker": {
             "colorbar": {
              "outlinewidth": 0,
              "ticks": ""
             }
            },
            "type": "scattergeo"
           }
          ],
          "scattergl": [
           {
            "marker": {
             "colorbar": {
              "outlinewidth": 0,
              "ticks": ""
             }
            },
            "type": "scattergl"
           }
          ],
          "scattermapbox": [
           {
            "marker": {
             "colorbar": {
              "outlinewidth": 0,
              "ticks": ""
             }
            },
            "type": "scattermapbox"
           }
          ],
          "scatterpolar": [
           {
            "marker": {
             "colorbar": {
              "outlinewidth": 0,
              "ticks": ""
             }
            },
            "type": "scatterpolar"
           }
          ],
          "scatterpolargl": [
           {
            "marker": {
             "colorbar": {
              "outlinewidth": 0,
              "ticks": ""
             }
            },
            "type": "scatterpolargl"
           }
          ],
          "scatterternary": [
           {
            "marker": {
             "colorbar": {
              "outlinewidth": 0,
              "ticks": ""
             }
            },
            "type": "scatterternary"
           }
          ],
          "surface": [
           {
            "colorbar": {
             "outlinewidth": 0,
             "ticks": ""
            },
            "type": "surface"
           }
          ],
          "table": [
           {
            "cells": {
             "fill": {
              "color": "#EBF0F8"
             },
             "line": {
              "color": "white"
             }
            },
            "header": {
             "fill": {
              "color": "#C8D4E3"
             },
             "line": {
              "color": "white"
             }
            },
            "type": "table"
           }
          ]
         },
         "layout": {
          "annotationdefaults": {
           "arrowcolor": "#506784",
           "arrowhead": 0,
           "arrowwidth": 1
          },
          "colorscale": {
           "diverging": [
            [
             0,
             "#8e0152"
            ],
            [
             0.1,
             "#c51b7d"
            ],
            [
             0.2,
             "#de77ae"
            ],
            [
             0.3,
             "#f1b6da"
            ],
            [
             0.4,
             "#fde0ef"
            ],
            [
             0.5,
             "#f7f7f7"
            ],
            [
             0.6,
             "#e6f5d0"
            ],
            [
             0.7,
             "#b8e186"
            ],
            [
             0.8,
             "#7fbc41"
            ],
            [
             0.9,
             "#4d9221"
            ],
            [
             1,
             "#276419"
            ]
           ],
           "sequential": [
            [
             0,
             "#0508b8"
            ],
            [
             0.0893854748603352,
             "#1910d8"
            ],
            [
             0.1787709497206704,
             "#3c19f0"
            ],
            [
             0.2681564245810056,
             "#6b1cfb"
            ],
            [
             0.3575418994413408,
             "#981cfd"
            ],
            [
             0.44692737430167595,
             "#bf1cfd"
            ],
            [
             0.5363128491620112,
             "#dd2bfd"
            ],
            [
             0.6256983240223464,
             "#f246fe"
            ],
            [
             0.7150837988826816,
             "#fc67fd"
            ],
            [
             0.8044692737430168,
             "#fe88fc"
            ],
            [
             0.8938547486033519,
             "#fea5fd"
            ],
            [
             0.9832402234636871,
             "#febefe"
            ],
            [
             1,
             "#fec3fe"
            ]
           ],
           "sequentialminus": [
            [
             0,
             "#0508b8"
            ],
            [
             0.0893854748603352,
             "#1910d8"
            ],
            [
             0.1787709497206704,
             "#3c19f0"
            ],
            [
             0.2681564245810056,
             "#6b1cfb"
            ],
            [
             0.3575418994413408,
             "#981cfd"
            ],
            [
             0.44692737430167595,
             "#bf1cfd"
            ],
            [
             0.5363128491620112,
             "#dd2bfd"
            ],
            [
             0.6256983240223464,
             "#f246fe"
            ],
            [
             0.7150837988826816,
             "#fc67fd"
            ],
            [
             0.8044692737430168,
             "#fe88fc"
            ],
            [
             0.8938547486033519,
             "#fea5fd"
            ],
            [
             0.9832402234636871,
             "#febefe"
            ],
            [
             1,
             "#fec3fe"
            ]
           ]
          },
          "colorway": [
           "#636efa",
           "#EF553B",
           "#00cc96",
           "#ab63fa",
           "#19d3f3",
           "#e763fa",
           "#FECB52",
           "#FFA15A",
           "#FF6692",
           "#B6E880"
          ],
          "font": {
           "color": "#2a3f5f"
          },
          "geo": {
           "bgcolor": "white",
           "lakecolor": "white",
           "landcolor": "#E5ECF6",
           "showlakes": true,
           "showland": true,
           "subunitcolor": "white"
          },
          "hovermode": "closest",
          "mapbox": {
           "style": "light"
          },
          "paper_bgcolor": "white",
          "plot_bgcolor": "#E5ECF6",
          "polar": {
           "angularaxis": {
            "gridcolor": "white",
            "linecolor": "white",
            "ticks": ""
           },
           "bgcolor": "#E5ECF6",
           "radialaxis": {
            "gridcolor": "white",
            "linecolor": "white",
            "ticks": ""
           }
          },
          "scene": {
           "xaxis": {
            "backgroundcolor": "#E5ECF6",
            "gridcolor": "white",
            "gridwidth": 2,
            "linecolor": "white",
            "showbackground": true,
            "ticks": "",
            "zerolinecolor": "white"
           },
           "yaxis": {
            "backgroundcolor": "#E5ECF6",
            "gridcolor": "white",
            "gridwidth": 2,
            "linecolor": "white",
            "showbackground": true,
            "ticks": "",
            "zerolinecolor": "white"
           },
           "zaxis": {
            "backgroundcolor": "#E5ECF6",
            "gridcolor": "white",
            "gridwidth": 2,
            "linecolor": "white",
            "showbackground": true,
            "ticks": "",
            "zerolinecolor": "white"
           }
          },
          "shapedefaults": {
           "fillcolor": "#506784",
           "line": {
            "width": 0
           },
           "opacity": 0.4
          },
          "ternary": {
           "aaxis": {
            "gridcolor": "white",
            "linecolor": "white",
            "ticks": ""
           },
           "baxis": {
            "gridcolor": "white",
            "linecolor": "white",
            "ticks": ""
           },
           "bgcolor": "#E5ECF6",
           "caxis": {
            "gridcolor": "white",
            "linecolor": "white",
            "ticks": ""
           }
          },
          "title": {
           "x": 0.05
          },
          "xaxis": {
           "automargin": true,
           "gridcolor": "white",
           "linecolor": "white",
           "ticks": "",
           "zerolinecolor": "white",
           "zerolinewidth": 2
          },
          "yaxis": {
           "automargin": true,
           "gridcolor": "white",
           "linecolor": "white",
           "ticks": "",
           "zerolinecolor": "white",
           "zerolinewidth": 2
          }
         }
        },
        "xaxis": {
         "title": {
          "text": "MedianHHIncome"
         },
         "type": "log"
        },
        "yaxis": {
         "title": {
          "text": "Avg R Donations"
         }
        }
       }
      },
      "text/html": [
       "<div id=\"34a6a54a-ca29-49bc-ac24-1a100866da15\" style=\"height: 600px; width: 100%;\" class=\"plotly-graph-div\"></div><script type=\"text/javascript\">require([\"plotly\"], function(Plotly) { window.PLOTLYENV=window.PLOTLYENV || {};window.PLOTLYENV.BASE_URL=\"https://plot.ly\";\n",
       "if (document.getElementById(\"34a6a54a-ca29-49bc-ac24-1a100866da15\")) {\n",
       "    Plotly.newPlot(\"34a6a54a-ca29-49bc-ac24-1a100866da15\", [{\"hovertemplate\": \"<b>%{hovertext}</b><br><br>MedianHHIncome=%{x}<br>Avg R Donations=%{y}<br>Nmembers=%{marker.size}<br>Avg # R Donations=%{marker.color}<extra></extra>\", \"hovertext\": [\"Bath\", \"Bradford\", \"Canaan\", \"Cavendish\", \"Charlestown\", \"Chelsea\", \"Claremont\", \"Corinth\", \"Cornish\", \"Croydon\", \"Dorchester\", \"Enfield\", \"Fairlee\", \"Grafton\", \"Grantham\", \"Hanover\", \"Hartford\", \"Hartland\", \"Haverhill\", \"Lebanon\", \"Lyme\", \"Newbury\", \"Newport\", \"Norwich\", \"Orange\", \"Orford\", \"Piermont\", \"Plainfield\", \"Pomfret\", \"Reading\", \"Royalton\", \"Ryegate\", \"Sharon\", \"Springfield\", \"Strafford\", \"Thetford\", \"Topsham\", \"Tunbridge\", \"Unity\", \"Vershire\", \"Weathersfield\", \"West Fairlee\", \"West Windsor\", \"Windsor\", \"Woodstock\"], \"legendgroup\": \"\", \"marker\": {\"cmax\": 0.5142276422764228, \"cmin\": 0.0, \"color\": [0.0, 0.03571428571428571, 0.014354066985645933, 0.0, 0.018691588785046728, 0.0, 0.04878048780487805, 0.0, 0.17801047120418848, 0.0, 0.0, 0.2826086956521739, 0.10119047619047619, 0.03125, 0.032467532467532464, 0.0921875, 0.06484641638225255, 0.4622222222222222, 0.024390243902439025, 0.07897793263646923, 0.24036697247706423, 0.020202020202020204, 0.0, 0.30274361400189215, 0.0, 0.3291139240506329, 0.022727272727272728, 0.09345794392523364, 0.38461538461538464, 0.0, 0.049079754601226995, 0.0196078431372549, 0.031578947368421054, 0.03333333333333333, 0.19911504424778761, 0.5142276422764228, 0.0, 0.0273972602739726, 0.0, 0.06451612903225806, 0.0759493670886076, 0.0, 0.05263157894736842, 0.09950248756218906, 0.17028985507246377], \"colorbar\": {\"title\": {\"text\": \"Avg # R Donations\"}}, \"colorscale\": [[0.0, \"rgb(158,1,66)\"], [0.1, \"rgb(213,62,79)\"], [0.2, \"rgb(244,109,67)\"], [0.3, \"rgb(253,174,97)\"], [0.4, \"rgb(254,224,139)\"], [0.5, \"rgb(255,255,191)\"], [0.6, \"rgb(230,245,152)\"], [0.7, \"rgb(171,221,164)\"], [0.8, \"rgb(102,194,165)\"], [0.9, \"rgb(50,136,189)\"], [1.0, \"rgb(94,79,162)\"]], \"showscale\": true, \"size\": [0, 7, 10, 0, 2, 1, 0, 3, 11, 0, 0, 20, 10, 1, 11, 153, 25, 8, 9, 55, 59, 8, 2, 79, 0, 11, 6, 25, 12, 2, 10, 3, 7, 5, 10, 52, 0, 3, 0, 2, 4, 0, 12, 3, 19], \"sizemode\": \"area\", \"sizeref\": 0.0612, \"symbol\": \"circle\"}, \"mode\": \"markers\", \"name\": \" \", \"showlegend\": false, \"x\": [47386, 48056, 58333, 48750, 42693, 58333, 45510, 56719, 75417, 71094, 56719, 79907, 67100, 45958, 96875, 94063, 56577, 54931, 46892, 52825, 110781, 46134, 53900, 90104, 63750, 76339, 72841, 99625, 73802, 59583, 39484, 49844, 60781, 43777, 57500, 72768, 56667, 61438, 57917, 47500, 61447, 50625, 66705, 36600, 76686], \"xaxis\": \"x\", \"y\": [0.0, 407.85714285714283, 3.110047846889952, 0.0, 5.607476635514018, 0.0, 26.524390243902438, 0.0, 174.05759162303664, 0.0, 0.0, 166.21315217391304, 201.75595238095238, 0.78125, 434.2282467532467, 774.4954895833332, 887.2764505119454, 646.679288888889, 2.4390243902439024, 212.74883855981417, 894.0580183486238, 2493.7658585858585, 0.0, 652.9378429517503, 0.0, 96.51898734177215, 1.4204545454545454, 524.7427414330217, 166.47589743589742, 0.0, 82.20858895705521, 0.9803921568627451, 6.315789473684211, 147.71555555555554, 79.84513274336283, 186.99705284552846, 0.0, 1.7123287671232876, 0.0, 38.70967741935484, 39.87341772151899, 0.0, 677.8508771929825, 73.38308457711443, 689.0910144927537], \"yaxis\": \"y\", \"type\": \"scatter\", \"uid\": \"6807bfc4-73ab-4c91-9467-0b1dc9e590a0\"}], {\"height\": 600, \"legend\": {\"tracegroupgap\": 0}, \"margin\": {\"t\": 60}, \"template\": {\"data\": {\"barpolar\": [{\"marker\": {\"line\": {\"color\": \"#E5ECF6\", \"width\": 0.5}}, \"type\": \"barpolar\"}], \"bar\": [{\"marker\": {\"line\": {\"color\": \"#E5ECF6\", \"width\": 0.5}}, \"type\": \"bar\"}], \"carpet\": [{\"aaxis\": {\"endlinecolor\": \"#2a3f5f\", \"gridcolor\": \"white\", \"linecolor\": \"white\", \"minorgridcolor\": \"white\", \"startlinecolor\": \"#2a3f5f\"}, \"baxis\": {\"endlinecolor\": \"#2a3f5f\", \"gridcolor\": \"white\", \"linecolor\": \"white\", \"minorgridcolor\": \"white\", \"startlinecolor\": \"#2a3f5f\"}, \"type\": \"carpet\"}], \"choropleth\": [{\"colorbar\": {\"outlinewidth\": 0, \"ticks\": \"\"}, \"type\": \"choropleth\"}], \"contourcarpet\": [{\"colorbar\": {\"outlinewidth\": 0, \"ticks\": \"\"}, \"type\": \"contourcarpet\"}], \"contour\": [{\"autocolorscale\": true, \"colorbar\": {\"outlinewidth\": 0, \"ticks\": \"\"}, \"type\": \"contour\"}], \"heatmapgl\": [{\"colorbar\": {\"outlinewidth\": 0, \"ticks\": \"\"}, \"type\": \"heatmapgl\"}], \"heatmap\": [{\"autocolorscale\": true, \"colorbar\": {\"outlinewidth\": 0, \"ticks\": \"\"}, \"type\": \"heatmap\"}], \"histogram2dcontour\": [{\"autocolorscale\": true, \"colorbar\": {\"outlinewidth\": 0, \"ticks\": \"\"}, \"type\": \"histogram2dcontour\"}], \"histogram2d\": [{\"autocolorscale\": true, \"colorbar\": {\"outlinewidth\": 0, \"ticks\": \"\"}, \"type\": \"histogram2d\"}], \"histogram\": [{\"marker\": {\"colorbar\": {\"outlinewidth\": 0, \"ticks\": \"\"}}, \"type\": \"histogram\"}], \"mesh3d\": [{\"colorbar\": {\"outlinewidth\": 0, \"ticks\": \"\"}, \"type\": \"mesh3d\"}], \"parcoords\": [{\"line\": {\"colorbar\": {\"outlinewidth\": 0, \"ticks\": \"\"}}, \"type\": \"parcoords\"}], \"scatter3d\": [{\"marker\": {\"colorbar\": {\"outlinewidth\": 0, \"ticks\": \"\"}}, \"type\": \"scatter3d\"}], \"scattercarpet\": [{\"marker\": {\"colorbar\": {\"outlinewidth\": 0, \"ticks\": \"\"}}, \"type\": \"scattercarpet\"}], \"scattergeo\": [{\"marker\": {\"colorbar\": {\"outlinewidth\": 0, \"ticks\": \"\"}}, \"type\": \"scattergeo\"}], \"scattergl\": [{\"marker\": {\"colorbar\": {\"outlinewidth\": 0, \"ticks\": \"\"}}, \"type\": \"scattergl\"}], \"scattermapbox\": [{\"marker\": {\"colorbar\": {\"outlinewidth\": 0, \"ticks\": \"\"}}, \"type\": \"scattermapbox\"}], \"scatterpolargl\": [{\"marker\": {\"colorbar\": {\"outlinewidth\": 0, \"ticks\": \"\"}}, \"type\": \"scatterpolargl\"}], \"scatterpolar\": [{\"marker\": {\"colorbar\": {\"outlinewidth\": 0, \"ticks\": \"\"}}, \"type\": \"scatterpolar\"}], \"scatter\": [{\"marker\": {\"colorbar\": {\"outlinewidth\": 0, \"ticks\": \"\"}}, \"type\": \"scatter\"}], \"scatterternary\": [{\"marker\": {\"colorbar\": {\"outlinewidth\": 0, \"ticks\": \"\"}}, \"type\": \"scatterternary\"}], \"surface\": [{\"colorbar\": {\"outlinewidth\": 0, \"ticks\": \"\"}, \"type\": \"surface\"}], \"table\": [{\"cells\": {\"fill\": {\"color\": \"#EBF0F8\"}, \"line\": {\"color\": \"white\"}}, \"header\": {\"fill\": {\"color\": \"#C8D4E3\"}, \"line\": {\"color\": \"white\"}}, \"type\": \"table\"}]}, \"layout\": {\"annotationdefaults\": {\"arrowcolor\": \"#506784\", \"arrowhead\": 0, \"arrowwidth\": 1}, \"colorscale\": {\"diverging\": [[0, \"#8e0152\"], [0.1, \"#c51b7d\"], [0.2, \"#de77ae\"], [0.3, \"#f1b6da\"], [0.4, \"#fde0ef\"], [0.5, \"#f7f7f7\"], [0.6, \"#e6f5d0\"], [0.7, \"#b8e186\"], [0.8, \"#7fbc41\"], [0.9, \"#4d9221\"], [1, \"#276419\"]], \"sequential\": [[0.0, \"#0508b8\"], [0.0893854748603352, \"#1910d8\"], [0.1787709497206704, \"#3c19f0\"], [0.2681564245810056, \"#6b1cfb\"], [0.3575418994413408, \"#981cfd\"], [0.44692737430167595, \"#bf1cfd\"], [0.5363128491620112, \"#dd2bfd\"], [0.6256983240223464, \"#f246fe\"], [0.7150837988826816, \"#fc67fd\"], [0.8044692737430168, \"#fe88fc\"], [0.8938547486033519, \"#fea5fd\"], [0.9832402234636871, \"#febefe\"], [1.0, \"#fec3fe\"]], \"sequentialminus\": [[0.0, \"#0508b8\"], [0.0893854748603352, \"#1910d8\"], [0.1787709497206704, \"#3c19f0\"], [0.2681564245810056, \"#6b1cfb\"], [0.3575418994413408, \"#981cfd\"], [0.44692737430167595, \"#bf1cfd\"], [0.5363128491620112, \"#dd2bfd\"], [0.6256983240223464, \"#f246fe\"], [0.7150837988826816, \"#fc67fd\"], [0.8044692737430168, \"#fe88fc\"], [0.8938547486033519, \"#fea5fd\"], [0.9832402234636871, \"#febefe\"], [1.0, \"#fec3fe\"]]}, \"colorway\": [\"#636efa\", \"#EF553B\", \"#00cc96\", \"#ab63fa\", \"#19d3f3\", \"#e763fa\", \"#FECB52\", \"#FFA15A\", \"#FF6692\", \"#B6E880\"], \"font\": {\"color\": \"#2a3f5f\"}, \"geo\": {\"bgcolor\": \"white\", \"lakecolor\": \"white\", \"landcolor\": \"#E5ECF6\", \"showlakes\": true, \"showland\": true, \"subunitcolor\": \"white\"}, \"hovermode\": \"closest\", \"mapbox\": {\"style\": \"light\"}, \"paper_bgcolor\": \"white\", \"plot_bgcolor\": \"#E5ECF6\", \"polar\": {\"angularaxis\": {\"gridcolor\": \"white\", \"linecolor\": \"white\", \"ticks\": \"\"}, \"bgcolor\": \"#E5ECF6\", \"radialaxis\": {\"gridcolor\": \"white\", \"linecolor\": \"white\", \"ticks\": \"\"}}, \"scene\": {\"xaxis\": {\"backgroundcolor\": \"#E5ECF6\", \"gridcolor\": \"white\", \"gridwidth\": 2, \"linecolor\": \"white\", \"showbackground\": true, \"ticks\": \"\", \"zerolinecolor\": \"white\"}, \"yaxis\": {\"backgroundcolor\": \"#E5ECF6\", \"gridcolor\": \"white\", \"gridwidth\": 2, \"linecolor\": \"white\", \"showbackground\": true, \"ticks\": \"\", \"zerolinecolor\": \"white\"}, \"zaxis\": {\"backgroundcolor\": \"#E5ECF6\", \"gridcolor\": \"white\", \"gridwidth\": 2, \"linecolor\": \"white\", \"showbackground\": true, \"ticks\": \"\", \"zerolinecolor\": \"white\"}}, \"shapedefaults\": {\"fillcolor\": \"#506784\", \"line\": {\"width\": 0}, \"opacity\": 0.4}, \"ternary\": {\"aaxis\": {\"gridcolor\": \"white\", \"linecolor\": \"white\", \"ticks\": \"\"}, \"baxis\": {\"gridcolor\": \"white\", \"linecolor\": \"white\", \"ticks\": \"\"}, \"bgcolor\": \"#E5ECF6\", \"caxis\": {\"gridcolor\": \"white\", \"linecolor\": \"white\", \"ticks\": \"\"}}, \"title\": {\"x\": 0.05}, \"xaxis\": {\"automargin\": true, \"gridcolor\": \"white\", \"linecolor\": \"white\", \"ticks\": \"\", \"zerolinecolor\": \"white\", \"zerolinewidth\": 2}, \"yaxis\": {\"automargin\": true, \"gridcolor\": \"white\", \"linecolor\": \"white\", \"ticks\": \"\", \"zerolinecolor\": \"white\", \"zerolinewidth\": 2}}}, \"grid\": {\"xaxes\": [\"x\"], \"yaxes\": [\"y\"], \"xgap\": 0.1, \"ygap\": 0.1, \"xside\": \"bottom\", \"yside\": \"left\"}, \"xaxis\": {\"title\": {\"text\": \"MedianHHIncome\"}, \"type\": \"log\"}, \"yaxis\": {\"title\": {\"text\": \"Avg R Donations\"}}}, {\"showLink\": false, \"linkText\": \"Export to plot.ly\", \"plotlyServerURL\": \"https://plot.ly\"}); \n",
       "}\n",
       "});</script><script type=\"text/javascript\">window.addEventListener(\"resize\", function(){if (document.getElementById(\"34a6a54a-ca29-49bc-ac24-1a100866da15\")) {window._Plotly.Plots.resize(document.getElementById(\"34a6a54a-ca29-49bc-ac24-1a100866da15\"));};})</script>"
      ],
      "text/vnd.plotly.v1+html": [
       "<div id=\"34a6a54a-ca29-49bc-ac24-1a100866da15\" style=\"height: 600px; width: 100%;\" class=\"plotly-graph-div\"></div><script type=\"text/javascript\">require([\"plotly\"], function(Plotly) { window.PLOTLYENV=window.PLOTLYENV || {};window.PLOTLYENV.BASE_URL=\"https://plot.ly\";\n",
       "if (document.getElementById(\"34a6a54a-ca29-49bc-ac24-1a100866da15\")) {\n",
       "    Plotly.newPlot(\"34a6a54a-ca29-49bc-ac24-1a100866da15\", [{\"hovertemplate\": \"<b>%{hovertext}</b><br><br>MedianHHIncome=%{x}<br>Avg R Donations=%{y}<br>Nmembers=%{marker.size}<br>Avg # R Donations=%{marker.color}<extra></extra>\", \"hovertext\": [\"Bath\", \"Bradford\", \"Canaan\", \"Cavendish\", \"Charlestown\", \"Chelsea\", \"Claremont\", \"Corinth\", \"Cornish\", \"Croydon\", \"Dorchester\", \"Enfield\", \"Fairlee\", \"Grafton\", \"Grantham\", \"Hanover\", \"Hartford\", \"Hartland\", \"Haverhill\", \"Lebanon\", \"Lyme\", \"Newbury\", \"Newport\", \"Norwich\", \"Orange\", \"Orford\", \"Piermont\", \"Plainfield\", \"Pomfret\", \"Reading\", \"Royalton\", \"Ryegate\", \"Sharon\", \"Springfield\", \"Strafford\", \"Thetford\", \"Topsham\", \"Tunbridge\", \"Unity\", \"Vershire\", \"Weathersfield\", \"West Fairlee\", \"West Windsor\", \"Windsor\", \"Woodstock\"], \"legendgroup\": \"\", \"marker\": {\"cmax\": 0.5142276422764228, \"cmin\": 0.0, \"color\": [0.0, 0.03571428571428571, 0.014354066985645933, 0.0, 0.018691588785046728, 0.0, 0.04878048780487805, 0.0, 0.17801047120418848, 0.0, 0.0, 0.2826086956521739, 0.10119047619047619, 0.03125, 0.032467532467532464, 0.0921875, 0.06484641638225255, 0.4622222222222222, 0.024390243902439025, 0.07897793263646923, 0.24036697247706423, 0.020202020202020204, 0.0, 0.30274361400189215, 0.0, 0.3291139240506329, 0.022727272727272728, 0.09345794392523364, 0.38461538461538464, 0.0, 0.049079754601226995, 0.0196078431372549, 0.031578947368421054, 0.03333333333333333, 0.19911504424778761, 0.5142276422764228, 0.0, 0.0273972602739726, 0.0, 0.06451612903225806, 0.0759493670886076, 0.0, 0.05263157894736842, 0.09950248756218906, 0.17028985507246377], \"colorbar\": {\"title\": {\"text\": \"Avg # R Donations\"}}, \"colorscale\": [[0.0, \"rgb(158,1,66)\"], [0.1, \"rgb(213,62,79)\"], [0.2, \"rgb(244,109,67)\"], [0.3, \"rgb(253,174,97)\"], [0.4, \"rgb(254,224,139)\"], [0.5, \"rgb(255,255,191)\"], [0.6, \"rgb(230,245,152)\"], [0.7, \"rgb(171,221,164)\"], [0.8, \"rgb(102,194,165)\"], [0.9, \"rgb(50,136,189)\"], [1.0, \"rgb(94,79,162)\"]], \"showscale\": true, \"size\": [0, 7, 10, 0, 2, 1, 0, 3, 11, 0, 0, 20, 10, 1, 11, 153, 25, 8, 9, 55, 59, 8, 2, 79, 0, 11, 6, 25, 12, 2, 10, 3, 7, 5, 10, 52, 0, 3, 0, 2, 4, 0, 12, 3, 19], \"sizemode\": \"area\", \"sizeref\": 0.0612, \"symbol\": \"circle\"}, \"mode\": \"markers\", \"name\": \" \", \"showlegend\": false, \"x\": [47386, 48056, 58333, 48750, 42693, 58333, 45510, 56719, 75417, 71094, 56719, 79907, 67100, 45958, 96875, 94063, 56577, 54931, 46892, 52825, 110781, 46134, 53900, 90104, 63750, 76339, 72841, 99625, 73802, 59583, 39484, 49844, 60781, 43777, 57500, 72768, 56667, 61438, 57917, 47500, 61447, 50625, 66705, 36600, 76686], \"xaxis\": \"x\", \"y\": [0.0, 407.85714285714283, 3.110047846889952, 0.0, 5.607476635514018, 0.0, 26.524390243902438, 0.0, 174.05759162303664, 0.0, 0.0, 166.21315217391304, 201.75595238095238, 0.78125, 434.2282467532467, 774.4954895833332, 887.2764505119454, 646.679288888889, 2.4390243902439024, 212.74883855981417, 894.0580183486238, 2493.7658585858585, 0.0, 652.9378429517503, 0.0, 96.51898734177215, 1.4204545454545454, 524.7427414330217, 166.47589743589742, 0.0, 82.20858895705521, 0.9803921568627451, 6.315789473684211, 147.71555555555554, 79.84513274336283, 186.99705284552846, 0.0, 1.7123287671232876, 0.0, 38.70967741935484, 39.87341772151899, 0.0, 677.8508771929825, 73.38308457711443, 689.0910144927537], \"yaxis\": \"y\", \"type\": \"scatter\", \"uid\": \"6807bfc4-73ab-4c91-9467-0b1dc9e590a0\"}], {\"height\": 600, \"legend\": {\"tracegroupgap\": 0}, \"margin\": {\"t\": 60}, \"template\": {\"data\": {\"barpolar\": [{\"marker\": {\"line\": {\"color\": \"#E5ECF6\", \"width\": 0.5}}, \"type\": \"barpolar\"}], \"bar\": [{\"marker\": {\"line\": {\"color\": \"#E5ECF6\", \"width\": 0.5}}, \"type\": \"bar\"}], \"carpet\": [{\"aaxis\": {\"endlinecolor\": \"#2a3f5f\", \"gridcolor\": \"white\", \"linecolor\": \"white\", \"minorgridcolor\": \"white\", \"startlinecolor\": \"#2a3f5f\"}, \"baxis\": {\"endlinecolor\": \"#2a3f5f\", \"gridcolor\": \"white\", \"linecolor\": \"white\", \"minorgridcolor\": \"white\", \"startlinecolor\": \"#2a3f5f\"}, \"type\": \"carpet\"}], \"choropleth\": [{\"colorbar\": {\"outlinewidth\": 0, \"ticks\": \"\"}, \"type\": \"choropleth\"}], \"contourcarpet\": [{\"colorbar\": {\"outlinewidth\": 0, \"ticks\": \"\"}, \"type\": \"contourcarpet\"}], \"contour\": [{\"autocolorscale\": true, \"colorbar\": {\"outlinewidth\": 0, \"ticks\": \"\"}, \"type\": \"contour\"}], \"heatmapgl\": [{\"colorbar\": {\"outlinewidth\": 0, \"ticks\": \"\"}, \"type\": \"heatmapgl\"}], \"heatmap\": [{\"autocolorscale\": true, \"colorbar\": {\"outlinewidth\": 0, \"ticks\": \"\"}, \"type\": \"heatmap\"}], \"histogram2dcontour\": [{\"autocolorscale\": true, \"colorbar\": {\"outlinewidth\": 0, \"ticks\": \"\"}, \"type\": \"histogram2dcontour\"}], \"histogram2d\": [{\"autocolorscale\": true, \"colorbar\": {\"outlinewidth\": 0, \"ticks\": \"\"}, \"type\": \"histogram2d\"}], \"histogram\": [{\"marker\": {\"colorbar\": {\"outlinewidth\": 0, \"ticks\": \"\"}}, \"type\": \"histogram\"}], \"mesh3d\": [{\"colorbar\": {\"outlinewidth\": 0, \"ticks\": \"\"}, \"type\": \"mesh3d\"}], \"parcoords\": [{\"line\": {\"colorbar\": {\"outlinewidth\": 0, \"ticks\": \"\"}}, \"type\": \"parcoords\"}], \"scatter3d\": [{\"marker\": {\"colorbar\": {\"outlinewidth\": 0, \"ticks\": \"\"}}, \"type\": \"scatter3d\"}], \"scattercarpet\": [{\"marker\": {\"colorbar\": {\"outlinewidth\": 0, \"ticks\": \"\"}}, \"type\": \"scattercarpet\"}], \"scattergeo\": [{\"marker\": {\"colorbar\": {\"outlinewidth\": 0, \"ticks\": \"\"}}, \"type\": \"scattergeo\"}], \"scattergl\": [{\"marker\": {\"colorbar\": {\"outlinewidth\": 0, \"ticks\": \"\"}}, \"type\": \"scattergl\"}], \"scattermapbox\": [{\"marker\": {\"colorbar\": {\"outlinewidth\": 0, \"ticks\": \"\"}}, \"type\": \"scattermapbox\"}], \"scatterpolargl\": [{\"marker\": {\"colorbar\": {\"outlinewidth\": 0, \"ticks\": \"\"}}, \"type\": \"scatterpolargl\"}], \"scatterpolar\": [{\"marker\": {\"colorbar\": {\"outlinewidth\": 0, \"ticks\": \"\"}}, \"type\": \"scatterpolar\"}], \"scatter\": [{\"marker\": {\"colorbar\": {\"outlinewidth\": 0, \"ticks\": \"\"}}, \"type\": \"scatter\"}], \"scatterternary\": [{\"marker\": {\"colorbar\": {\"outlinewidth\": 0, \"ticks\": \"\"}}, \"type\": \"scatterternary\"}], \"surface\": [{\"colorbar\": {\"outlinewidth\": 0, \"ticks\": \"\"}, \"type\": \"surface\"}], \"table\": [{\"cells\": {\"fill\": {\"color\": \"#EBF0F8\"}, \"line\": {\"color\": \"white\"}}, \"header\": {\"fill\": {\"color\": \"#C8D4E3\"}, \"line\": {\"color\": \"white\"}}, \"type\": \"table\"}]}, \"layout\": {\"annotationdefaults\": {\"arrowcolor\": \"#506784\", \"arrowhead\": 0, \"arrowwidth\": 1}, \"colorscale\": {\"diverging\": [[0, \"#8e0152\"], [0.1, \"#c51b7d\"], [0.2, \"#de77ae\"], [0.3, \"#f1b6da\"], [0.4, \"#fde0ef\"], [0.5, \"#f7f7f7\"], [0.6, \"#e6f5d0\"], [0.7, \"#b8e186\"], [0.8, \"#7fbc41\"], [0.9, \"#4d9221\"], [1, \"#276419\"]], \"sequential\": [[0.0, \"#0508b8\"], [0.0893854748603352, \"#1910d8\"], [0.1787709497206704, \"#3c19f0\"], [0.2681564245810056, \"#6b1cfb\"], [0.3575418994413408, \"#981cfd\"], [0.44692737430167595, \"#bf1cfd\"], [0.5363128491620112, \"#dd2bfd\"], [0.6256983240223464, \"#f246fe\"], [0.7150837988826816, \"#fc67fd\"], [0.8044692737430168, \"#fe88fc\"], [0.8938547486033519, \"#fea5fd\"], [0.9832402234636871, \"#febefe\"], [1.0, \"#fec3fe\"]], \"sequentialminus\": [[0.0, \"#0508b8\"], [0.0893854748603352, \"#1910d8\"], [0.1787709497206704, \"#3c19f0\"], [0.2681564245810056, \"#6b1cfb\"], [0.3575418994413408, \"#981cfd\"], [0.44692737430167595, \"#bf1cfd\"], [0.5363128491620112, \"#dd2bfd\"], [0.6256983240223464, \"#f246fe\"], [0.7150837988826816, \"#fc67fd\"], [0.8044692737430168, \"#fe88fc\"], [0.8938547486033519, \"#fea5fd\"], [0.9832402234636871, \"#febefe\"], [1.0, \"#fec3fe\"]]}, \"colorway\": [\"#636efa\", \"#EF553B\", \"#00cc96\", \"#ab63fa\", \"#19d3f3\", \"#e763fa\", \"#FECB52\", \"#FFA15A\", \"#FF6692\", \"#B6E880\"], \"font\": {\"color\": \"#2a3f5f\"}, \"geo\": {\"bgcolor\": \"white\", \"lakecolor\": \"white\", \"landcolor\": \"#E5ECF6\", \"showlakes\": true, \"showland\": true, \"subunitcolor\": \"white\"}, \"hovermode\": \"closest\", \"mapbox\": {\"style\": \"light\"}, \"paper_bgcolor\": \"white\", \"plot_bgcolor\": \"#E5ECF6\", \"polar\": {\"angularaxis\": {\"gridcolor\": \"white\", \"linecolor\": \"white\", \"ticks\": \"\"}, \"bgcolor\": \"#E5ECF6\", \"radialaxis\": {\"gridcolor\": \"white\", \"linecolor\": \"white\", \"ticks\": \"\"}}, \"scene\": {\"xaxis\": {\"backgroundcolor\": \"#E5ECF6\", \"gridcolor\": \"white\", \"gridwidth\": 2, \"linecolor\": \"white\", \"showbackground\": true, \"ticks\": \"\", \"zerolinecolor\": \"white\"}, \"yaxis\": {\"backgroundcolor\": \"#E5ECF6\", \"gridcolor\": \"white\", \"gridwidth\": 2, \"linecolor\": \"white\", \"showbackground\": true, \"ticks\": \"\", \"zerolinecolor\": \"white\"}, \"zaxis\": {\"backgroundcolor\": \"#E5ECF6\", \"gridcolor\": \"white\", \"gridwidth\": 2, \"linecolor\": \"white\", \"showbackground\": true, \"ticks\": \"\", \"zerolinecolor\": \"white\"}}, \"shapedefaults\": {\"fillcolor\": \"#506784\", \"line\": {\"width\": 0}, \"opacity\": 0.4}, \"ternary\": {\"aaxis\": {\"gridcolor\": \"white\", \"linecolor\": \"white\", \"ticks\": \"\"}, \"baxis\": {\"gridcolor\": \"white\", \"linecolor\": \"white\", \"ticks\": \"\"}, \"bgcolor\": \"#E5ECF6\", \"caxis\": {\"gridcolor\": \"white\", \"linecolor\": \"white\", \"ticks\": \"\"}}, \"title\": {\"x\": 0.05}, \"xaxis\": {\"automargin\": true, \"gridcolor\": \"white\", \"linecolor\": \"white\", \"ticks\": \"\", \"zerolinecolor\": \"white\", \"zerolinewidth\": 2}, \"yaxis\": {\"automargin\": true, \"gridcolor\": \"white\", \"linecolor\": \"white\", \"ticks\": \"\", \"zerolinecolor\": \"white\", \"zerolinewidth\": 2}}}, \"grid\": {\"xaxes\": [\"x\"], \"yaxes\": [\"y\"], \"xgap\": 0.1, \"ygap\": 0.1, \"xside\": \"bottom\", \"yside\": \"left\"}, \"xaxis\": {\"title\": {\"text\": \"MedianHHIncome\"}, \"type\": \"log\"}, \"yaxis\": {\"title\": {\"text\": \"Avg R Donations\"}}}, {\"showLink\": false, \"linkText\": \"Export to plot.ly\", \"plotlyServerURL\": \"https://plot.ly\"}); \n",
       "}\n",
       "});</script><script type=\"text/javascript\">window.addEventListener(\"resize\", function(){if (document.getElementById(\"34a6a54a-ca29-49bc-ac24-1a100866da15\")) {window._Plotly.Plots.resize(document.getElementById(\"34a6a54a-ca29-49bc-ac24-1a100866da15\"));};})</script>"
      ]
     },
     "metadata": {},
     "output_type": "display_data"
    }
   ],
   "source": [
    "px.scatter(avg_data, x=\"MedianHHIncome\", y=\"Avg R Donations\", hover_name=\"Town\", size=\"Nmembers\", size_max=50, color=\"Avg # R Donations\", color_continuous_scale=px.colors.diverging.Spectral, log_x=True)\n"
   ]
  },
  {
   "cell_type": "code",
   "execution_count": 27,
   "metadata": {},
   "outputs": [
    {
     "data": {
      "application/vnd.plotly.v1+json": {
       "config": {
        "linkText": "Export to plot.ly",
        "plotlyServerURL": "https://plot.ly",
        "showLink": false
       },
       "data": [
        {
         "hovertemplate": "<b>%{hovertext}</b><br><br>PercBAplus=%{x}<br>Avg UR Donations=%{y}<br>Nmembers=%{marker.size}<br>Avg # UR Donations=%{marker.color}<extra></extra>",
         "hovertext": [
          "Bath",
          "Bradford",
          "Canaan",
          "Cavendish",
          "Charlestown",
          "Chelsea",
          "Claremont",
          "Corinth",
          "Cornish",
          "Croydon",
          "Dorchester",
          "Enfield",
          "Fairlee",
          "Grafton",
          "Grantham",
          "Hanover",
          "Hartford",
          "Hartland",
          "Haverhill",
          "Lebanon",
          "Lyme",
          "Newbury",
          "Newport",
          "Norwich",
          "Orange",
          "Orford",
          "Piermont",
          "Plainfield",
          "Pomfret",
          "Reading",
          "Royalton",
          "Ryegate",
          "Sharon",
          "Springfield",
          "Strafford",
          "Thetford",
          "Topsham",
          "Tunbridge",
          "Unity",
          "Vershire",
          "Weathersfield",
          "West Fairlee",
          "West Windsor",
          "Windsor",
          "Woodstock"
         ],
         "legendgroup": "",
         "marker": {
          "cmax": 1.9878048780487805,
          "cmin": 0,
          "color": [
           0,
           0.8785714285714286,
           1.0095693779904307,
           0,
           0.308411214953271,
           0.21666666666666667,
           0.18902439024390244,
           0.42391304347826086,
           1.1884816753926701,
           0,
           0,
           1.076086956521739,
           0.9464285714285714,
           0.59375,
           0.8636363636363636,
           1.9401041666666667,
           0.7713310580204779,
           0.6888888888888889,
           1.9878048780487805,
           1.3008130081300813,
           1.9174311926605505,
           0.6565656565656566,
           0,
           1.478713339640492,
           0,
           1.379746835443038,
           1.1363636363636365,
           1.3644859813084111,
           1.141025641025641,
           0.19148936170212766,
           0.5766871165644172,
           0.6666666666666666,
           0.6842105263157895,
           0.6055555555555555,
           0.9601769911504425,
           1.4878048780487805,
           0.03571428571428571,
           0.589041095890411,
           0,
           1.064516129032258,
           1.0506329113924051,
           0,
           0.6842105263157895,
           0.7960199004975125,
           0.8623188405797102
          ],
          "colorbar": {
           "title": {
            "text": "Avg # UR Donations"
           }
          },
          "colorscale": [
           [
            0,
            "rgb(158,1,66)"
           ],
           [
            0.1,
            "rgb(213,62,79)"
           ],
           [
            0.2,
            "rgb(244,109,67)"
           ],
           [
            0.3,
            "rgb(253,174,97)"
           ],
           [
            0.4,
            "rgb(254,224,139)"
           ],
           [
            0.5,
            "rgb(255,255,191)"
           ],
           [
            0.6,
            "rgb(230,245,152)"
           ],
           [
            0.7,
            "rgb(171,221,164)"
           ],
           [
            0.8,
            "rgb(102,194,165)"
           ],
           [
            0.9,
            "rgb(50,136,189)"
           ],
           [
            1,
            "rgb(94,79,162)"
           ]
          ],
          "showscale": true,
          "size": [
           0,
           7,
           10,
           0,
           2,
           1,
           0,
           3,
           11,
           0,
           0,
           20,
           10,
           1,
           11,
           153,
           25,
           8,
           9,
           55,
           59,
           8,
           2,
           79,
           0,
           11,
           6,
           25,
           12,
           2,
           10,
           3,
           7,
           5,
           10,
           52,
           0,
           3,
           0,
           2,
           4,
           0,
           12,
           3,
           19
          ],
          "sizemode": "area",
          "sizeref": 0.0612,
          "symbol": "circle"
         },
         "mode": "markers",
         "name": " ",
         "showlegend": false,
         "type": "scatter",
         "uid": "6cc68a63-cd1b-4201-9de5-efe0044c6908",
         "x": [
          25.274725274725274,
          30.6,
          25.3,
          31.001727115716754,
          14.3,
          30,
          18.6,
          27.8,
          38.8,
          16.2,
          17.2,
          42.3,
          38.6,
          24,
          54.5,
          78.1,
          36.9,
          31,
          18.7,
          44.9,
          68.1,
          29.7,
          22.64808362369338,
          77.8,
          29.7,
          40.9,
          34.8,
          48.5,
          54.3,
          34.1,
          36.8,
          22,
          34.7,
          17.8,
          53.2,
          53.9,
          18.2,
          33.7,
          16.611295681063122,
          37.1,
          20.8,
          26.3,
          47.2,
          24.8,
          50
         ],
         "xaxis": "x",
         "y": [
          0,
          45.607142857142854,
          90.15354066985645,
          0,
          22.19626168224299,
          11.833333333333334,
          28.274390243902438,
          51.08695652173913,
          106.83246073298429,
          0,
          0,
          209.91445652173914,
          123.97678571428571,
          52.8125,
          121.98051948051948,
          1018.2553541666664,
          482.1740784982935,
          47.044444444444444,
          189.4512195121951,
          257.6893031358885,
          1476.0800366972478,
          171.31313131313132,
          0,
          889.002261116367,
          0,
          357.6741772151899,
          2837.9931818181817,
          874.4666666666668,
          2723.3624358974357,
          24.25531914893617,
          43.987730061349694,
          200.77960784313726,
          94.11926315789474,
          116.01466666666667,
          306.5364601769911,
          197.98382113821137,
          8.928571428571429,
          51.36986301369863,
          0,
          399.51612903225805,
          113.10126582278481,
          0,
          852.4944736842104,
          97.98507462686567,
          459.10101449275356
         ],
         "yaxis": "y"
        }
       ],
       "layout": {
        "grid": {
         "xaxes": [
          "x"
         ],
         "xgap": 0.1,
         "xside": "bottom",
         "yaxes": [
          "y"
         ],
         "ygap": 0.1,
         "yside": "left"
        },
        "height": 600,
        "legend": {
         "tracegroupgap": 0
        },
        "margin": {
         "t": 60
        },
        "template": {
         "data": {
          "bar": [
           {
            "marker": {
             "line": {
              "color": "#E5ECF6",
              "width": 0.5
             }
            },
            "type": "bar"
           }
          ],
          "barpolar": [
           {
            "marker": {
             "line": {
              "color": "#E5ECF6",
              "width": 0.5
             }
            },
            "type": "barpolar"
           }
          ],
          "carpet": [
           {
            "aaxis": {
             "endlinecolor": "#2a3f5f",
             "gridcolor": "white",
             "linecolor": "white",
             "minorgridcolor": "white",
             "startlinecolor": "#2a3f5f"
            },
            "baxis": {
             "endlinecolor": "#2a3f5f",
             "gridcolor": "white",
             "linecolor": "white",
             "minorgridcolor": "white",
             "startlinecolor": "#2a3f5f"
            },
            "type": "carpet"
           }
          ],
          "choropleth": [
           {
            "colorbar": {
             "outlinewidth": 0,
             "ticks": ""
            },
            "type": "choropleth"
           }
          ],
          "contour": [
           {
            "autocolorscale": true,
            "colorbar": {
             "outlinewidth": 0,
             "ticks": ""
            },
            "type": "contour"
           }
          ],
          "contourcarpet": [
           {
            "colorbar": {
             "outlinewidth": 0,
             "ticks": ""
            },
            "type": "contourcarpet"
           }
          ],
          "heatmap": [
           {
            "autocolorscale": true,
            "colorbar": {
             "outlinewidth": 0,
             "ticks": ""
            },
            "type": "heatmap"
           }
          ],
          "heatmapgl": [
           {
            "colorbar": {
             "outlinewidth": 0,
             "ticks": ""
            },
            "type": "heatmapgl"
           }
          ],
          "histogram": [
           {
            "marker": {
             "colorbar": {
              "outlinewidth": 0,
              "ticks": ""
             }
            },
            "type": "histogram"
           }
          ],
          "histogram2d": [
           {
            "autocolorscale": true,
            "colorbar": {
             "outlinewidth": 0,
             "ticks": ""
            },
            "type": "histogram2d"
           }
          ],
          "histogram2dcontour": [
           {
            "autocolorscale": true,
            "colorbar": {
             "outlinewidth": 0,
             "ticks": ""
            },
            "type": "histogram2dcontour"
           }
          ],
          "mesh3d": [
           {
            "colorbar": {
             "outlinewidth": 0,
             "ticks": ""
            },
            "type": "mesh3d"
           }
          ],
          "parcoords": [
           {
            "line": {
             "colorbar": {
              "outlinewidth": 0,
              "ticks": ""
             }
            },
            "type": "parcoords"
           }
          ],
          "scatter": [
           {
            "marker": {
             "colorbar": {
              "outlinewidth": 0,
              "ticks": ""
             }
            },
            "type": "scatter"
           }
          ],
          "scatter3d": [
           {
            "marker": {
             "colorbar": {
              "outlinewidth": 0,
              "ticks": ""
             }
            },
            "type": "scatter3d"
           }
          ],
          "scattercarpet": [
           {
            "marker": {
             "colorbar": {
              "outlinewidth": 0,
              "ticks": ""
             }
            },
            "type": "scattercarpet"
           }
          ],
          "scattergeo": [
           {
            "marker": {
             "colorbar": {
              "outlinewidth": 0,
              "ticks": ""
             }
            },
            "type": "scattergeo"
           }
          ],
          "scattergl": [
           {
            "marker": {
             "colorbar": {
              "outlinewidth": 0,
              "ticks": ""
             }
            },
            "type": "scattergl"
           }
          ],
          "scattermapbox": [
           {
            "marker": {
             "colorbar": {
              "outlinewidth": 0,
              "ticks": ""
             }
            },
            "type": "scattermapbox"
           }
          ],
          "scatterpolar": [
           {
            "marker": {
             "colorbar": {
              "outlinewidth": 0,
              "ticks": ""
             }
            },
            "type": "scatterpolar"
           }
          ],
          "scatterpolargl": [
           {
            "marker": {
             "colorbar": {
              "outlinewidth": 0,
              "ticks": ""
             }
            },
            "type": "scatterpolargl"
           }
          ],
          "scatterternary": [
           {
            "marker": {
             "colorbar": {
              "outlinewidth": 0,
              "ticks": ""
             }
            },
            "type": "scatterternary"
           }
          ],
          "surface": [
           {
            "colorbar": {
             "outlinewidth": 0,
             "ticks": ""
            },
            "type": "surface"
           }
          ],
          "table": [
           {
            "cells": {
             "fill": {
              "color": "#EBF0F8"
             },
             "line": {
              "color": "white"
             }
            },
            "header": {
             "fill": {
              "color": "#C8D4E3"
             },
             "line": {
              "color": "white"
             }
            },
            "type": "table"
           }
          ]
         },
         "layout": {
          "annotationdefaults": {
           "arrowcolor": "#506784",
           "arrowhead": 0,
           "arrowwidth": 1
          },
          "colorscale": {
           "diverging": [
            [
             0,
             "#8e0152"
            ],
            [
             0.1,
             "#c51b7d"
            ],
            [
             0.2,
             "#de77ae"
            ],
            [
             0.3,
             "#f1b6da"
            ],
            [
             0.4,
             "#fde0ef"
            ],
            [
             0.5,
             "#f7f7f7"
            ],
            [
             0.6,
             "#e6f5d0"
            ],
            [
             0.7,
             "#b8e186"
            ],
            [
             0.8,
             "#7fbc41"
            ],
            [
             0.9,
             "#4d9221"
            ],
            [
             1,
             "#276419"
            ]
           ],
           "sequential": [
            [
             0,
             "#0508b8"
            ],
            [
             0.0893854748603352,
             "#1910d8"
            ],
            [
             0.1787709497206704,
             "#3c19f0"
            ],
            [
             0.2681564245810056,
             "#6b1cfb"
            ],
            [
             0.3575418994413408,
             "#981cfd"
            ],
            [
             0.44692737430167595,
             "#bf1cfd"
            ],
            [
             0.5363128491620112,
             "#dd2bfd"
            ],
            [
             0.6256983240223464,
             "#f246fe"
            ],
            [
             0.7150837988826816,
             "#fc67fd"
            ],
            [
             0.8044692737430168,
             "#fe88fc"
            ],
            [
             0.8938547486033519,
             "#fea5fd"
            ],
            [
             0.9832402234636871,
             "#febefe"
            ],
            [
             1,
             "#fec3fe"
            ]
           ],
           "sequentialminus": [
            [
             0,
             "#0508b8"
            ],
            [
             0.0893854748603352,
             "#1910d8"
            ],
            [
             0.1787709497206704,
             "#3c19f0"
            ],
            [
             0.2681564245810056,
             "#6b1cfb"
            ],
            [
             0.3575418994413408,
             "#981cfd"
            ],
            [
             0.44692737430167595,
             "#bf1cfd"
            ],
            [
             0.5363128491620112,
             "#dd2bfd"
            ],
            [
             0.6256983240223464,
             "#f246fe"
            ],
            [
             0.7150837988826816,
             "#fc67fd"
            ],
            [
             0.8044692737430168,
             "#fe88fc"
            ],
            [
             0.8938547486033519,
             "#fea5fd"
            ],
            [
             0.9832402234636871,
             "#febefe"
            ],
            [
             1,
             "#fec3fe"
            ]
           ]
          },
          "colorway": [
           "#636efa",
           "#EF553B",
           "#00cc96",
           "#ab63fa",
           "#19d3f3",
           "#e763fa",
           "#FECB52",
           "#FFA15A",
           "#FF6692",
           "#B6E880"
          ],
          "font": {
           "color": "#2a3f5f"
          },
          "geo": {
           "bgcolor": "white",
           "lakecolor": "white",
           "landcolor": "#E5ECF6",
           "showlakes": true,
           "showland": true,
           "subunitcolor": "white"
          },
          "hovermode": "closest",
          "mapbox": {
           "style": "light"
          },
          "paper_bgcolor": "white",
          "plot_bgcolor": "#E5ECF6",
          "polar": {
           "angularaxis": {
            "gridcolor": "white",
            "linecolor": "white",
            "ticks": ""
           },
           "bgcolor": "#E5ECF6",
           "radialaxis": {
            "gridcolor": "white",
            "linecolor": "white",
            "ticks": ""
           }
          },
          "scene": {
           "xaxis": {
            "backgroundcolor": "#E5ECF6",
            "gridcolor": "white",
            "gridwidth": 2,
            "linecolor": "white",
            "showbackground": true,
            "ticks": "",
            "zerolinecolor": "white"
           },
           "yaxis": {
            "backgroundcolor": "#E5ECF6",
            "gridcolor": "white",
            "gridwidth": 2,
            "linecolor": "white",
            "showbackground": true,
            "ticks": "",
            "zerolinecolor": "white"
           },
           "zaxis": {
            "backgroundcolor": "#E5ECF6",
            "gridcolor": "white",
            "gridwidth": 2,
            "linecolor": "white",
            "showbackground": true,
            "ticks": "",
            "zerolinecolor": "white"
           }
          },
          "shapedefaults": {
           "fillcolor": "#506784",
           "line": {
            "width": 0
           },
           "opacity": 0.4
          },
          "ternary": {
           "aaxis": {
            "gridcolor": "white",
            "linecolor": "white",
            "ticks": ""
           },
           "baxis": {
            "gridcolor": "white",
            "linecolor": "white",
            "ticks": ""
           },
           "bgcolor": "#E5ECF6",
           "caxis": {
            "gridcolor": "white",
            "linecolor": "white",
            "ticks": ""
           }
          },
          "title": {
           "x": 0.05
          },
          "xaxis": {
           "automargin": true,
           "gridcolor": "white",
           "linecolor": "white",
           "ticks": "",
           "zerolinecolor": "white",
           "zerolinewidth": 2
          },
          "yaxis": {
           "automargin": true,
           "gridcolor": "white",
           "linecolor": "white",
           "ticks": "",
           "zerolinecolor": "white",
           "zerolinewidth": 2
          }
         }
        },
        "xaxis": {
         "title": {
          "text": "PercBAplus"
         },
         "type": "log"
        },
        "yaxis": {
         "title": {
          "text": "Avg UR Donations"
         }
        }
       }
      },
      "text/html": [
       "<div id=\"2a0f1d5a-5aed-471e-be90-6b3edf6ac75a\" style=\"height: 600px; width: 100%;\" class=\"plotly-graph-div\"></div><script type=\"text/javascript\">require([\"plotly\"], function(Plotly) { window.PLOTLYENV=window.PLOTLYENV || {};window.PLOTLYENV.BASE_URL=\"https://plot.ly\";\n",
       "if (document.getElementById(\"2a0f1d5a-5aed-471e-be90-6b3edf6ac75a\")) {\n",
       "    Plotly.newPlot(\"2a0f1d5a-5aed-471e-be90-6b3edf6ac75a\", [{\"hovertemplate\": \"<b>%{hovertext}</b><br><br>PercBAplus=%{x}<br>Avg UR Donations=%{y}<br>Nmembers=%{marker.size}<br>Avg # UR Donations=%{marker.color}<extra></extra>\", \"hovertext\": [\"Bath\", \"Bradford\", \"Canaan\", \"Cavendish\", \"Charlestown\", \"Chelsea\", \"Claremont\", \"Corinth\", \"Cornish\", \"Croydon\", \"Dorchester\", \"Enfield\", \"Fairlee\", \"Grafton\", \"Grantham\", \"Hanover\", \"Hartford\", \"Hartland\", \"Haverhill\", \"Lebanon\", \"Lyme\", \"Newbury\", \"Newport\", \"Norwich\", \"Orange\", \"Orford\", \"Piermont\", \"Plainfield\", \"Pomfret\", \"Reading\", \"Royalton\", \"Ryegate\", \"Sharon\", \"Springfield\", \"Strafford\", \"Thetford\", \"Topsham\", \"Tunbridge\", \"Unity\", \"Vershire\", \"Weathersfield\", \"West Fairlee\", \"West Windsor\", \"Windsor\", \"Woodstock\"], \"legendgroup\": \"\", \"marker\": {\"cmax\": 1.9878048780487805, \"cmin\": 0.0, \"color\": [0.0, 0.8785714285714286, 1.0095693779904307, 0.0, 0.308411214953271, 0.21666666666666667, 0.18902439024390244, 0.42391304347826086, 1.1884816753926701, 0.0, 0.0, 1.076086956521739, 0.9464285714285714, 0.59375, 0.8636363636363636, 1.9401041666666667, 0.7713310580204779, 0.6888888888888889, 1.9878048780487805, 1.3008130081300813, 1.9174311926605505, 0.6565656565656566, 0.0, 1.478713339640492, 0.0, 1.379746835443038, 1.1363636363636365, 1.3644859813084111, 1.141025641025641, 0.19148936170212766, 0.5766871165644172, 0.6666666666666666, 0.6842105263157895, 0.6055555555555555, 0.9601769911504425, 1.4878048780487805, 0.03571428571428571, 0.589041095890411, 0.0, 1.064516129032258, 1.0506329113924051, 0.0, 0.6842105263157895, 0.7960199004975125, 0.8623188405797102], \"colorbar\": {\"title\": {\"text\": \"Avg # UR Donations\"}}, \"colorscale\": [[0.0, \"rgb(158,1,66)\"], [0.1, \"rgb(213,62,79)\"], [0.2, \"rgb(244,109,67)\"], [0.3, \"rgb(253,174,97)\"], [0.4, \"rgb(254,224,139)\"], [0.5, \"rgb(255,255,191)\"], [0.6, \"rgb(230,245,152)\"], [0.7, \"rgb(171,221,164)\"], [0.8, \"rgb(102,194,165)\"], [0.9, \"rgb(50,136,189)\"], [1.0, \"rgb(94,79,162)\"]], \"showscale\": true, \"size\": [0, 7, 10, 0, 2, 1, 0, 3, 11, 0, 0, 20, 10, 1, 11, 153, 25, 8, 9, 55, 59, 8, 2, 79, 0, 11, 6, 25, 12, 2, 10, 3, 7, 5, 10, 52, 0, 3, 0, 2, 4, 0, 12, 3, 19], \"sizemode\": \"area\", \"sizeref\": 0.0612, \"symbol\": \"circle\"}, \"mode\": \"markers\", \"name\": \" \", \"showlegend\": false, \"x\": [25.274725274725274, 30.6, 25.3, 31.001727115716754, 14.3, 30.0, 18.6, 27.8, 38.8, 16.2, 17.2, 42.3, 38.6, 24.0, 54.5, 78.1, 36.9, 31.0, 18.7, 44.9, 68.1, 29.7, 22.64808362369338, 77.8, 29.7, 40.9, 34.8, 48.5, 54.3, 34.1, 36.8, 22.0, 34.7, 17.8, 53.2, 53.9, 18.2, 33.7, 16.611295681063122, 37.1, 20.8, 26.3, 47.2, 24.8, 50.0], \"xaxis\": \"x\", \"y\": [0.0, 45.607142857142854, 90.15354066985645, 0.0, 22.19626168224299, 11.833333333333334, 28.274390243902438, 51.08695652173913, 106.83246073298429, 0.0, 0.0, 209.91445652173914, 123.97678571428571, 52.8125, 121.98051948051948, 1018.2553541666664, 482.1740784982935, 47.044444444444444, 189.4512195121951, 257.6893031358885, 1476.0800366972478, 171.31313131313132, 0.0, 889.002261116367, 0.0, 357.6741772151899, 2837.9931818181817, 874.4666666666668, 2723.3624358974357, 24.25531914893617, 43.987730061349694, 200.77960784313726, 94.11926315789474, 116.01466666666667, 306.5364601769911, 197.98382113821137, 8.928571428571429, 51.36986301369863, 0.0, 399.51612903225805, 113.10126582278481, 0.0, 852.4944736842104, 97.98507462686567, 459.10101449275356], \"yaxis\": \"y\", \"type\": \"scatter\", \"uid\": \"6cc68a63-cd1b-4201-9de5-efe0044c6908\"}], {\"height\": 600, \"legend\": {\"tracegroupgap\": 0}, \"margin\": {\"t\": 60}, \"template\": {\"data\": {\"barpolar\": [{\"marker\": {\"line\": {\"color\": \"#E5ECF6\", \"width\": 0.5}}, \"type\": \"barpolar\"}], \"bar\": [{\"marker\": {\"line\": {\"color\": \"#E5ECF6\", \"width\": 0.5}}, \"type\": \"bar\"}], \"carpet\": [{\"aaxis\": {\"endlinecolor\": \"#2a3f5f\", \"gridcolor\": \"white\", \"linecolor\": \"white\", \"minorgridcolor\": \"white\", \"startlinecolor\": \"#2a3f5f\"}, \"baxis\": {\"endlinecolor\": \"#2a3f5f\", \"gridcolor\": \"white\", \"linecolor\": \"white\", \"minorgridcolor\": \"white\", \"startlinecolor\": \"#2a3f5f\"}, \"type\": \"carpet\"}], \"choropleth\": [{\"colorbar\": {\"outlinewidth\": 0, \"ticks\": \"\"}, \"type\": \"choropleth\"}], \"contourcarpet\": [{\"colorbar\": {\"outlinewidth\": 0, \"ticks\": \"\"}, \"type\": \"contourcarpet\"}], \"contour\": [{\"autocolorscale\": true, \"colorbar\": {\"outlinewidth\": 0, \"ticks\": \"\"}, \"type\": \"contour\"}], \"heatmapgl\": [{\"colorbar\": {\"outlinewidth\": 0, \"ticks\": \"\"}, \"type\": \"heatmapgl\"}], \"heatmap\": [{\"autocolorscale\": true, \"colorbar\": {\"outlinewidth\": 0, \"ticks\": \"\"}, \"type\": \"heatmap\"}], \"histogram2dcontour\": [{\"autocolorscale\": true, \"colorbar\": {\"outlinewidth\": 0, \"ticks\": \"\"}, \"type\": \"histogram2dcontour\"}], \"histogram2d\": [{\"autocolorscale\": true, \"colorbar\": {\"outlinewidth\": 0, \"ticks\": \"\"}, \"type\": \"histogram2d\"}], \"histogram\": [{\"marker\": {\"colorbar\": {\"outlinewidth\": 0, \"ticks\": \"\"}}, \"type\": \"histogram\"}], \"mesh3d\": [{\"colorbar\": {\"outlinewidth\": 0, \"ticks\": \"\"}, \"type\": \"mesh3d\"}], \"parcoords\": [{\"line\": {\"colorbar\": {\"outlinewidth\": 0, \"ticks\": \"\"}}, \"type\": \"parcoords\"}], \"scatter3d\": [{\"marker\": {\"colorbar\": {\"outlinewidth\": 0, \"ticks\": \"\"}}, \"type\": \"scatter3d\"}], \"scattercarpet\": [{\"marker\": {\"colorbar\": {\"outlinewidth\": 0, \"ticks\": \"\"}}, \"type\": \"scattercarpet\"}], \"scattergeo\": [{\"marker\": {\"colorbar\": {\"outlinewidth\": 0, \"ticks\": \"\"}}, \"type\": \"scattergeo\"}], \"scattergl\": [{\"marker\": {\"colorbar\": {\"outlinewidth\": 0, \"ticks\": \"\"}}, \"type\": \"scattergl\"}], \"scattermapbox\": [{\"marker\": {\"colorbar\": {\"outlinewidth\": 0, \"ticks\": \"\"}}, \"type\": \"scattermapbox\"}], \"scatterpolargl\": [{\"marker\": {\"colorbar\": {\"outlinewidth\": 0, \"ticks\": \"\"}}, \"type\": \"scatterpolargl\"}], \"scatterpolar\": [{\"marker\": {\"colorbar\": {\"outlinewidth\": 0, \"ticks\": \"\"}}, \"type\": \"scatterpolar\"}], \"scatter\": [{\"marker\": {\"colorbar\": {\"outlinewidth\": 0, \"ticks\": \"\"}}, \"type\": \"scatter\"}], \"scatterternary\": [{\"marker\": {\"colorbar\": {\"outlinewidth\": 0, \"ticks\": \"\"}}, \"type\": \"scatterternary\"}], \"surface\": [{\"colorbar\": {\"outlinewidth\": 0, \"ticks\": \"\"}, \"type\": \"surface\"}], \"table\": [{\"cells\": {\"fill\": {\"color\": \"#EBF0F8\"}, \"line\": {\"color\": \"white\"}}, \"header\": {\"fill\": {\"color\": \"#C8D4E3\"}, \"line\": {\"color\": \"white\"}}, \"type\": \"table\"}]}, \"layout\": {\"annotationdefaults\": {\"arrowcolor\": \"#506784\", \"arrowhead\": 0, \"arrowwidth\": 1}, \"colorscale\": {\"diverging\": [[0, \"#8e0152\"], [0.1, \"#c51b7d\"], [0.2, \"#de77ae\"], [0.3, \"#f1b6da\"], [0.4, \"#fde0ef\"], [0.5, \"#f7f7f7\"], [0.6, \"#e6f5d0\"], [0.7, \"#b8e186\"], [0.8, \"#7fbc41\"], [0.9, \"#4d9221\"], [1, \"#276419\"]], \"sequential\": [[0.0, \"#0508b8\"], [0.0893854748603352, \"#1910d8\"], [0.1787709497206704, \"#3c19f0\"], [0.2681564245810056, \"#6b1cfb\"], [0.3575418994413408, \"#981cfd\"], [0.44692737430167595, \"#bf1cfd\"], [0.5363128491620112, \"#dd2bfd\"], [0.6256983240223464, \"#f246fe\"], [0.7150837988826816, \"#fc67fd\"], [0.8044692737430168, \"#fe88fc\"], [0.8938547486033519, \"#fea5fd\"], [0.9832402234636871, \"#febefe\"], [1.0, \"#fec3fe\"]], \"sequentialminus\": [[0.0, \"#0508b8\"], [0.0893854748603352, \"#1910d8\"], [0.1787709497206704, \"#3c19f0\"], [0.2681564245810056, \"#6b1cfb\"], [0.3575418994413408, \"#981cfd\"], [0.44692737430167595, \"#bf1cfd\"], [0.5363128491620112, \"#dd2bfd\"], [0.6256983240223464, \"#f246fe\"], [0.7150837988826816, \"#fc67fd\"], [0.8044692737430168, \"#fe88fc\"], [0.8938547486033519, \"#fea5fd\"], [0.9832402234636871, \"#febefe\"], [1.0, \"#fec3fe\"]]}, \"colorway\": [\"#636efa\", \"#EF553B\", \"#00cc96\", \"#ab63fa\", \"#19d3f3\", \"#e763fa\", \"#FECB52\", \"#FFA15A\", \"#FF6692\", \"#B6E880\"], \"font\": {\"color\": \"#2a3f5f\"}, \"geo\": {\"bgcolor\": \"white\", \"lakecolor\": \"white\", \"landcolor\": \"#E5ECF6\", \"showlakes\": true, \"showland\": true, \"subunitcolor\": \"white\"}, \"hovermode\": \"closest\", \"mapbox\": {\"style\": \"light\"}, \"paper_bgcolor\": \"white\", \"plot_bgcolor\": \"#E5ECF6\", \"polar\": {\"angularaxis\": {\"gridcolor\": \"white\", \"linecolor\": \"white\", \"ticks\": \"\"}, \"bgcolor\": \"#E5ECF6\", \"radialaxis\": {\"gridcolor\": \"white\", \"linecolor\": \"white\", \"ticks\": \"\"}}, \"scene\": {\"xaxis\": {\"backgroundcolor\": \"#E5ECF6\", \"gridcolor\": \"white\", \"gridwidth\": 2, \"linecolor\": \"white\", \"showbackground\": true, \"ticks\": \"\", \"zerolinecolor\": \"white\"}, \"yaxis\": {\"backgroundcolor\": \"#E5ECF6\", \"gridcolor\": \"white\", \"gridwidth\": 2, \"linecolor\": \"white\", \"showbackground\": true, \"ticks\": \"\", \"zerolinecolor\": \"white\"}, \"zaxis\": {\"backgroundcolor\": \"#E5ECF6\", \"gridcolor\": \"white\", \"gridwidth\": 2, \"linecolor\": \"white\", \"showbackground\": true, \"ticks\": \"\", \"zerolinecolor\": \"white\"}}, \"shapedefaults\": {\"fillcolor\": \"#506784\", \"line\": {\"width\": 0}, \"opacity\": 0.4}, \"ternary\": {\"aaxis\": {\"gridcolor\": \"white\", \"linecolor\": \"white\", \"ticks\": \"\"}, \"baxis\": {\"gridcolor\": \"white\", \"linecolor\": \"white\", \"ticks\": \"\"}, \"bgcolor\": \"#E5ECF6\", \"caxis\": {\"gridcolor\": \"white\", \"linecolor\": \"white\", \"ticks\": \"\"}}, \"title\": {\"x\": 0.05}, \"xaxis\": {\"automargin\": true, \"gridcolor\": \"white\", \"linecolor\": \"white\", \"ticks\": \"\", \"zerolinecolor\": \"white\", \"zerolinewidth\": 2}, \"yaxis\": {\"automargin\": true, \"gridcolor\": \"white\", \"linecolor\": \"white\", \"ticks\": \"\", \"zerolinecolor\": \"white\", \"zerolinewidth\": 2}}}, \"grid\": {\"xaxes\": [\"x\"], \"yaxes\": [\"y\"], \"xgap\": 0.1, \"ygap\": 0.1, \"xside\": \"bottom\", \"yside\": \"left\"}, \"xaxis\": {\"title\": {\"text\": \"PercBAplus\"}, \"type\": \"log\"}, \"yaxis\": {\"title\": {\"text\": \"Avg UR Donations\"}}}, {\"showLink\": false, \"linkText\": \"Export to plot.ly\", \"plotlyServerURL\": \"https://plot.ly\"}); \n",
       "}\n",
       "});</script><script type=\"text/javascript\">window.addEventListener(\"resize\", function(){if (document.getElementById(\"2a0f1d5a-5aed-471e-be90-6b3edf6ac75a\")) {window._Plotly.Plots.resize(document.getElementById(\"2a0f1d5a-5aed-471e-be90-6b3edf6ac75a\"));};})</script>"
      ],
      "text/vnd.plotly.v1+html": [
       "<div id=\"2a0f1d5a-5aed-471e-be90-6b3edf6ac75a\" style=\"height: 600px; width: 100%;\" class=\"plotly-graph-div\"></div><script type=\"text/javascript\">require([\"plotly\"], function(Plotly) { window.PLOTLYENV=window.PLOTLYENV || {};window.PLOTLYENV.BASE_URL=\"https://plot.ly\";\n",
       "if (document.getElementById(\"2a0f1d5a-5aed-471e-be90-6b3edf6ac75a\")) {\n",
       "    Plotly.newPlot(\"2a0f1d5a-5aed-471e-be90-6b3edf6ac75a\", [{\"hovertemplate\": \"<b>%{hovertext}</b><br><br>PercBAplus=%{x}<br>Avg UR Donations=%{y}<br>Nmembers=%{marker.size}<br>Avg # UR Donations=%{marker.color}<extra></extra>\", \"hovertext\": [\"Bath\", \"Bradford\", \"Canaan\", \"Cavendish\", \"Charlestown\", \"Chelsea\", \"Claremont\", \"Corinth\", \"Cornish\", \"Croydon\", \"Dorchester\", \"Enfield\", \"Fairlee\", \"Grafton\", \"Grantham\", \"Hanover\", \"Hartford\", \"Hartland\", \"Haverhill\", \"Lebanon\", \"Lyme\", \"Newbury\", \"Newport\", \"Norwich\", \"Orange\", \"Orford\", \"Piermont\", \"Plainfield\", \"Pomfret\", \"Reading\", \"Royalton\", \"Ryegate\", \"Sharon\", \"Springfield\", \"Strafford\", \"Thetford\", \"Topsham\", \"Tunbridge\", \"Unity\", \"Vershire\", \"Weathersfield\", \"West Fairlee\", \"West Windsor\", \"Windsor\", \"Woodstock\"], \"legendgroup\": \"\", \"marker\": {\"cmax\": 1.9878048780487805, \"cmin\": 0.0, \"color\": [0.0, 0.8785714285714286, 1.0095693779904307, 0.0, 0.308411214953271, 0.21666666666666667, 0.18902439024390244, 0.42391304347826086, 1.1884816753926701, 0.0, 0.0, 1.076086956521739, 0.9464285714285714, 0.59375, 0.8636363636363636, 1.9401041666666667, 0.7713310580204779, 0.6888888888888889, 1.9878048780487805, 1.3008130081300813, 1.9174311926605505, 0.6565656565656566, 0.0, 1.478713339640492, 0.0, 1.379746835443038, 1.1363636363636365, 1.3644859813084111, 1.141025641025641, 0.19148936170212766, 0.5766871165644172, 0.6666666666666666, 0.6842105263157895, 0.6055555555555555, 0.9601769911504425, 1.4878048780487805, 0.03571428571428571, 0.589041095890411, 0.0, 1.064516129032258, 1.0506329113924051, 0.0, 0.6842105263157895, 0.7960199004975125, 0.8623188405797102], \"colorbar\": {\"title\": {\"text\": \"Avg # UR Donations\"}}, \"colorscale\": [[0.0, \"rgb(158,1,66)\"], [0.1, \"rgb(213,62,79)\"], [0.2, \"rgb(244,109,67)\"], [0.3, \"rgb(253,174,97)\"], [0.4, \"rgb(254,224,139)\"], [0.5, \"rgb(255,255,191)\"], [0.6, \"rgb(230,245,152)\"], [0.7, \"rgb(171,221,164)\"], [0.8, \"rgb(102,194,165)\"], [0.9, \"rgb(50,136,189)\"], [1.0, \"rgb(94,79,162)\"]], \"showscale\": true, \"size\": [0, 7, 10, 0, 2, 1, 0, 3, 11, 0, 0, 20, 10, 1, 11, 153, 25, 8, 9, 55, 59, 8, 2, 79, 0, 11, 6, 25, 12, 2, 10, 3, 7, 5, 10, 52, 0, 3, 0, 2, 4, 0, 12, 3, 19], \"sizemode\": \"area\", \"sizeref\": 0.0612, \"symbol\": \"circle\"}, \"mode\": \"markers\", \"name\": \" \", \"showlegend\": false, \"x\": [25.274725274725274, 30.6, 25.3, 31.001727115716754, 14.3, 30.0, 18.6, 27.8, 38.8, 16.2, 17.2, 42.3, 38.6, 24.0, 54.5, 78.1, 36.9, 31.0, 18.7, 44.9, 68.1, 29.7, 22.64808362369338, 77.8, 29.7, 40.9, 34.8, 48.5, 54.3, 34.1, 36.8, 22.0, 34.7, 17.8, 53.2, 53.9, 18.2, 33.7, 16.611295681063122, 37.1, 20.8, 26.3, 47.2, 24.8, 50.0], \"xaxis\": \"x\", \"y\": [0.0, 45.607142857142854, 90.15354066985645, 0.0, 22.19626168224299, 11.833333333333334, 28.274390243902438, 51.08695652173913, 106.83246073298429, 0.0, 0.0, 209.91445652173914, 123.97678571428571, 52.8125, 121.98051948051948, 1018.2553541666664, 482.1740784982935, 47.044444444444444, 189.4512195121951, 257.6893031358885, 1476.0800366972478, 171.31313131313132, 0.0, 889.002261116367, 0.0, 357.6741772151899, 2837.9931818181817, 874.4666666666668, 2723.3624358974357, 24.25531914893617, 43.987730061349694, 200.77960784313726, 94.11926315789474, 116.01466666666667, 306.5364601769911, 197.98382113821137, 8.928571428571429, 51.36986301369863, 0.0, 399.51612903225805, 113.10126582278481, 0.0, 852.4944736842104, 97.98507462686567, 459.10101449275356], \"yaxis\": \"y\", \"type\": \"scatter\", \"uid\": \"6cc68a63-cd1b-4201-9de5-efe0044c6908\"}], {\"height\": 600, \"legend\": {\"tracegroupgap\": 0}, \"margin\": {\"t\": 60}, \"template\": {\"data\": {\"barpolar\": [{\"marker\": {\"line\": {\"color\": \"#E5ECF6\", \"width\": 0.5}}, \"type\": \"barpolar\"}], \"bar\": [{\"marker\": {\"line\": {\"color\": \"#E5ECF6\", \"width\": 0.5}}, \"type\": \"bar\"}], \"carpet\": [{\"aaxis\": {\"endlinecolor\": \"#2a3f5f\", \"gridcolor\": \"white\", \"linecolor\": \"white\", \"minorgridcolor\": \"white\", \"startlinecolor\": \"#2a3f5f\"}, \"baxis\": {\"endlinecolor\": \"#2a3f5f\", \"gridcolor\": \"white\", \"linecolor\": \"white\", \"minorgridcolor\": \"white\", \"startlinecolor\": \"#2a3f5f\"}, \"type\": \"carpet\"}], \"choropleth\": [{\"colorbar\": {\"outlinewidth\": 0, \"ticks\": \"\"}, \"type\": \"choropleth\"}], \"contourcarpet\": [{\"colorbar\": {\"outlinewidth\": 0, \"ticks\": \"\"}, \"type\": \"contourcarpet\"}], \"contour\": [{\"autocolorscale\": true, \"colorbar\": {\"outlinewidth\": 0, \"ticks\": \"\"}, \"type\": \"contour\"}], \"heatmapgl\": [{\"colorbar\": {\"outlinewidth\": 0, \"ticks\": \"\"}, \"type\": \"heatmapgl\"}], \"heatmap\": [{\"autocolorscale\": true, \"colorbar\": {\"outlinewidth\": 0, \"ticks\": \"\"}, \"type\": \"heatmap\"}], \"histogram2dcontour\": [{\"autocolorscale\": true, \"colorbar\": {\"outlinewidth\": 0, \"ticks\": \"\"}, \"type\": \"histogram2dcontour\"}], \"histogram2d\": [{\"autocolorscale\": true, \"colorbar\": {\"outlinewidth\": 0, \"ticks\": \"\"}, \"type\": \"histogram2d\"}], \"histogram\": [{\"marker\": {\"colorbar\": {\"outlinewidth\": 0, \"ticks\": \"\"}}, \"type\": \"histogram\"}], \"mesh3d\": [{\"colorbar\": {\"outlinewidth\": 0, \"ticks\": \"\"}, \"type\": \"mesh3d\"}], \"parcoords\": [{\"line\": {\"colorbar\": {\"outlinewidth\": 0, \"ticks\": \"\"}}, \"type\": \"parcoords\"}], \"scatter3d\": [{\"marker\": {\"colorbar\": {\"outlinewidth\": 0, \"ticks\": \"\"}}, \"type\": \"scatter3d\"}], \"scattercarpet\": [{\"marker\": {\"colorbar\": {\"outlinewidth\": 0, \"ticks\": \"\"}}, \"type\": \"scattercarpet\"}], \"scattergeo\": [{\"marker\": {\"colorbar\": {\"outlinewidth\": 0, \"ticks\": \"\"}}, \"type\": \"scattergeo\"}], \"scattergl\": [{\"marker\": {\"colorbar\": {\"outlinewidth\": 0, \"ticks\": \"\"}}, \"type\": \"scattergl\"}], \"scattermapbox\": [{\"marker\": {\"colorbar\": {\"outlinewidth\": 0, \"ticks\": \"\"}}, \"type\": \"scattermapbox\"}], \"scatterpolargl\": [{\"marker\": {\"colorbar\": {\"outlinewidth\": 0, \"ticks\": \"\"}}, \"type\": \"scatterpolargl\"}], \"scatterpolar\": [{\"marker\": {\"colorbar\": {\"outlinewidth\": 0, \"ticks\": \"\"}}, \"type\": \"scatterpolar\"}], \"scatter\": [{\"marker\": {\"colorbar\": {\"outlinewidth\": 0, \"ticks\": \"\"}}, \"type\": \"scatter\"}], \"scatterternary\": [{\"marker\": {\"colorbar\": {\"outlinewidth\": 0, \"ticks\": \"\"}}, \"type\": \"scatterternary\"}], \"surface\": [{\"colorbar\": {\"outlinewidth\": 0, \"ticks\": \"\"}, \"type\": \"surface\"}], \"table\": [{\"cells\": {\"fill\": {\"color\": \"#EBF0F8\"}, \"line\": {\"color\": \"white\"}}, \"header\": {\"fill\": {\"color\": \"#C8D4E3\"}, \"line\": {\"color\": \"white\"}}, \"type\": \"table\"}]}, \"layout\": {\"annotationdefaults\": {\"arrowcolor\": \"#506784\", \"arrowhead\": 0, \"arrowwidth\": 1}, \"colorscale\": {\"diverging\": [[0, \"#8e0152\"], [0.1, \"#c51b7d\"], [0.2, \"#de77ae\"], [0.3, \"#f1b6da\"], [0.4, \"#fde0ef\"], [0.5, \"#f7f7f7\"], [0.6, \"#e6f5d0\"], [0.7, \"#b8e186\"], [0.8, \"#7fbc41\"], [0.9, \"#4d9221\"], [1, \"#276419\"]], \"sequential\": [[0.0, \"#0508b8\"], [0.0893854748603352, \"#1910d8\"], [0.1787709497206704, \"#3c19f0\"], [0.2681564245810056, \"#6b1cfb\"], [0.3575418994413408, \"#981cfd\"], [0.44692737430167595, \"#bf1cfd\"], [0.5363128491620112, \"#dd2bfd\"], [0.6256983240223464, \"#f246fe\"], [0.7150837988826816, \"#fc67fd\"], [0.8044692737430168, \"#fe88fc\"], [0.8938547486033519, \"#fea5fd\"], [0.9832402234636871, \"#febefe\"], [1.0, \"#fec3fe\"]], \"sequentialminus\": [[0.0, \"#0508b8\"], [0.0893854748603352, \"#1910d8\"], [0.1787709497206704, \"#3c19f0\"], [0.2681564245810056, \"#6b1cfb\"], [0.3575418994413408, \"#981cfd\"], [0.44692737430167595, \"#bf1cfd\"], [0.5363128491620112, \"#dd2bfd\"], [0.6256983240223464, \"#f246fe\"], [0.7150837988826816, \"#fc67fd\"], [0.8044692737430168, \"#fe88fc\"], [0.8938547486033519, \"#fea5fd\"], [0.9832402234636871, \"#febefe\"], [1.0, \"#fec3fe\"]]}, \"colorway\": [\"#636efa\", \"#EF553B\", \"#00cc96\", \"#ab63fa\", \"#19d3f3\", \"#e763fa\", \"#FECB52\", \"#FFA15A\", \"#FF6692\", \"#B6E880\"], \"font\": {\"color\": \"#2a3f5f\"}, \"geo\": {\"bgcolor\": \"white\", \"lakecolor\": \"white\", \"landcolor\": \"#E5ECF6\", \"showlakes\": true, \"showland\": true, \"subunitcolor\": \"white\"}, \"hovermode\": \"closest\", \"mapbox\": {\"style\": \"light\"}, \"paper_bgcolor\": \"white\", \"plot_bgcolor\": \"#E5ECF6\", \"polar\": {\"angularaxis\": {\"gridcolor\": \"white\", \"linecolor\": \"white\", \"ticks\": \"\"}, \"bgcolor\": \"#E5ECF6\", \"radialaxis\": {\"gridcolor\": \"white\", \"linecolor\": \"white\", \"ticks\": \"\"}}, \"scene\": {\"xaxis\": {\"backgroundcolor\": \"#E5ECF6\", \"gridcolor\": \"white\", \"gridwidth\": 2, \"linecolor\": \"white\", \"showbackground\": true, \"ticks\": \"\", \"zerolinecolor\": \"white\"}, \"yaxis\": {\"backgroundcolor\": \"#E5ECF6\", \"gridcolor\": \"white\", \"gridwidth\": 2, \"linecolor\": \"white\", \"showbackground\": true, \"ticks\": \"\", \"zerolinecolor\": \"white\"}, \"zaxis\": {\"backgroundcolor\": \"#E5ECF6\", \"gridcolor\": \"white\", \"gridwidth\": 2, \"linecolor\": \"white\", \"showbackground\": true, \"ticks\": \"\", \"zerolinecolor\": \"white\"}}, \"shapedefaults\": {\"fillcolor\": \"#506784\", \"line\": {\"width\": 0}, \"opacity\": 0.4}, \"ternary\": {\"aaxis\": {\"gridcolor\": \"white\", \"linecolor\": \"white\", \"ticks\": \"\"}, \"baxis\": {\"gridcolor\": \"white\", \"linecolor\": \"white\", \"ticks\": \"\"}, \"bgcolor\": \"#E5ECF6\", \"caxis\": {\"gridcolor\": \"white\", \"linecolor\": \"white\", \"ticks\": \"\"}}, \"title\": {\"x\": 0.05}, \"xaxis\": {\"automargin\": true, \"gridcolor\": \"white\", \"linecolor\": \"white\", \"ticks\": \"\", \"zerolinecolor\": \"white\", \"zerolinewidth\": 2}, \"yaxis\": {\"automargin\": true, \"gridcolor\": \"white\", \"linecolor\": \"white\", \"ticks\": \"\", \"zerolinecolor\": \"white\", \"zerolinewidth\": 2}}}, \"grid\": {\"xaxes\": [\"x\"], \"yaxes\": [\"y\"], \"xgap\": 0.1, \"ygap\": 0.1, \"xside\": \"bottom\", \"yside\": \"left\"}, \"xaxis\": {\"title\": {\"text\": \"PercBAplus\"}, \"type\": \"log\"}, \"yaxis\": {\"title\": {\"text\": \"Avg UR Donations\"}}}, {\"showLink\": false, \"linkText\": \"Export to plot.ly\", \"plotlyServerURL\": \"https://plot.ly\"}); \n",
       "}\n",
       "});</script><script type=\"text/javascript\">window.addEventListener(\"resize\", function(){if (document.getElementById(\"2a0f1d5a-5aed-471e-be90-6b3edf6ac75a\")) {window._Plotly.Plots.resize(document.getElementById(\"2a0f1d5a-5aed-471e-be90-6b3edf6ac75a\"));};})</script>"
      ]
     },
     "metadata": {},
     "output_type": "display_data"
    }
   ],
   "source": [
    "px.scatter(avg_data, x=\"PercBAplus\", y=\"Avg UR Donations\", hover_name=\"Town\", size=\"Nmembers\", size_max=50, color=\"Avg # UR Donations\", color_continuous_scale=px.colors.diverging.Spectral, log_x=True)\n"
   ]
  },
  {
   "cell_type": "code",
   "execution_count": 29,
   "metadata": {
    "scrolled": true
   },
   "outputs": [
    {
     "data": {
      "application/vnd.plotly.v1+json": {
       "config": {
        "linkText": "Export to plot.ly",
        "plotlyServerURL": "https://plot.ly",
        "showLink": false
       },
       "data": [
        {
         "hovertemplate": "<b>%{hovertext}</b><br><br>PercBAplus=%{x}<br>Avg R Donations=%{y}<br>Nmembers=%{marker.size}<br>Avg # R Donations=%{marker.color}<extra></extra>",
         "hovertext": [
          "Bath",
          "Bradford",
          "Canaan",
          "Cavendish",
          "Charlestown",
          "Chelsea",
          "Claremont",
          "Corinth",
          "Cornish",
          "Croydon",
          "Dorchester",
          "Enfield",
          "Fairlee",
          "Grafton",
          "Grantham",
          "Hanover",
          "Hartford",
          "Hartland",
          "Haverhill",
          "Lebanon",
          "Lyme",
          "Newbury",
          "Newport",
          "Norwich",
          "Orange",
          "Orford",
          "Piermont",
          "Plainfield",
          "Pomfret",
          "Reading",
          "Royalton",
          "Ryegate",
          "Sharon",
          "Springfield",
          "Strafford",
          "Thetford",
          "Topsham",
          "Tunbridge",
          "Unity",
          "Vershire",
          "Weathersfield",
          "West Fairlee",
          "West Windsor",
          "Windsor",
          "Woodstock"
         ],
         "legendgroup": "",
         "marker": {
          "cmax": 0.5142276422764228,
          "cmin": 0,
          "color": [
           0,
           0.03571428571428571,
           0.014354066985645933,
           0,
           0.018691588785046728,
           0,
           0.04878048780487805,
           0,
           0.17801047120418848,
           0,
           0,
           0.2826086956521739,
           0.10119047619047619,
           0.03125,
           0.032467532467532464,
           0.0921875,
           0.06484641638225255,
           0.4622222222222222,
           0.024390243902439025,
           0.07897793263646923,
           0.24036697247706423,
           0.020202020202020204,
           0,
           0.30274361400189215,
           0,
           0.3291139240506329,
           0.022727272727272728,
           0.09345794392523364,
           0.38461538461538464,
           0,
           0.049079754601226995,
           0.0196078431372549,
           0.031578947368421054,
           0.03333333333333333,
           0.19911504424778761,
           0.5142276422764228,
           0,
           0.0273972602739726,
           0,
           0.06451612903225806,
           0.0759493670886076,
           0,
           0.05263157894736842,
           0.09950248756218906,
           0.17028985507246377
          ],
          "colorbar": {
           "title": {
            "text": "Avg # R Donations"
           }
          },
          "colorscale": [
           [
            0,
            "rgb(158,1,66)"
           ],
           [
            0.1,
            "rgb(213,62,79)"
           ],
           [
            0.2,
            "rgb(244,109,67)"
           ],
           [
            0.3,
            "rgb(253,174,97)"
           ],
           [
            0.4,
            "rgb(254,224,139)"
           ],
           [
            0.5,
            "rgb(255,255,191)"
           ],
           [
            0.6,
            "rgb(230,245,152)"
           ],
           [
            0.7,
            "rgb(171,221,164)"
           ],
           [
            0.8,
            "rgb(102,194,165)"
           ],
           [
            0.9,
            "rgb(50,136,189)"
           ],
           [
            1,
            "rgb(94,79,162)"
           ]
          ],
          "showscale": true,
          "size": [
           0,
           7,
           10,
           0,
           2,
           1,
           0,
           3,
           11,
           0,
           0,
           20,
           10,
           1,
           11,
           153,
           25,
           8,
           9,
           55,
           59,
           8,
           2,
           79,
           0,
           11,
           6,
           25,
           12,
           2,
           10,
           3,
           7,
           5,
           10,
           52,
           0,
           3,
           0,
           2,
           4,
           0,
           12,
           3,
           19
          ],
          "sizemode": "area",
          "sizeref": 0.0612,
          "symbol": "circle"
         },
         "mode": "markers",
         "name": " ",
         "showlegend": false,
         "type": "scatter",
         "uid": "4761f786-ddfc-4dba-9e46-a1de16ee8ad4",
         "x": [
          25.274725274725274,
          30.6,
          25.3,
          31.001727115716754,
          14.3,
          30,
          18.6,
          27.8,
          38.8,
          16.2,
          17.2,
          42.3,
          38.6,
          24,
          54.5,
          78.1,
          36.9,
          31,
          18.7,
          44.9,
          68.1,
          29.7,
          22.64808362369338,
          77.8,
          29.7,
          40.9,
          34.8,
          48.5,
          54.3,
          34.1,
          36.8,
          22,
          34.7,
          17.8,
          53.2,
          53.9,
          18.2,
          33.7,
          16.611295681063122,
          37.1,
          20.8,
          26.3,
          47.2,
          24.8,
          50
         ],
         "xaxis": "x",
         "y": [
          0,
          407.85714285714283,
          3.110047846889952,
          0,
          5.607476635514018,
          0,
          26.524390243902438,
          0,
          174.05759162303664,
          0,
          0,
          166.21315217391304,
          201.75595238095238,
          0.78125,
          434.2282467532467,
          774.4954895833332,
          887.2764505119454,
          646.679288888889,
          2.4390243902439024,
          212.74883855981417,
          894.0580183486238,
          2493.7658585858585,
          0,
          652.9378429517503,
          0,
          96.51898734177215,
          1.4204545454545454,
          524.7427414330217,
          166.47589743589742,
          0,
          82.20858895705521,
          0.9803921568627451,
          6.315789473684211,
          147.71555555555554,
          79.84513274336283,
          186.99705284552846,
          0,
          1.7123287671232876,
          0,
          38.70967741935484,
          39.87341772151899,
          0,
          677.8508771929825,
          73.38308457711443,
          689.0910144927537
         ],
         "yaxis": "y"
        }
       ],
       "layout": {
        "grid": {
         "xaxes": [
          "x"
         ],
         "xgap": 0.1,
         "xside": "bottom",
         "yaxes": [
          "y"
         ],
         "ygap": 0.1,
         "yside": "left"
        },
        "height": 600,
        "legend": {
         "tracegroupgap": 0
        },
        "margin": {
         "t": 60
        },
        "template": {
         "data": {
          "bar": [
           {
            "marker": {
             "line": {
              "color": "#E5ECF6",
              "width": 0.5
             }
            },
            "type": "bar"
           }
          ],
          "barpolar": [
           {
            "marker": {
             "line": {
              "color": "#E5ECF6",
              "width": 0.5
             }
            },
            "type": "barpolar"
           }
          ],
          "carpet": [
           {
            "aaxis": {
             "endlinecolor": "#2a3f5f",
             "gridcolor": "white",
             "linecolor": "white",
             "minorgridcolor": "white",
             "startlinecolor": "#2a3f5f"
            },
            "baxis": {
             "endlinecolor": "#2a3f5f",
             "gridcolor": "white",
             "linecolor": "white",
             "minorgridcolor": "white",
             "startlinecolor": "#2a3f5f"
            },
            "type": "carpet"
           }
          ],
          "choropleth": [
           {
            "colorbar": {
             "outlinewidth": 0,
             "ticks": ""
            },
            "type": "choropleth"
           }
          ],
          "contour": [
           {
            "autocolorscale": true,
            "colorbar": {
             "outlinewidth": 0,
             "ticks": ""
            },
            "type": "contour"
           }
          ],
          "contourcarpet": [
           {
            "colorbar": {
             "outlinewidth": 0,
             "ticks": ""
            },
            "type": "contourcarpet"
           }
          ],
          "heatmap": [
           {
            "autocolorscale": true,
            "colorbar": {
             "outlinewidth": 0,
             "ticks": ""
            },
            "type": "heatmap"
           }
          ],
          "heatmapgl": [
           {
            "colorbar": {
             "outlinewidth": 0,
             "ticks": ""
            },
            "type": "heatmapgl"
           }
          ],
          "histogram": [
           {
            "marker": {
             "colorbar": {
              "outlinewidth": 0,
              "ticks": ""
             }
            },
            "type": "histogram"
           }
          ],
          "histogram2d": [
           {
            "autocolorscale": true,
            "colorbar": {
             "outlinewidth": 0,
             "ticks": ""
            },
            "type": "histogram2d"
           }
          ],
          "histogram2dcontour": [
           {
            "autocolorscale": true,
            "colorbar": {
             "outlinewidth": 0,
             "ticks": ""
            },
            "type": "histogram2dcontour"
           }
          ],
          "mesh3d": [
           {
            "colorbar": {
             "outlinewidth": 0,
             "ticks": ""
            },
            "type": "mesh3d"
           }
          ],
          "parcoords": [
           {
            "line": {
             "colorbar": {
              "outlinewidth": 0,
              "ticks": ""
             }
            },
            "type": "parcoords"
           }
          ],
          "scatter": [
           {
            "marker": {
             "colorbar": {
              "outlinewidth": 0,
              "ticks": ""
             }
            },
            "type": "scatter"
           }
          ],
          "scatter3d": [
           {
            "marker": {
             "colorbar": {
              "outlinewidth": 0,
              "ticks": ""
             }
            },
            "type": "scatter3d"
           }
          ],
          "scattercarpet": [
           {
            "marker": {
             "colorbar": {
              "outlinewidth": 0,
              "ticks": ""
             }
            },
            "type": "scattercarpet"
           }
          ],
          "scattergeo": [
           {
            "marker": {
             "colorbar": {
              "outlinewidth": 0,
              "ticks": ""
             }
            },
            "type": "scattergeo"
           }
          ],
          "scattergl": [
           {
            "marker": {
             "colorbar": {
              "outlinewidth": 0,
              "ticks": ""
             }
            },
            "type": "scattergl"
           }
          ],
          "scattermapbox": [
           {
            "marker": {
             "colorbar": {
              "outlinewidth": 0,
              "ticks": ""
             }
            },
            "type": "scattermapbox"
           }
          ],
          "scatterpolar": [
           {
            "marker": {
             "colorbar": {
              "outlinewidth": 0,
              "ticks": ""
             }
            },
            "type": "scatterpolar"
           }
          ],
          "scatterpolargl": [
           {
            "marker": {
             "colorbar": {
              "outlinewidth": 0,
              "ticks": ""
             }
            },
            "type": "scatterpolargl"
           }
          ],
          "scatterternary": [
           {
            "marker": {
             "colorbar": {
              "outlinewidth": 0,
              "ticks": ""
             }
            },
            "type": "scatterternary"
           }
          ],
          "surface": [
           {
            "colorbar": {
             "outlinewidth": 0,
             "ticks": ""
            },
            "type": "surface"
           }
          ],
          "table": [
           {
            "cells": {
             "fill": {
              "color": "#EBF0F8"
             },
             "line": {
              "color": "white"
             }
            },
            "header": {
             "fill": {
              "color": "#C8D4E3"
             },
             "line": {
              "color": "white"
             }
            },
            "type": "table"
           }
          ]
         },
         "layout": {
          "annotationdefaults": {
           "arrowcolor": "#506784",
           "arrowhead": 0,
           "arrowwidth": 1
          },
          "colorscale": {
           "diverging": [
            [
             0,
             "#8e0152"
            ],
            [
             0.1,
             "#c51b7d"
            ],
            [
             0.2,
             "#de77ae"
            ],
            [
             0.3,
             "#f1b6da"
            ],
            [
             0.4,
             "#fde0ef"
            ],
            [
             0.5,
             "#f7f7f7"
            ],
            [
             0.6,
             "#e6f5d0"
            ],
            [
             0.7,
             "#b8e186"
            ],
            [
             0.8,
             "#7fbc41"
            ],
            [
             0.9,
             "#4d9221"
            ],
            [
             1,
             "#276419"
            ]
           ],
           "sequential": [
            [
             0,
             "#0508b8"
            ],
            [
             0.0893854748603352,
             "#1910d8"
            ],
            [
             0.1787709497206704,
             "#3c19f0"
            ],
            [
             0.2681564245810056,
             "#6b1cfb"
            ],
            [
             0.3575418994413408,
             "#981cfd"
            ],
            [
             0.44692737430167595,
             "#bf1cfd"
            ],
            [
             0.5363128491620112,
             "#dd2bfd"
            ],
            [
             0.6256983240223464,
             "#f246fe"
            ],
            [
             0.7150837988826816,
             "#fc67fd"
            ],
            [
             0.8044692737430168,
             "#fe88fc"
            ],
            [
             0.8938547486033519,
             "#fea5fd"
            ],
            [
             0.9832402234636871,
             "#febefe"
            ],
            [
             1,
             "#fec3fe"
            ]
           ],
           "sequentialminus": [
            [
             0,
             "#0508b8"
            ],
            [
             0.0893854748603352,
             "#1910d8"
            ],
            [
             0.1787709497206704,
             "#3c19f0"
            ],
            [
             0.2681564245810056,
             "#6b1cfb"
            ],
            [
             0.3575418994413408,
             "#981cfd"
            ],
            [
             0.44692737430167595,
             "#bf1cfd"
            ],
            [
             0.5363128491620112,
             "#dd2bfd"
            ],
            [
             0.6256983240223464,
             "#f246fe"
            ],
            [
             0.7150837988826816,
             "#fc67fd"
            ],
            [
             0.8044692737430168,
             "#fe88fc"
            ],
            [
             0.8938547486033519,
             "#fea5fd"
            ],
            [
             0.9832402234636871,
             "#febefe"
            ],
            [
             1,
             "#fec3fe"
            ]
           ]
          },
          "colorway": [
           "#636efa",
           "#EF553B",
           "#00cc96",
           "#ab63fa",
           "#19d3f3",
           "#e763fa",
           "#FECB52",
           "#FFA15A",
           "#FF6692",
           "#B6E880"
          ],
          "font": {
           "color": "#2a3f5f"
          },
          "geo": {
           "bgcolor": "white",
           "lakecolor": "white",
           "landcolor": "#E5ECF6",
           "showlakes": true,
           "showland": true,
           "subunitcolor": "white"
          },
          "hovermode": "closest",
          "mapbox": {
           "style": "light"
          },
          "paper_bgcolor": "white",
          "plot_bgcolor": "#E5ECF6",
          "polar": {
           "angularaxis": {
            "gridcolor": "white",
            "linecolor": "white",
            "ticks": ""
           },
           "bgcolor": "#E5ECF6",
           "radialaxis": {
            "gridcolor": "white",
            "linecolor": "white",
            "ticks": ""
           }
          },
          "scene": {
           "xaxis": {
            "backgroundcolor": "#E5ECF6",
            "gridcolor": "white",
            "gridwidth": 2,
            "linecolor": "white",
            "showbackground": true,
            "ticks": "",
            "zerolinecolor": "white"
           },
           "yaxis": {
            "backgroundcolor": "#E5ECF6",
            "gridcolor": "white",
            "gridwidth": 2,
            "linecolor": "white",
            "showbackground": true,
            "ticks": "",
            "zerolinecolor": "white"
           },
           "zaxis": {
            "backgroundcolor": "#E5ECF6",
            "gridcolor": "white",
            "gridwidth": 2,
            "linecolor": "white",
            "showbackground": true,
            "ticks": "",
            "zerolinecolor": "white"
           }
          },
          "shapedefaults": {
           "fillcolor": "#506784",
           "line": {
            "width": 0
           },
           "opacity": 0.4
          },
          "ternary": {
           "aaxis": {
            "gridcolor": "white",
            "linecolor": "white",
            "ticks": ""
           },
           "baxis": {
            "gridcolor": "white",
            "linecolor": "white",
            "ticks": ""
           },
           "bgcolor": "#E5ECF6",
           "caxis": {
            "gridcolor": "white",
            "linecolor": "white",
            "ticks": ""
           }
          },
          "title": {
           "x": 0.05
          },
          "xaxis": {
           "automargin": true,
           "gridcolor": "white",
           "linecolor": "white",
           "ticks": "",
           "zerolinecolor": "white",
           "zerolinewidth": 2
          },
          "yaxis": {
           "automargin": true,
           "gridcolor": "white",
           "linecolor": "white",
           "ticks": "",
           "zerolinecolor": "white",
           "zerolinewidth": 2
          }
         }
        },
        "xaxis": {
         "title": {
          "text": "PercBAplus"
         },
         "type": "log"
        },
        "yaxis": {
         "title": {
          "text": "Avg R Donations"
         }
        }
       }
      },
      "text/html": [
       "<div id=\"8d9ad1a6-8998-46f7-902f-c7fec1a72d92\" style=\"height: 600px; width: 100%;\" class=\"plotly-graph-div\"></div><script type=\"text/javascript\">require([\"plotly\"], function(Plotly) { window.PLOTLYENV=window.PLOTLYENV || {};window.PLOTLYENV.BASE_URL=\"https://plot.ly\";\n",
       "if (document.getElementById(\"8d9ad1a6-8998-46f7-902f-c7fec1a72d92\")) {\n",
       "    Plotly.newPlot(\"8d9ad1a6-8998-46f7-902f-c7fec1a72d92\", [{\"hovertemplate\": \"<b>%{hovertext}</b><br><br>PercBAplus=%{x}<br>Avg R Donations=%{y}<br>Nmembers=%{marker.size}<br>Avg # R Donations=%{marker.color}<extra></extra>\", \"hovertext\": [\"Bath\", \"Bradford\", \"Canaan\", \"Cavendish\", \"Charlestown\", \"Chelsea\", \"Claremont\", \"Corinth\", \"Cornish\", \"Croydon\", \"Dorchester\", \"Enfield\", \"Fairlee\", \"Grafton\", \"Grantham\", \"Hanover\", \"Hartford\", \"Hartland\", \"Haverhill\", \"Lebanon\", \"Lyme\", \"Newbury\", \"Newport\", \"Norwich\", \"Orange\", \"Orford\", \"Piermont\", \"Plainfield\", \"Pomfret\", \"Reading\", \"Royalton\", \"Ryegate\", \"Sharon\", \"Springfield\", \"Strafford\", \"Thetford\", \"Topsham\", \"Tunbridge\", \"Unity\", \"Vershire\", \"Weathersfield\", \"West Fairlee\", \"West Windsor\", \"Windsor\", \"Woodstock\"], \"legendgroup\": \"\", \"marker\": {\"cmax\": 0.5142276422764228, \"cmin\": 0.0, \"color\": [0.0, 0.03571428571428571, 0.014354066985645933, 0.0, 0.018691588785046728, 0.0, 0.04878048780487805, 0.0, 0.17801047120418848, 0.0, 0.0, 0.2826086956521739, 0.10119047619047619, 0.03125, 0.032467532467532464, 0.0921875, 0.06484641638225255, 0.4622222222222222, 0.024390243902439025, 0.07897793263646923, 0.24036697247706423, 0.020202020202020204, 0.0, 0.30274361400189215, 0.0, 0.3291139240506329, 0.022727272727272728, 0.09345794392523364, 0.38461538461538464, 0.0, 0.049079754601226995, 0.0196078431372549, 0.031578947368421054, 0.03333333333333333, 0.19911504424778761, 0.5142276422764228, 0.0, 0.0273972602739726, 0.0, 0.06451612903225806, 0.0759493670886076, 0.0, 0.05263157894736842, 0.09950248756218906, 0.17028985507246377], \"colorbar\": {\"title\": {\"text\": \"Avg # R Donations\"}}, \"colorscale\": [[0.0, \"rgb(158,1,66)\"], [0.1, \"rgb(213,62,79)\"], [0.2, \"rgb(244,109,67)\"], [0.3, \"rgb(253,174,97)\"], [0.4, \"rgb(254,224,139)\"], [0.5, \"rgb(255,255,191)\"], [0.6, \"rgb(230,245,152)\"], [0.7, \"rgb(171,221,164)\"], [0.8, \"rgb(102,194,165)\"], [0.9, \"rgb(50,136,189)\"], [1.0, \"rgb(94,79,162)\"]], \"showscale\": true, \"size\": [0, 7, 10, 0, 2, 1, 0, 3, 11, 0, 0, 20, 10, 1, 11, 153, 25, 8, 9, 55, 59, 8, 2, 79, 0, 11, 6, 25, 12, 2, 10, 3, 7, 5, 10, 52, 0, 3, 0, 2, 4, 0, 12, 3, 19], \"sizemode\": \"area\", \"sizeref\": 0.0612, \"symbol\": \"circle\"}, \"mode\": \"markers\", \"name\": \" \", \"showlegend\": false, \"x\": [25.274725274725274, 30.6, 25.3, 31.001727115716754, 14.3, 30.0, 18.6, 27.8, 38.8, 16.2, 17.2, 42.3, 38.6, 24.0, 54.5, 78.1, 36.9, 31.0, 18.7, 44.9, 68.1, 29.7, 22.64808362369338, 77.8, 29.7, 40.9, 34.8, 48.5, 54.3, 34.1, 36.8, 22.0, 34.7, 17.8, 53.2, 53.9, 18.2, 33.7, 16.611295681063122, 37.1, 20.8, 26.3, 47.2, 24.8, 50.0], \"xaxis\": \"x\", \"y\": [0.0, 407.85714285714283, 3.110047846889952, 0.0, 5.607476635514018, 0.0, 26.524390243902438, 0.0, 174.05759162303664, 0.0, 0.0, 166.21315217391304, 201.75595238095238, 0.78125, 434.2282467532467, 774.4954895833332, 887.2764505119454, 646.679288888889, 2.4390243902439024, 212.74883855981417, 894.0580183486238, 2493.7658585858585, 0.0, 652.9378429517503, 0.0, 96.51898734177215, 1.4204545454545454, 524.7427414330217, 166.47589743589742, 0.0, 82.20858895705521, 0.9803921568627451, 6.315789473684211, 147.71555555555554, 79.84513274336283, 186.99705284552846, 0.0, 1.7123287671232876, 0.0, 38.70967741935484, 39.87341772151899, 0.0, 677.8508771929825, 73.38308457711443, 689.0910144927537], \"yaxis\": \"y\", \"type\": \"scatter\", \"uid\": \"4761f786-ddfc-4dba-9e46-a1de16ee8ad4\"}], {\"height\": 600, \"legend\": {\"tracegroupgap\": 0}, \"margin\": {\"t\": 60}, \"template\": {\"data\": {\"barpolar\": [{\"marker\": {\"line\": {\"color\": \"#E5ECF6\", \"width\": 0.5}}, \"type\": \"barpolar\"}], \"bar\": [{\"marker\": {\"line\": {\"color\": \"#E5ECF6\", \"width\": 0.5}}, \"type\": \"bar\"}], \"carpet\": [{\"aaxis\": {\"endlinecolor\": \"#2a3f5f\", \"gridcolor\": \"white\", \"linecolor\": \"white\", \"minorgridcolor\": \"white\", \"startlinecolor\": \"#2a3f5f\"}, \"baxis\": {\"endlinecolor\": \"#2a3f5f\", \"gridcolor\": \"white\", \"linecolor\": \"white\", \"minorgridcolor\": \"white\", \"startlinecolor\": \"#2a3f5f\"}, \"type\": \"carpet\"}], \"choropleth\": [{\"colorbar\": {\"outlinewidth\": 0, \"ticks\": \"\"}, \"type\": \"choropleth\"}], \"contourcarpet\": [{\"colorbar\": {\"outlinewidth\": 0, \"ticks\": \"\"}, \"type\": \"contourcarpet\"}], \"contour\": [{\"autocolorscale\": true, \"colorbar\": {\"outlinewidth\": 0, \"ticks\": \"\"}, \"type\": \"contour\"}], \"heatmapgl\": [{\"colorbar\": {\"outlinewidth\": 0, \"ticks\": \"\"}, \"type\": \"heatmapgl\"}], \"heatmap\": [{\"autocolorscale\": true, \"colorbar\": {\"outlinewidth\": 0, \"ticks\": \"\"}, \"type\": \"heatmap\"}], \"histogram2dcontour\": [{\"autocolorscale\": true, \"colorbar\": {\"outlinewidth\": 0, \"ticks\": \"\"}, \"type\": \"histogram2dcontour\"}], \"histogram2d\": [{\"autocolorscale\": true, \"colorbar\": {\"outlinewidth\": 0, \"ticks\": \"\"}, \"type\": \"histogram2d\"}], \"histogram\": [{\"marker\": {\"colorbar\": {\"outlinewidth\": 0, \"ticks\": \"\"}}, \"type\": \"histogram\"}], \"mesh3d\": [{\"colorbar\": {\"outlinewidth\": 0, \"ticks\": \"\"}, \"type\": \"mesh3d\"}], \"parcoords\": [{\"line\": {\"colorbar\": {\"outlinewidth\": 0, \"ticks\": \"\"}}, \"type\": \"parcoords\"}], \"scatter3d\": [{\"marker\": {\"colorbar\": {\"outlinewidth\": 0, \"ticks\": \"\"}}, \"type\": \"scatter3d\"}], \"scattercarpet\": [{\"marker\": {\"colorbar\": {\"outlinewidth\": 0, \"ticks\": \"\"}}, \"type\": \"scattercarpet\"}], \"scattergeo\": [{\"marker\": {\"colorbar\": {\"outlinewidth\": 0, \"ticks\": \"\"}}, \"type\": \"scattergeo\"}], \"scattergl\": [{\"marker\": {\"colorbar\": {\"outlinewidth\": 0, \"ticks\": \"\"}}, \"type\": \"scattergl\"}], \"scattermapbox\": [{\"marker\": {\"colorbar\": {\"outlinewidth\": 0, \"ticks\": \"\"}}, \"type\": \"scattermapbox\"}], \"scatterpolargl\": [{\"marker\": {\"colorbar\": {\"outlinewidth\": 0, \"ticks\": \"\"}}, \"type\": \"scatterpolargl\"}], \"scatterpolar\": [{\"marker\": {\"colorbar\": {\"outlinewidth\": 0, \"ticks\": \"\"}}, \"type\": \"scatterpolar\"}], \"scatter\": [{\"marker\": {\"colorbar\": {\"outlinewidth\": 0, \"ticks\": \"\"}}, \"type\": \"scatter\"}], \"scatterternary\": [{\"marker\": {\"colorbar\": {\"outlinewidth\": 0, \"ticks\": \"\"}}, \"type\": \"scatterternary\"}], \"surface\": [{\"colorbar\": {\"outlinewidth\": 0, \"ticks\": \"\"}, \"type\": \"surface\"}], \"table\": [{\"cells\": {\"fill\": {\"color\": \"#EBF0F8\"}, \"line\": {\"color\": \"white\"}}, \"header\": {\"fill\": {\"color\": \"#C8D4E3\"}, \"line\": {\"color\": \"white\"}}, \"type\": \"table\"}]}, \"layout\": {\"annotationdefaults\": {\"arrowcolor\": \"#506784\", \"arrowhead\": 0, \"arrowwidth\": 1}, \"colorscale\": {\"diverging\": [[0, \"#8e0152\"], [0.1, \"#c51b7d\"], [0.2, \"#de77ae\"], [0.3, \"#f1b6da\"], [0.4, \"#fde0ef\"], [0.5, \"#f7f7f7\"], [0.6, \"#e6f5d0\"], [0.7, \"#b8e186\"], [0.8, \"#7fbc41\"], [0.9, \"#4d9221\"], [1, \"#276419\"]], \"sequential\": [[0.0, \"#0508b8\"], [0.0893854748603352, \"#1910d8\"], [0.1787709497206704, \"#3c19f0\"], [0.2681564245810056, \"#6b1cfb\"], [0.3575418994413408, \"#981cfd\"], [0.44692737430167595, \"#bf1cfd\"], [0.5363128491620112, \"#dd2bfd\"], [0.6256983240223464, \"#f246fe\"], [0.7150837988826816, \"#fc67fd\"], [0.8044692737430168, \"#fe88fc\"], [0.8938547486033519, \"#fea5fd\"], [0.9832402234636871, \"#febefe\"], [1.0, \"#fec3fe\"]], \"sequentialminus\": [[0.0, \"#0508b8\"], [0.0893854748603352, \"#1910d8\"], [0.1787709497206704, \"#3c19f0\"], [0.2681564245810056, \"#6b1cfb\"], [0.3575418994413408, \"#981cfd\"], [0.44692737430167595, \"#bf1cfd\"], [0.5363128491620112, \"#dd2bfd\"], [0.6256983240223464, \"#f246fe\"], [0.7150837988826816, \"#fc67fd\"], [0.8044692737430168, \"#fe88fc\"], [0.8938547486033519, \"#fea5fd\"], [0.9832402234636871, \"#febefe\"], [1.0, \"#fec3fe\"]]}, \"colorway\": [\"#636efa\", \"#EF553B\", \"#00cc96\", \"#ab63fa\", \"#19d3f3\", \"#e763fa\", \"#FECB52\", \"#FFA15A\", \"#FF6692\", \"#B6E880\"], \"font\": {\"color\": \"#2a3f5f\"}, \"geo\": {\"bgcolor\": \"white\", \"lakecolor\": \"white\", \"landcolor\": \"#E5ECF6\", \"showlakes\": true, \"showland\": true, \"subunitcolor\": \"white\"}, \"hovermode\": \"closest\", \"mapbox\": {\"style\": \"light\"}, \"paper_bgcolor\": \"white\", \"plot_bgcolor\": \"#E5ECF6\", \"polar\": {\"angularaxis\": {\"gridcolor\": \"white\", \"linecolor\": \"white\", \"ticks\": \"\"}, \"bgcolor\": \"#E5ECF6\", \"radialaxis\": {\"gridcolor\": \"white\", \"linecolor\": \"white\", \"ticks\": \"\"}}, \"scene\": {\"xaxis\": {\"backgroundcolor\": \"#E5ECF6\", \"gridcolor\": \"white\", \"gridwidth\": 2, \"linecolor\": \"white\", \"showbackground\": true, \"ticks\": \"\", \"zerolinecolor\": \"white\"}, \"yaxis\": {\"backgroundcolor\": \"#E5ECF6\", \"gridcolor\": \"white\", \"gridwidth\": 2, \"linecolor\": \"white\", \"showbackground\": true, \"ticks\": \"\", \"zerolinecolor\": \"white\"}, \"zaxis\": {\"backgroundcolor\": \"#E5ECF6\", \"gridcolor\": \"white\", \"gridwidth\": 2, \"linecolor\": \"white\", \"showbackground\": true, \"ticks\": \"\", \"zerolinecolor\": \"white\"}}, \"shapedefaults\": {\"fillcolor\": \"#506784\", \"line\": {\"width\": 0}, \"opacity\": 0.4}, \"ternary\": {\"aaxis\": {\"gridcolor\": \"white\", \"linecolor\": \"white\", \"ticks\": \"\"}, \"baxis\": {\"gridcolor\": \"white\", \"linecolor\": \"white\", \"ticks\": \"\"}, \"bgcolor\": \"#E5ECF6\", \"caxis\": {\"gridcolor\": \"white\", \"linecolor\": \"white\", \"ticks\": \"\"}}, \"title\": {\"x\": 0.05}, \"xaxis\": {\"automargin\": true, \"gridcolor\": \"white\", \"linecolor\": \"white\", \"ticks\": \"\", \"zerolinecolor\": \"white\", \"zerolinewidth\": 2}, \"yaxis\": {\"automargin\": true, \"gridcolor\": \"white\", \"linecolor\": \"white\", \"ticks\": \"\", \"zerolinecolor\": \"white\", \"zerolinewidth\": 2}}}, \"grid\": {\"xaxes\": [\"x\"], \"yaxes\": [\"y\"], \"xgap\": 0.1, \"ygap\": 0.1, \"xside\": \"bottom\", \"yside\": \"left\"}, \"xaxis\": {\"title\": {\"text\": \"PercBAplus\"}, \"type\": \"log\"}, \"yaxis\": {\"title\": {\"text\": \"Avg R Donations\"}}}, {\"showLink\": false, \"linkText\": \"Export to plot.ly\", \"plotlyServerURL\": \"https://plot.ly\"}); \n",
       "}\n",
       "});</script><script type=\"text/javascript\">window.addEventListener(\"resize\", function(){if (document.getElementById(\"8d9ad1a6-8998-46f7-902f-c7fec1a72d92\")) {window._Plotly.Plots.resize(document.getElementById(\"8d9ad1a6-8998-46f7-902f-c7fec1a72d92\"));};})</script>"
      ],
      "text/vnd.plotly.v1+html": [
       "<div id=\"8d9ad1a6-8998-46f7-902f-c7fec1a72d92\" style=\"height: 600px; width: 100%;\" class=\"plotly-graph-div\"></div><script type=\"text/javascript\">require([\"plotly\"], function(Plotly) { window.PLOTLYENV=window.PLOTLYENV || {};window.PLOTLYENV.BASE_URL=\"https://plot.ly\";\n",
       "if (document.getElementById(\"8d9ad1a6-8998-46f7-902f-c7fec1a72d92\")) {\n",
       "    Plotly.newPlot(\"8d9ad1a6-8998-46f7-902f-c7fec1a72d92\", [{\"hovertemplate\": \"<b>%{hovertext}</b><br><br>PercBAplus=%{x}<br>Avg R Donations=%{y}<br>Nmembers=%{marker.size}<br>Avg # R Donations=%{marker.color}<extra></extra>\", \"hovertext\": [\"Bath\", \"Bradford\", \"Canaan\", \"Cavendish\", \"Charlestown\", \"Chelsea\", \"Claremont\", \"Corinth\", \"Cornish\", \"Croydon\", \"Dorchester\", \"Enfield\", \"Fairlee\", \"Grafton\", \"Grantham\", \"Hanover\", \"Hartford\", \"Hartland\", \"Haverhill\", \"Lebanon\", \"Lyme\", \"Newbury\", \"Newport\", \"Norwich\", \"Orange\", \"Orford\", \"Piermont\", \"Plainfield\", \"Pomfret\", \"Reading\", \"Royalton\", \"Ryegate\", \"Sharon\", \"Springfield\", \"Strafford\", \"Thetford\", \"Topsham\", \"Tunbridge\", \"Unity\", \"Vershire\", \"Weathersfield\", \"West Fairlee\", \"West Windsor\", \"Windsor\", \"Woodstock\"], \"legendgroup\": \"\", \"marker\": {\"cmax\": 0.5142276422764228, \"cmin\": 0.0, \"color\": [0.0, 0.03571428571428571, 0.014354066985645933, 0.0, 0.018691588785046728, 0.0, 0.04878048780487805, 0.0, 0.17801047120418848, 0.0, 0.0, 0.2826086956521739, 0.10119047619047619, 0.03125, 0.032467532467532464, 0.0921875, 0.06484641638225255, 0.4622222222222222, 0.024390243902439025, 0.07897793263646923, 0.24036697247706423, 0.020202020202020204, 0.0, 0.30274361400189215, 0.0, 0.3291139240506329, 0.022727272727272728, 0.09345794392523364, 0.38461538461538464, 0.0, 0.049079754601226995, 0.0196078431372549, 0.031578947368421054, 0.03333333333333333, 0.19911504424778761, 0.5142276422764228, 0.0, 0.0273972602739726, 0.0, 0.06451612903225806, 0.0759493670886076, 0.0, 0.05263157894736842, 0.09950248756218906, 0.17028985507246377], \"colorbar\": {\"title\": {\"text\": \"Avg # R Donations\"}}, \"colorscale\": [[0.0, \"rgb(158,1,66)\"], [0.1, \"rgb(213,62,79)\"], [0.2, \"rgb(244,109,67)\"], [0.3, \"rgb(253,174,97)\"], [0.4, \"rgb(254,224,139)\"], [0.5, \"rgb(255,255,191)\"], [0.6, \"rgb(230,245,152)\"], [0.7, \"rgb(171,221,164)\"], [0.8, \"rgb(102,194,165)\"], [0.9, \"rgb(50,136,189)\"], [1.0, \"rgb(94,79,162)\"]], \"showscale\": true, \"size\": [0, 7, 10, 0, 2, 1, 0, 3, 11, 0, 0, 20, 10, 1, 11, 153, 25, 8, 9, 55, 59, 8, 2, 79, 0, 11, 6, 25, 12, 2, 10, 3, 7, 5, 10, 52, 0, 3, 0, 2, 4, 0, 12, 3, 19], \"sizemode\": \"area\", \"sizeref\": 0.0612, \"symbol\": \"circle\"}, \"mode\": \"markers\", \"name\": \" \", \"showlegend\": false, \"x\": [25.274725274725274, 30.6, 25.3, 31.001727115716754, 14.3, 30.0, 18.6, 27.8, 38.8, 16.2, 17.2, 42.3, 38.6, 24.0, 54.5, 78.1, 36.9, 31.0, 18.7, 44.9, 68.1, 29.7, 22.64808362369338, 77.8, 29.7, 40.9, 34.8, 48.5, 54.3, 34.1, 36.8, 22.0, 34.7, 17.8, 53.2, 53.9, 18.2, 33.7, 16.611295681063122, 37.1, 20.8, 26.3, 47.2, 24.8, 50.0], \"xaxis\": \"x\", \"y\": [0.0, 407.85714285714283, 3.110047846889952, 0.0, 5.607476635514018, 0.0, 26.524390243902438, 0.0, 174.05759162303664, 0.0, 0.0, 166.21315217391304, 201.75595238095238, 0.78125, 434.2282467532467, 774.4954895833332, 887.2764505119454, 646.679288888889, 2.4390243902439024, 212.74883855981417, 894.0580183486238, 2493.7658585858585, 0.0, 652.9378429517503, 0.0, 96.51898734177215, 1.4204545454545454, 524.7427414330217, 166.47589743589742, 0.0, 82.20858895705521, 0.9803921568627451, 6.315789473684211, 147.71555555555554, 79.84513274336283, 186.99705284552846, 0.0, 1.7123287671232876, 0.0, 38.70967741935484, 39.87341772151899, 0.0, 677.8508771929825, 73.38308457711443, 689.0910144927537], \"yaxis\": \"y\", \"type\": \"scatter\", \"uid\": \"4761f786-ddfc-4dba-9e46-a1de16ee8ad4\"}], {\"height\": 600, \"legend\": {\"tracegroupgap\": 0}, \"margin\": {\"t\": 60}, \"template\": {\"data\": {\"barpolar\": [{\"marker\": {\"line\": {\"color\": \"#E5ECF6\", \"width\": 0.5}}, \"type\": \"barpolar\"}], \"bar\": [{\"marker\": {\"line\": {\"color\": \"#E5ECF6\", \"width\": 0.5}}, \"type\": \"bar\"}], \"carpet\": [{\"aaxis\": {\"endlinecolor\": \"#2a3f5f\", \"gridcolor\": \"white\", \"linecolor\": \"white\", \"minorgridcolor\": \"white\", \"startlinecolor\": \"#2a3f5f\"}, \"baxis\": {\"endlinecolor\": \"#2a3f5f\", \"gridcolor\": \"white\", \"linecolor\": \"white\", \"minorgridcolor\": \"white\", \"startlinecolor\": \"#2a3f5f\"}, \"type\": \"carpet\"}], \"choropleth\": [{\"colorbar\": {\"outlinewidth\": 0, \"ticks\": \"\"}, \"type\": \"choropleth\"}], \"contourcarpet\": [{\"colorbar\": {\"outlinewidth\": 0, \"ticks\": \"\"}, \"type\": \"contourcarpet\"}], \"contour\": [{\"autocolorscale\": true, \"colorbar\": {\"outlinewidth\": 0, \"ticks\": \"\"}, \"type\": \"contour\"}], \"heatmapgl\": [{\"colorbar\": {\"outlinewidth\": 0, \"ticks\": \"\"}, \"type\": \"heatmapgl\"}], \"heatmap\": [{\"autocolorscale\": true, \"colorbar\": {\"outlinewidth\": 0, \"ticks\": \"\"}, \"type\": \"heatmap\"}], \"histogram2dcontour\": [{\"autocolorscale\": true, \"colorbar\": {\"outlinewidth\": 0, \"ticks\": \"\"}, \"type\": \"histogram2dcontour\"}], \"histogram2d\": [{\"autocolorscale\": true, \"colorbar\": {\"outlinewidth\": 0, \"ticks\": \"\"}, \"type\": \"histogram2d\"}], \"histogram\": [{\"marker\": {\"colorbar\": {\"outlinewidth\": 0, \"ticks\": \"\"}}, \"type\": \"histogram\"}], \"mesh3d\": [{\"colorbar\": {\"outlinewidth\": 0, \"ticks\": \"\"}, \"type\": \"mesh3d\"}], \"parcoords\": [{\"line\": {\"colorbar\": {\"outlinewidth\": 0, \"ticks\": \"\"}}, \"type\": \"parcoords\"}], \"scatter3d\": [{\"marker\": {\"colorbar\": {\"outlinewidth\": 0, \"ticks\": \"\"}}, \"type\": \"scatter3d\"}], \"scattercarpet\": [{\"marker\": {\"colorbar\": {\"outlinewidth\": 0, \"ticks\": \"\"}}, \"type\": \"scattercarpet\"}], \"scattergeo\": [{\"marker\": {\"colorbar\": {\"outlinewidth\": 0, \"ticks\": \"\"}}, \"type\": \"scattergeo\"}], \"scattergl\": [{\"marker\": {\"colorbar\": {\"outlinewidth\": 0, \"ticks\": \"\"}}, \"type\": \"scattergl\"}], \"scattermapbox\": [{\"marker\": {\"colorbar\": {\"outlinewidth\": 0, \"ticks\": \"\"}}, \"type\": \"scattermapbox\"}], \"scatterpolargl\": [{\"marker\": {\"colorbar\": {\"outlinewidth\": 0, \"ticks\": \"\"}}, \"type\": \"scatterpolargl\"}], \"scatterpolar\": [{\"marker\": {\"colorbar\": {\"outlinewidth\": 0, \"ticks\": \"\"}}, \"type\": \"scatterpolar\"}], \"scatter\": [{\"marker\": {\"colorbar\": {\"outlinewidth\": 0, \"ticks\": \"\"}}, \"type\": \"scatter\"}], \"scatterternary\": [{\"marker\": {\"colorbar\": {\"outlinewidth\": 0, \"ticks\": \"\"}}, \"type\": \"scatterternary\"}], \"surface\": [{\"colorbar\": {\"outlinewidth\": 0, \"ticks\": \"\"}, \"type\": \"surface\"}], \"table\": [{\"cells\": {\"fill\": {\"color\": \"#EBF0F8\"}, \"line\": {\"color\": \"white\"}}, \"header\": {\"fill\": {\"color\": \"#C8D4E3\"}, \"line\": {\"color\": \"white\"}}, \"type\": \"table\"}]}, \"layout\": {\"annotationdefaults\": {\"arrowcolor\": \"#506784\", \"arrowhead\": 0, \"arrowwidth\": 1}, \"colorscale\": {\"diverging\": [[0, \"#8e0152\"], [0.1, \"#c51b7d\"], [0.2, \"#de77ae\"], [0.3, \"#f1b6da\"], [0.4, \"#fde0ef\"], [0.5, \"#f7f7f7\"], [0.6, \"#e6f5d0\"], [0.7, \"#b8e186\"], [0.8, \"#7fbc41\"], [0.9, \"#4d9221\"], [1, \"#276419\"]], \"sequential\": [[0.0, \"#0508b8\"], [0.0893854748603352, \"#1910d8\"], [0.1787709497206704, \"#3c19f0\"], [0.2681564245810056, \"#6b1cfb\"], [0.3575418994413408, \"#981cfd\"], [0.44692737430167595, \"#bf1cfd\"], [0.5363128491620112, \"#dd2bfd\"], [0.6256983240223464, \"#f246fe\"], [0.7150837988826816, \"#fc67fd\"], [0.8044692737430168, \"#fe88fc\"], [0.8938547486033519, \"#fea5fd\"], [0.9832402234636871, \"#febefe\"], [1.0, \"#fec3fe\"]], \"sequentialminus\": [[0.0, \"#0508b8\"], [0.0893854748603352, \"#1910d8\"], [0.1787709497206704, \"#3c19f0\"], [0.2681564245810056, \"#6b1cfb\"], [0.3575418994413408, \"#981cfd\"], [0.44692737430167595, \"#bf1cfd\"], [0.5363128491620112, \"#dd2bfd\"], [0.6256983240223464, \"#f246fe\"], [0.7150837988826816, \"#fc67fd\"], [0.8044692737430168, \"#fe88fc\"], [0.8938547486033519, \"#fea5fd\"], [0.9832402234636871, \"#febefe\"], [1.0, \"#fec3fe\"]]}, \"colorway\": [\"#636efa\", \"#EF553B\", \"#00cc96\", \"#ab63fa\", \"#19d3f3\", \"#e763fa\", \"#FECB52\", \"#FFA15A\", \"#FF6692\", \"#B6E880\"], \"font\": {\"color\": \"#2a3f5f\"}, \"geo\": {\"bgcolor\": \"white\", \"lakecolor\": \"white\", \"landcolor\": \"#E5ECF6\", \"showlakes\": true, \"showland\": true, \"subunitcolor\": \"white\"}, \"hovermode\": \"closest\", \"mapbox\": {\"style\": \"light\"}, \"paper_bgcolor\": \"white\", \"plot_bgcolor\": \"#E5ECF6\", \"polar\": {\"angularaxis\": {\"gridcolor\": \"white\", \"linecolor\": \"white\", \"ticks\": \"\"}, \"bgcolor\": \"#E5ECF6\", \"radialaxis\": {\"gridcolor\": \"white\", \"linecolor\": \"white\", \"ticks\": \"\"}}, \"scene\": {\"xaxis\": {\"backgroundcolor\": \"#E5ECF6\", \"gridcolor\": \"white\", \"gridwidth\": 2, \"linecolor\": \"white\", \"showbackground\": true, \"ticks\": \"\", \"zerolinecolor\": \"white\"}, \"yaxis\": {\"backgroundcolor\": \"#E5ECF6\", \"gridcolor\": \"white\", \"gridwidth\": 2, \"linecolor\": \"white\", \"showbackground\": true, \"ticks\": \"\", \"zerolinecolor\": \"white\"}, \"zaxis\": {\"backgroundcolor\": \"#E5ECF6\", \"gridcolor\": \"white\", \"gridwidth\": 2, \"linecolor\": \"white\", \"showbackground\": true, \"ticks\": \"\", \"zerolinecolor\": \"white\"}}, \"shapedefaults\": {\"fillcolor\": \"#506784\", \"line\": {\"width\": 0}, \"opacity\": 0.4}, \"ternary\": {\"aaxis\": {\"gridcolor\": \"white\", \"linecolor\": \"white\", \"ticks\": \"\"}, \"baxis\": {\"gridcolor\": \"white\", \"linecolor\": \"white\", \"ticks\": \"\"}, \"bgcolor\": \"#E5ECF6\", \"caxis\": {\"gridcolor\": \"white\", \"linecolor\": \"white\", \"ticks\": \"\"}}, \"title\": {\"x\": 0.05}, \"xaxis\": {\"automargin\": true, \"gridcolor\": \"white\", \"linecolor\": \"white\", \"ticks\": \"\", \"zerolinecolor\": \"white\", \"zerolinewidth\": 2}, \"yaxis\": {\"automargin\": true, \"gridcolor\": \"white\", \"linecolor\": \"white\", \"ticks\": \"\", \"zerolinecolor\": \"white\", \"zerolinewidth\": 2}}}, \"grid\": {\"xaxes\": [\"x\"], \"yaxes\": [\"y\"], \"xgap\": 0.1, \"ygap\": 0.1, \"xside\": \"bottom\", \"yside\": \"left\"}, \"xaxis\": {\"title\": {\"text\": \"PercBAplus\"}, \"type\": \"log\"}, \"yaxis\": {\"title\": {\"text\": \"Avg R Donations\"}}}, {\"showLink\": false, \"linkText\": \"Export to plot.ly\", \"plotlyServerURL\": \"https://plot.ly\"}); \n",
       "}\n",
       "});</script><script type=\"text/javascript\">window.addEventListener(\"resize\", function(){if (document.getElementById(\"8d9ad1a6-8998-46f7-902f-c7fec1a72d92\")) {window._Plotly.Plots.resize(document.getElementById(\"8d9ad1a6-8998-46f7-902f-c7fec1a72d92\"));};})</script>"
      ]
     },
     "metadata": {},
     "output_type": "display_data"
    }
   ],
   "source": [
    "px.scatter(avg_data, x=\"PercBAplus\", y=\"Avg R Donations\", hover_name=\"Town\", size=\"Nmembers\", size_max=50, color=\"Avg # R Donations\", color_continuous_scale=px.colors.diverging.Spectral, log_x=True)\n"
   ]
  },
  {
   "cell_type": "code",
   "execution_count": 30,
   "metadata": {},
   "outputs": [
    {
     "data": {
      "application/vnd.plotly.v1+json": {
       "config": {
        "linkText": "Export to plot.ly",
        "plotlyServerURL": "https://plot.ly",
        "showLink": false
       },
       "data": [
        {
         "hovertemplate": "<b>%{hovertext}</b><br><br>PercAge55Plus=%{x}<br>Avg UR Donations=%{y}<br>Nmembers=%{marker.size}<br>Avg # UR Donations=%{marker.color}<extra></extra>",
         "hovertext": [
          "Bath",
          "Bradford",
          "Canaan",
          "Cavendish",
          "Charlestown",
          "Chelsea",
          "Claremont",
          "Corinth",
          "Cornish",
          "Croydon",
          "Dorchester",
          "Enfield",
          "Fairlee",
          "Grafton",
          "Grantham",
          "Hanover",
          "Hartford",
          "Hartland",
          "Haverhill",
          "Lebanon",
          "Lyme",
          "Newbury",
          "Newport",
          "Norwich",
          "Orange",
          "Orford",
          "Piermont",
          "Plainfield",
          "Pomfret",
          "Reading",
          "Royalton",
          "Ryegate",
          "Sharon",
          "Springfield",
          "Strafford",
          "Thetford",
          "Topsham",
          "Tunbridge",
          "Unity",
          "Vershire",
          "Weathersfield",
          "West Fairlee",
          "West Windsor",
          "Windsor",
          "Woodstock"
         ],
         "legendgroup": "",
         "marker": {
          "cmax": 1.9878048780487805,
          "cmin": 0,
          "color": [
           0,
           0.8785714285714286,
           1.0095693779904307,
           0,
           0.308411214953271,
           0.21666666666666667,
           0.18902439024390244,
           0.42391304347826086,
           1.1884816753926701,
           0,
           0,
           1.076086956521739,
           0.9464285714285714,
           0.59375,
           0.8636363636363636,
           1.9401041666666667,
           0.7713310580204779,
           0.6888888888888889,
           1.9878048780487805,
           1.3008130081300813,
           1.9174311926605505,
           0.6565656565656566,
           0,
           1.478713339640492,
           0,
           1.379746835443038,
           1.1363636363636365,
           1.3644859813084111,
           1.141025641025641,
           0.19148936170212766,
           0.5766871165644172,
           0.6666666666666666,
           0.6842105263157895,
           0.6055555555555555,
           0.9601769911504425,
           1.4878048780487805,
           0.03571428571428571,
           0.589041095890411,
           0,
           1.064516129032258,
           1.0506329113924051,
           0,
           0.6842105263157895,
           0.7960199004975125,
           0.8623188405797102
          ],
          "colorbar": {
           "title": {
            "text": "Avg # UR Donations"
           }
          },
          "colorscale": [
           [
            0,
            "rgb(158,1,66)"
           ],
           [
            0.1,
            "rgb(213,62,79)"
           ],
           [
            0.2,
            "rgb(244,109,67)"
           ],
           [
            0.3,
            "rgb(253,174,97)"
           ],
           [
            0.4,
            "rgb(254,224,139)"
           ],
           [
            0.5,
            "rgb(255,255,191)"
           ],
           [
            0.6,
            "rgb(230,245,152)"
           ],
           [
            0.7,
            "rgb(171,221,164)"
           ],
           [
            0.8,
            "rgb(102,194,165)"
           ],
           [
            0.9,
            "rgb(50,136,189)"
           ],
           [
            1,
            "rgb(94,79,162)"
           ]
          ],
          "showscale": true,
          "size": [
           0,
           7,
           10,
           0,
           2,
           1,
           0,
           3,
           11,
           0,
           0,
           20,
           10,
           1,
           11,
           153,
           25,
           8,
           9,
           55,
           59,
           8,
           2,
           79,
           0,
           11,
           6,
           25,
           12,
           2,
           10,
           3,
           7,
           5,
           10,
           52,
           0,
           3,
           0,
           2,
           4,
           0,
           12,
           3,
           19
          ],
          "sizemode": "area",
          "sizeref": 0.0612,
          "symbol": "circle"
         },
         "mode": "markers",
         "name": " ",
         "showlegend": false,
         "type": "scatter",
         "uid": "9873e8f7-088a-4124-b722-12dc7147e106",
         "x": [
          48.844537815126046,
          32.91230602670516,
          33.86351975371986,
          40.359042553191486,
          36.05090475243587,
          37.88447111777945,
          27.844906699296423,
          33.715596330275226,
          38.56287425149701,
          36.054421768707485,
          40.317460317460316,
          32.76278253236779,
          38.76040703052729,
          39.34563758389262,
          41.15657761244505,
          19.871342967923862,
          34.92063492063492,
          31.03957471943296,
          32.603092783505154,
          31.865533801256003,
          36.655011655011656,
          34.505087881591116,
          35.90823970037454,
          33.53964043619216,
          47.67025089605735,
          32.183145321831454,
          39.89637305699482,
          37.323358270989196,
          53.43035343035343,
          29.80225988700565,
          26.816046259486807,
          37.94037940379404,
          36.54753877275792,
          34.52149492330957,
          44.54545454545455,
          38.06600153491942,
          28.37055417700579,
          36.27370156636439,
          41.672025723472665,
          26.093088857545837,
          40.37222619899785,
          32.99418604651162,
          41.98943661971831,
          34.26773455377574,
          52.210036556995675
         ],
         "xaxis": "x",
         "y": [
          0,
          45.607142857142854,
          90.15354066985645,
          0,
          22.19626168224299,
          11.833333333333334,
          28.274390243902438,
          51.08695652173913,
          106.83246073298429,
          0,
          0,
          209.91445652173914,
          123.97678571428571,
          52.8125,
          121.98051948051948,
          1018.2553541666664,
          482.1740784982935,
          47.044444444444444,
          189.4512195121951,
          257.6893031358885,
          1476.0800366972478,
          171.31313131313132,
          0,
          889.002261116367,
          0,
          357.6741772151899,
          2837.9931818181817,
          874.4666666666668,
          2723.3624358974357,
          24.25531914893617,
          43.987730061349694,
          200.77960784313726,
          94.11926315789474,
          116.01466666666667,
          306.5364601769911,
          197.98382113821137,
          8.928571428571429,
          51.36986301369863,
          0,
          399.51612903225805,
          113.10126582278481,
          0,
          852.4944736842104,
          97.98507462686567,
          459.10101449275356
         ],
         "yaxis": "y"
        }
       ],
       "layout": {
        "grid": {
         "xaxes": [
          "x"
         ],
         "xgap": 0.1,
         "xside": "bottom",
         "yaxes": [
          "y"
         ],
         "ygap": 0.1,
         "yside": "left"
        },
        "height": 600,
        "legend": {
         "tracegroupgap": 0
        },
        "margin": {
         "t": 60
        },
        "template": {
         "data": {
          "bar": [
           {
            "marker": {
             "line": {
              "color": "#E5ECF6",
              "width": 0.5
             }
            },
            "type": "bar"
           }
          ],
          "barpolar": [
           {
            "marker": {
             "line": {
              "color": "#E5ECF6",
              "width": 0.5
             }
            },
            "type": "barpolar"
           }
          ],
          "carpet": [
           {
            "aaxis": {
             "endlinecolor": "#2a3f5f",
             "gridcolor": "white",
             "linecolor": "white",
             "minorgridcolor": "white",
             "startlinecolor": "#2a3f5f"
            },
            "baxis": {
             "endlinecolor": "#2a3f5f",
             "gridcolor": "white",
             "linecolor": "white",
             "minorgridcolor": "white",
             "startlinecolor": "#2a3f5f"
            },
            "type": "carpet"
           }
          ],
          "choropleth": [
           {
            "colorbar": {
             "outlinewidth": 0,
             "ticks": ""
            },
            "type": "choropleth"
           }
          ],
          "contour": [
           {
            "autocolorscale": true,
            "colorbar": {
             "outlinewidth": 0,
             "ticks": ""
            },
            "type": "contour"
           }
          ],
          "contourcarpet": [
           {
            "colorbar": {
             "outlinewidth": 0,
             "ticks": ""
            },
            "type": "contourcarpet"
           }
          ],
          "heatmap": [
           {
            "autocolorscale": true,
            "colorbar": {
             "outlinewidth": 0,
             "ticks": ""
            },
            "type": "heatmap"
           }
          ],
          "heatmapgl": [
           {
            "colorbar": {
             "outlinewidth": 0,
             "ticks": ""
            },
            "type": "heatmapgl"
           }
          ],
          "histogram": [
           {
            "marker": {
             "colorbar": {
              "outlinewidth": 0,
              "ticks": ""
             }
            },
            "type": "histogram"
           }
          ],
          "histogram2d": [
           {
            "autocolorscale": true,
            "colorbar": {
             "outlinewidth": 0,
             "ticks": ""
            },
            "type": "histogram2d"
           }
          ],
          "histogram2dcontour": [
           {
            "autocolorscale": true,
            "colorbar": {
             "outlinewidth": 0,
             "ticks": ""
            },
            "type": "histogram2dcontour"
           }
          ],
          "mesh3d": [
           {
            "colorbar": {
             "outlinewidth": 0,
             "ticks": ""
            },
            "type": "mesh3d"
           }
          ],
          "parcoords": [
           {
            "line": {
             "colorbar": {
              "outlinewidth": 0,
              "ticks": ""
             }
            },
            "type": "parcoords"
           }
          ],
          "scatter": [
           {
            "marker": {
             "colorbar": {
              "outlinewidth": 0,
              "ticks": ""
             }
            },
            "type": "scatter"
           }
          ],
          "scatter3d": [
           {
            "marker": {
             "colorbar": {
              "outlinewidth": 0,
              "ticks": ""
             }
            },
            "type": "scatter3d"
           }
          ],
          "scattercarpet": [
           {
            "marker": {
             "colorbar": {
              "outlinewidth": 0,
              "ticks": ""
             }
            },
            "type": "scattercarpet"
           }
          ],
          "scattergeo": [
           {
            "marker": {
             "colorbar": {
              "outlinewidth": 0,
              "ticks": ""
             }
            },
            "type": "scattergeo"
           }
          ],
          "scattergl": [
           {
            "marker": {
             "colorbar": {
              "outlinewidth": 0,
              "ticks": ""
             }
            },
            "type": "scattergl"
           }
          ],
          "scattermapbox": [
           {
            "marker": {
             "colorbar": {
              "outlinewidth": 0,
              "ticks": ""
             }
            },
            "type": "scattermapbox"
           }
          ],
          "scatterpolar": [
           {
            "marker": {
             "colorbar": {
              "outlinewidth": 0,
              "ticks": ""
             }
            },
            "type": "scatterpolar"
           }
          ],
          "scatterpolargl": [
           {
            "marker": {
             "colorbar": {
              "outlinewidth": 0,
              "ticks": ""
             }
            },
            "type": "scatterpolargl"
           }
          ],
          "scatterternary": [
           {
            "marker": {
             "colorbar": {
              "outlinewidth": 0,
              "ticks": ""
             }
            },
            "type": "scatterternary"
           }
          ],
          "surface": [
           {
            "colorbar": {
             "outlinewidth": 0,
             "ticks": ""
            },
            "type": "surface"
           }
          ],
          "table": [
           {
            "cells": {
             "fill": {
              "color": "#EBF0F8"
             },
             "line": {
              "color": "white"
             }
            },
            "header": {
             "fill": {
              "color": "#C8D4E3"
             },
             "line": {
              "color": "white"
             }
            },
            "type": "table"
           }
          ]
         },
         "layout": {
          "annotationdefaults": {
           "arrowcolor": "#506784",
           "arrowhead": 0,
           "arrowwidth": 1
          },
          "colorscale": {
           "diverging": [
            [
             0,
             "#8e0152"
            ],
            [
             0.1,
             "#c51b7d"
            ],
            [
             0.2,
             "#de77ae"
            ],
            [
             0.3,
             "#f1b6da"
            ],
            [
             0.4,
             "#fde0ef"
            ],
            [
             0.5,
             "#f7f7f7"
            ],
            [
             0.6,
             "#e6f5d0"
            ],
            [
             0.7,
             "#b8e186"
            ],
            [
             0.8,
             "#7fbc41"
            ],
            [
             0.9,
             "#4d9221"
            ],
            [
             1,
             "#276419"
            ]
           ],
           "sequential": [
            [
             0,
             "#0508b8"
            ],
            [
             0.0893854748603352,
             "#1910d8"
            ],
            [
             0.1787709497206704,
             "#3c19f0"
            ],
            [
             0.2681564245810056,
             "#6b1cfb"
            ],
            [
             0.3575418994413408,
             "#981cfd"
            ],
            [
             0.44692737430167595,
             "#bf1cfd"
            ],
            [
             0.5363128491620112,
             "#dd2bfd"
            ],
            [
             0.6256983240223464,
             "#f246fe"
            ],
            [
             0.7150837988826816,
             "#fc67fd"
            ],
            [
             0.8044692737430168,
             "#fe88fc"
            ],
            [
             0.8938547486033519,
             "#fea5fd"
            ],
            [
             0.9832402234636871,
             "#febefe"
            ],
            [
             1,
             "#fec3fe"
            ]
           ],
           "sequentialminus": [
            [
             0,
             "#0508b8"
            ],
            [
             0.0893854748603352,
             "#1910d8"
            ],
            [
             0.1787709497206704,
             "#3c19f0"
            ],
            [
             0.2681564245810056,
             "#6b1cfb"
            ],
            [
             0.3575418994413408,
             "#981cfd"
            ],
            [
             0.44692737430167595,
             "#bf1cfd"
            ],
            [
             0.5363128491620112,
             "#dd2bfd"
            ],
            [
             0.6256983240223464,
             "#f246fe"
            ],
            [
             0.7150837988826816,
             "#fc67fd"
            ],
            [
             0.8044692737430168,
             "#fe88fc"
            ],
            [
             0.8938547486033519,
             "#fea5fd"
            ],
            [
             0.9832402234636871,
             "#febefe"
            ],
            [
             1,
             "#fec3fe"
            ]
           ]
          },
          "colorway": [
           "#636efa",
           "#EF553B",
           "#00cc96",
           "#ab63fa",
           "#19d3f3",
           "#e763fa",
           "#FECB52",
           "#FFA15A",
           "#FF6692",
           "#B6E880"
          ],
          "font": {
           "color": "#2a3f5f"
          },
          "geo": {
           "bgcolor": "white",
           "lakecolor": "white",
           "landcolor": "#E5ECF6",
           "showlakes": true,
           "showland": true,
           "subunitcolor": "white"
          },
          "hovermode": "closest",
          "mapbox": {
           "style": "light"
          },
          "paper_bgcolor": "white",
          "plot_bgcolor": "#E5ECF6",
          "polar": {
           "angularaxis": {
            "gridcolor": "white",
            "linecolor": "white",
            "ticks": ""
           },
           "bgcolor": "#E5ECF6",
           "radialaxis": {
            "gridcolor": "white",
            "linecolor": "white",
            "ticks": ""
           }
          },
          "scene": {
           "xaxis": {
            "backgroundcolor": "#E5ECF6",
            "gridcolor": "white",
            "gridwidth": 2,
            "linecolor": "white",
            "showbackground": true,
            "ticks": "",
            "zerolinecolor": "white"
           },
           "yaxis": {
            "backgroundcolor": "#E5ECF6",
            "gridcolor": "white",
            "gridwidth": 2,
            "linecolor": "white",
            "showbackground": true,
            "ticks": "",
            "zerolinecolor": "white"
           },
           "zaxis": {
            "backgroundcolor": "#E5ECF6",
            "gridcolor": "white",
            "gridwidth": 2,
            "linecolor": "white",
            "showbackground": true,
            "ticks": "",
            "zerolinecolor": "white"
           }
          },
          "shapedefaults": {
           "fillcolor": "#506784",
           "line": {
            "width": 0
           },
           "opacity": 0.4
          },
          "ternary": {
           "aaxis": {
            "gridcolor": "white",
            "linecolor": "white",
            "ticks": ""
           },
           "baxis": {
            "gridcolor": "white",
            "linecolor": "white",
            "ticks": ""
           },
           "bgcolor": "#E5ECF6",
           "caxis": {
            "gridcolor": "white",
            "linecolor": "white",
            "ticks": ""
           }
          },
          "title": {
           "x": 0.05
          },
          "xaxis": {
           "automargin": true,
           "gridcolor": "white",
           "linecolor": "white",
           "ticks": "",
           "zerolinecolor": "white",
           "zerolinewidth": 2
          },
          "yaxis": {
           "automargin": true,
           "gridcolor": "white",
           "linecolor": "white",
           "ticks": "",
           "zerolinecolor": "white",
           "zerolinewidth": 2
          }
         }
        },
        "xaxis": {
         "title": {
          "text": "PercAge55Plus"
         },
         "type": "log"
        },
        "yaxis": {
         "title": {
          "text": "Avg UR Donations"
         }
        }
       }
      },
      "text/html": [
       "<div id=\"e1ac5d03-b83d-46a1-b0bd-55bce4c8943e\" style=\"height: 600px; width: 100%;\" class=\"plotly-graph-div\"></div><script type=\"text/javascript\">require([\"plotly\"], function(Plotly) { window.PLOTLYENV=window.PLOTLYENV || {};window.PLOTLYENV.BASE_URL=\"https://plot.ly\";\n",
       "if (document.getElementById(\"e1ac5d03-b83d-46a1-b0bd-55bce4c8943e\")) {\n",
       "    Plotly.newPlot(\"e1ac5d03-b83d-46a1-b0bd-55bce4c8943e\", [{\"hovertemplate\": \"<b>%{hovertext}</b><br><br>PercAge55Plus=%{x}<br>Avg UR Donations=%{y}<br>Nmembers=%{marker.size}<br>Avg # UR Donations=%{marker.color}<extra></extra>\", \"hovertext\": [\"Bath\", \"Bradford\", \"Canaan\", \"Cavendish\", \"Charlestown\", \"Chelsea\", \"Claremont\", \"Corinth\", \"Cornish\", \"Croydon\", \"Dorchester\", \"Enfield\", \"Fairlee\", \"Grafton\", \"Grantham\", \"Hanover\", \"Hartford\", \"Hartland\", \"Haverhill\", \"Lebanon\", \"Lyme\", \"Newbury\", \"Newport\", \"Norwich\", \"Orange\", \"Orford\", \"Piermont\", \"Plainfield\", \"Pomfret\", \"Reading\", \"Royalton\", \"Ryegate\", \"Sharon\", \"Springfield\", \"Strafford\", \"Thetford\", \"Topsham\", \"Tunbridge\", \"Unity\", \"Vershire\", \"Weathersfield\", \"West Fairlee\", \"West Windsor\", \"Windsor\", \"Woodstock\"], \"legendgroup\": \"\", \"marker\": {\"cmax\": 1.9878048780487805, \"cmin\": 0.0, \"color\": [0.0, 0.8785714285714286, 1.0095693779904307, 0.0, 0.308411214953271, 0.21666666666666667, 0.18902439024390244, 0.42391304347826086, 1.1884816753926701, 0.0, 0.0, 1.076086956521739, 0.9464285714285714, 0.59375, 0.8636363636363636, 1.9401041666666667, 0.7713310580204779, 0.6888888888888889, 1.9878048780487805, 1.3008130081300813, 1.9174311926605505, 0.6565656565656566, 0.0, 1.478713339640492, 0.0, 1.379746835443038, 1.1363636363636365, 1.3644859813084111, 1.141025641025641, 0.19148936170212766, 0.5766871165644172, 0.6666666666666666, 0.6842105263157895, 0.6055555555555555, 0.9601769911504425, 1.4878048780487805, 0.03571428571428571, 0.589041095890411, 0.0, 1.064516129032258, 1.0506329113924051, 0.0, 0.6842105263157895, 0.7960199004975125, 0.8623188405797102], \"colorbar\": {\"title\": {\"text\": \"Avg # UR Donations\"}}, \"colorscale\": [[0.0, \"rgb(158,1,66)\"], [0.1, \"rgb(213,62,79)\"], [0.2, \"rgb(244,109,67)\"], [0.3, \"rgb(253,174,97)\"], [0.4, \"rgb(254,224,139)\"], [0.5, \"rgb(255,255,191)\"], [0.6, \"rgb(230,245,152)\"], [0.7, \"rgb(171,221,164)\"], [0.8, \"rgb(102,194,165)\"], [0.9, \"rgb(50,136,189)\"], [1.0, \"rgb(94,79,162)\"]], \"showscale\": true, \"size\": [0, 7, 10, 0, 2, 1, 0, 3, 11, 0, 0, 20, 10, 1, 11, 153, 25, 8, 9, 55, 59, 8, 2, 79, 0, 11, 6, 25, 12, 2, 10, 3, 7, 5, 10, 52, 0, 3, 0, 2, 4, 0, 12, 3, 19], \"sizemode\": \"area\", \"sizeref\": 0.0612, \"symbol\": \"circle\"}, \"mode\": \"markers\", \"name\": \" \", \"showlegend\": false, \"x\": [48.844537815126046, 32.91230602670516, 33.86351975371986, 40.359042553191486, 36.05090475243587, 37.88447111777945, 27.844906699296423, 33.715596330275226, 38.56287425149701, 36.054421768707485, 40.317460317460316, 32.76278253236779, 38.76040703052729, 39.34563758389262, 41.15657761244505, 19.871342967923862, 34.92063492063492, 31.03957471943296, 32.603092783505154, 31.865533801256003, 36.655011655011656, 34.505087881591116, 35.90823970037454, 33.53964043619216, 47.67025089605735, 32.183145321831454, 39.89637305699482, 37.323358270989196, 53.43035343035343, 29.80225988700565, 26.816046259486807, 37.94037940379404, 36.54753877275792, 34.52149492330957, 44.54545454545455, 38.06600153491942, 28.37055417700579, 36.27370156636439, 41.672025723472665, 26.093088857545837, 40.37222619899785, 32.99418604651162, 41.98943661971831, 34.26773455377574, 52.210036556995675], \"xaxis\": \"x\", \"y\": [0.0, 45.607142857142854, 90.15354066985645, 0.0, 22.19626168224299, 11.833333333333334, 28.274390243902438, 51.08695652173913, 106.83246073298429, 0.0, 0.0, 209.91445652173914, 123.97678571428571, 52.8125, 121.98051948051948, 1018.2553541666664, 482.1740784982935, 47.044444444444444, 189.4512195121951, 257.6893031358885, 1476.0800366972478, 171.31313131313132, 0.0, 889.002261116367, 0.0, 357.6741772151899, 2837.9931818181817, 874.4666666666668, 2723.3624358974357, 24.25531914893617, 43.987730061349694, 200.77960784313726, 94.11926315789474, 116.01466666666667, 306.5364601769911, 197.98382113821137, 8.928571428571429, 51.36986301369863, 0.0, 399.51612903225805, 113.10126582278481, 0.0, 852.4944736842104, 97.98507462686567, 459.10101449275356], \"yaxis\": \"y\", \"type\": \"scatter\", \"uid\": \"9873e8f7-088a-4124-b722-12dc7147e106\"}], {\"height\": 600, \"legend\": {\"tracegroupgap\": 0}, \"margin\": {\"t\": 60}, \"template\": {\"data\": {\"barpolar\": [{\"marker\": {\"line\": {\"color\": \"#E5ECF6\", \"width\": 0.5}}, \"type\": \"barpolar\"}], \"bar\": [{\"marker\": {\"line\": {\"color\": \"#E5ECF6\", \"width\": 0.5}}, \"type\": \"bar\"}], \"carpet\": [{\"aaxis\": {\"endlinecolor\": \"#2a3f5f\", \"gridcolor\": \"white\", \"linecolor\": \"white\", \"minorgridcolor\": \"white\", \"startlinecolor\": \"#2a3f5f\"}, \"baxis\": {\"endlinecolor\": \"#2a3f5f\", \"gridcolor\": \"white\", \"linecolor\": \"white\", \"minorgridcolor\": \"white\", \"startlinecolor\": \"#2a3f5f\"}, \"type\": \"carpet\"}], \"choropleth\": [{\"colorbar\": {\"outlinewidth\": 0, \"ticks\": \"\"}, \"type\": \"choropleth\"}], \"contourcarpet\": [{\"colorbar\": {\"outlinewidth\": 0, \"ticks\": \"\"}, \"type\": \"contourcarpet\"}], \"contour\": [{\"autocolorscale\": true, \"colorbar\": {\"outlinewidth\": 0, \"ticks\": \"\"}, \"type\": \"contour\"}], \"heatmapgl\": [{\"colorbar\": {\"outlinewidth\": 0, \"ticks\": \"\"}, \"type\": \"heatmapgl\"}], \"heatmap\": [{\"autocolorscale\": true, \"colorbar\": {\"outlinewidth\": 0, \"ticks\": \"\"}, \"type\": \"heatmap\"}], \"histogram2dcontour\": [{\"autocolorscale\": true, \"colorbar\": {\"outlinewidth\": 0, \"ticks\": \"\"}, \"type\": \"histogram2dcontour\"}], \"histogram2d\": [{\"autocolorscale\": true, \"colorbar\": {\"outlinewidth\": 0, \"ticks\": \"\"}, \"type\": \"histogram2d\"}], \"histogram\": [{\"marker\": {\"colorbar\": {\"outlinewidth\": 0, \"ticks\": \"\"}}, \"type\": \"histogram\"}], \"mesh3d\": [{\"colorbar\": {\"outlinewidth\": 0, \"ticks\": \"\"}, \"type\": \"mesh3d\"}], \"parcoords\": [{\"line\": {\"colorbar\": {\"outlinewidth\": 0, \"ticks\": \"\"}}, \"type\": \"parcoords\"}], \"scatter3d\": [{\"marker\": {\"colorbar\": {\"outlinewidth\": 0, \"ticks\": \"\"}}, \"type\": \"scatter3d\"}], \"scattercarpet\": [{\"marker\": {\"colorbar\": {\"outlinewidth\": 0, \"ticks\": \"\"}}, \"type\": \"scattercarpet\"}], \"scattergeo\": [{\"marker\": {\"colorbar\": {\"outlinewidth\": 0, \"ticks\": \"\"}}, \"type\": \"scattergeo\"}], \"scattergl\": [{\"marker\": {\"colorbar\": {\"outlinewidth\": 0, \"ticks\": \"\"}}, \"type\": \"scattergl\"}], \"scattermapbox\": [{\"marker\": {\"colorbar\": {\"outlinewidth\": 0, \"ticks\": \"\"}}, \"type\": \"scattermapbox\"}], \"scatterpolargl\": [{\"marker\": {\"colorbar\": {\"outlinewidth\": 0, \"ticks\": \"\"}}, \"type\": \"scatterpolargl\"}], \"scatterpolar\": [{\"marker\": {\"colorbar\": {\"outlinewidth\": 0, \"ticks\": \"\"}}, \"type\": \"scatterpolar\"}], \"scatter\": [{\"marker\": {\"colorbar\": {\"outlinewidth\": 0, \"ticks\": \"\"}}, \"type\": \"scatter\"}], \"scatterternary\": [{\"marker\": {\"colorbar\": {\"outlinewidth\": 0, \"ticks\": \"\"}}, \"type\": \"scatterternary\"}], \"surface\": [{\"colorbar\": {\"outlinewidth\": 0, \"ticks\": \"\"}, \"type\": \"surface\"}], \"table\": [{\"cells\": {\"fill\": {\"color\": \"#EBF0F8\"}, \"line\": {\"color\": \"white\"}}, \"header\": {\"fill\": {\"color\": \"#C8D4E3\"}, \"line\": {\"color\": \"white\"}}, \"type\": \"table\"}]}, \"layout\": {\"annotationdefaults\": {\"arrowcolor\": \"#506784\", \"arrowhead\": 0, \"arrowwidth\": 1}, \"colorscale\": {\"diverging\": [[0, \"#8e0152\"], [0.1, \"#c51b7d\"], [0.2, \"#de77ae\"], [0.3, \"#f1b6da\"], [0.4, \"#fde0ef\"], [0.5, \"#f7f7f7\"], [0.6, \"#e6f5d0\"], [0.7, \"#b8e186\"], [0.8, \"#7fbc41\"], [0.9, \"#4d9221\"], [1, \"#276419\"]], \"sequential\": [[0.0, \"#0508b8\"], [0.0893854748603352, \"#1910d8\"], [0.1787709497206704, \"#3c19f0\"], [0.2681564245810056, \"#6b1cfb\"], [0.3575418994413408, \"#981cfd\"], [0.44692737430167595, \"#bf1cfd\"], [0.5363128491620112, \"#dd2bfd\"], [0.6256983240223464, \"#f246fe\"], [0.7150837988826816, \"#fc67fd\"], [0.8044692737430168, \"#fe88fc\"], [0.8938547486033519, \"#fea5fd\"], [0.9832402234636871, \"#febefe\"], [1.0, \"#fec3fe\"]], \"sequentialminus\": [[0.0, \"#0508b8\"], [0.0893854748603352, \"#1910d8\"], [0.1787709497206704, \"#3c19f0\"], [0.2681564245810056, \"#6b1cfb\"], [0.3575418994413408, \"#981cfd\"], [0.44692737430167595, \"#bf1cfd\"], [0.5363128491620112, \"#dd2bfd\"], [0.6256983240223464, \"#f246fe\"], [0.7150837988826816, \"#fc67fd\"], [0.8044692737430168, \"#fe88fc\"], [0.8938547486033519, \"#fea5fd\"], [0.9832402234636871, \"#febefe\"], [1.0, \"#fec3fe\"]]}, \"colorway\": [\"#636efa\", \"#EF553B\", \"#00cc96\", \"#ab63fa\", \"#19d3f3\", \"#e763fa\", \"#FECB52\", \"#FFA15A\", \"#FF6692\", \"#B6E880\"], \"font\": {\"color\": \"#2a3f5f\"}, \"geo\": {\"bgcolor\": \"white\", \"lakecolor\": \"white\", \"landcolor\": \"#E5ECF6\", \"showlakes\": true, \"showland\": true, \"subunitcolor\": \"white\"}, \"hovermode\": \"closest\", \"mapbox\": {\"style\": \"light\"}, \"paper_bgcolor\": \"white\", \"plot_bgcolor\": \"#E5ECF6\", \"polar\": {\"angularaxis\": {\"gridcolor\": \"white\", \"linecolor\": \"white\", \"ticks\": \"\"}, \"bgcolor\": \"#E5ECF6\", \"radialaxis\": {\"gridcolor\": \"white\", \"linecolor\": \"white\", \"ticks\": \"\"}}, \"scene\": {\"xaxis\": {\"backgroundcolor\": \"#E5ECF6\", \"gridcolor\": \"white\", \"gridwidth\": 2, \"linecolor\": \"white\", \"showbackground\": true, \"ticks\": \"\", \"zerolinecolor\": \"white\"}, \"yaxis\": {\"backgroundcolor\": \"#E5ECF6\", \"gridcolor\": \"white\", \"gridwidth\": 2, \"linecolor\": \"white\", \"showbackground\": true, \"ticks\": \"\", \"zerolinecolor\": \"white\"}, \"zaxis\": {\"backgroundcolor\": \"#E5ECF6\", \"gridcolor\": \"white\", \"gridwidth\": 2, \"linecolor\": \"white\", \"showbackground\": true, \"ticks\": \"\", \"zerolinecolor\": \"white\"}}, \"shapedefaults\": {\"fillcolor\": \"#506784\", \"line\": {\"width\": 0}, \"opacity\": 0.4}, \"ternary\": {\"aaxis\": {\"gridcolor\": \"white\", \"linecolor\": \"white\", \"ticks\": \"\"}, \"baxis\": {\"gridcolor\": \"white\", \"linecolor\": \"white\", \"ticks\": \"\"}, \"bgcolor\": \"#E5ECF6\", \"caxis\": {\"gridcolor\": \"white\", \"linecolor\": \"white\", \"ticks\": \"\"}}, \"title\": {\"x\": 0.05}, \"xaxis\": {\"automargin\": true, \"gridcolor\": \"white\", \"linecolor\": \"white\", \"ticks\": \"\", \"zerolinecolor\": \"white\", \"zerolinewidth\": 2}, \"yaxis\": {\"automargin\": true, \"gridcolor\": \"white\", \"linecolor\": \"white\", \"ticks\": \"\", \"zerolinecolor\": \"white\", \"zerolinewidth\": 2}}}, \"grid\": {\"xaxes\": [\"x\"], \"yaxes\": [\"y\"], \"xgap\": 0.1, \"ygap\": 0.1, \"xside\": \"bottom\", \"yside\": \"left\"}, \"xaxis\": {\"title\": {\"text\": \"PercAge55Plus\"}, \"type\": \"log\"}, \"yaxis\": {\"title\": {\"text\": \"Avg UR Donations\"}}}, {\"showLink\": false, \"linkText\": \"Export to plot.ly\", \"plotlyServerURL\": \"https://plot.ly\"}); \n",
       "}\n",
       "});</script><script type=\"text/javascript\">window.addEventListener(\"resize\", function(){if (document.getElementById(\"e1ac5d03-b83d-46a1-b0bd-55bce4c8943e\")) {window._Plotly.Plots.resize(document.getElementById(\"e1ac5d03-b83d-46a1-b0bd-55bce4c8943e\"));};})</script>"
      ],
      "text/vnd.plotly.v1+html": [
       "<div id=\"e1ac5d03-b83d-46a1-b0bd-55bce4c8943e\" style=\"height: 600px; width: 100%;\" class=\"plotly-graph-div\"></div><script type=\"text/javascript\">require([\"plotly\"], function(Plotly) { window.PLOTLYENV=window.PLOTLYENV || {};window.PLOTLYENV.BASE_URL=\"https://plot.ly\";\n",
       "if (document.getElementById(\"e1ac5d03-b83d-46a1-b0bd-55bce4c8943e\")) {\n",
       "    Plotly.newPlot(\"e1ac5d03-b83d-46a1-b0bd-55bce4c8943e\", [{\"hovertemplate\": \"<b>%{hovertext}</b><br><br>PercAge55Plus=%{x}<br>Avg UR Donations=%{y}<br>Nmembers=%{marker.size}<br>Avg # UR Donations=%{marker.color}<extra></extra>\", \"hovertext\": [\"Bath\", \"Bradford\", \"Canaan\", \"Cavendish\", \"Charlestown\", \"Chelsea\", \"Claremont\", \"Corinth\", \"Cornish\", \"Croydon\", \"Dorchester\", \"Enfield\", \"Fairlee\", \"Grafton\", \"Grantham\", \"Hanover\", \"Hartford\", \"Hartland\", \"Haverhill\", \"Lebanon\", \"Lyme\", \"Newbury\", \"Newport\", \"Norwich\", \"Orange\", \"Orford\", \"Piermont\", \"Plainfield\", \"Pomfret\", \"Reading\", \"Royalton\", \"Ryegate\", \"Sharon\", \"Springfield\", \"Strafford\", \"Thetford\", \"Topsham\", \"Tunbridge\", \"Unity\", \"Vershire\", \"Weathersfield\", \"West Fairlee\", \"West Windsor\", \"Windsor\", \"Woodstock\"], \"legendgroup\": \"\", \"marker\": {\"cmax\": 1.9878048780487805, \"cmin\": 0.0, \"color\": [0.0, 0.8785714285714286, 1.0095693779904307, 0.0, 0.308411214953271, 0.21666666666666667, 0.18902439024390244, 0.42391304347826086, 1.1884816753926701, 0.0, 0.0, 1.076086956521739, 0.9464285714285714, 0.59375, 0.8636363636363636, 1.9401041666666667, 0.7713310580204779, 0.6888888888888889, 1.9878048780487805, 1.3008130081300813, 1.9174311926605505, 0.6565656565656566, 0.0, 1.478713339640492, 0.0, 1.379746835443038, 1.1363636363636365, 1.3644859813084111, 1.141025641025641, 0.19148936170212766, 0.5766871165644172, 0.6666666666666666, 0.6842105263157895, 0.6055555555555555, 0.9601769911504425, 1.4878048780487805, 0.03571428571428571, 0.589041095890411, 0.0, 1.064516129032258, 1.0506329113924051, 0.0, 0.6842105263157895, 0.7960199004975125, 0.8623188405797102], \"colorbar\": {\"title\": {\"text\": \"Avg # UR Donations\"}}, \"colorscale\": [[0.0, \"rgb(158,1,66)\"], [0.1, \"rgb(213,62,79)\"], [0.2, \"rgb(244,109,67)\"], [0.3, \"rgb(253,174,97)\"], [0.4, \"rgb(254,224,139)\"], [0.5, \"rgb(255,255,191)\"], [0.6, \"rgb(230,245,152)\"], [0.7, \"rgb(171,221,164)\"], [0.8, \"rgb(102,194,165)\"], [0.9, \"rgb(50,136,189)\"], [1.0, \"rgb(94,79,162)\"]], \"showscale\": true, \"size\": [0, 7, 10, 0, 2, 1, 0, 3, 11, 0, 0, 20, 10, 1, 11, 153, 25, 8, 9, 55, 59, 8, 2, 79, 0, 11, 6, 25, 12, 2, 10, 3, 7, 5, 10, 52, 0, 3, 0, 2, 4, 0, 12, 3, 19], \"sizemode\": \"area\", \"sizeref\": 0.0612, \"symbol\": \"circle\"}, \"mode\": \"markers\", \"name\": \" \", \"showlegend\": false, \"x\": [48.844537815126046, 32.91230602670516, 33.86351975371986, 40.359042553191486, 36.05090475243587, 37.88447111777945, 27.844906699296423, 33.715596330275226, 38.56287425149701, 36.054421768707485, 40.317460317460316, 32.76278253236779, 38.76040703052729, 39.34563758389262, 41.15657761244505, 19.871342967923862, 34.92063492063492, 31.03957471943296, 32.603092783505154, 31.865533801256003, 36.655011655011656, 34.505087881591116, 35.90823970037454, 33.53964043619216, 47.67025089605735, 32.183145321831454, 39.89637305699482, 37.323358270989196, 53.43035343035343, 29.80225988700565, 26.816046259486807, 37.94037940379404, 36.54753877275792, 34.52149492330957, 44.54545454545455, 38.06600153491942, 28.37055417700579, 36.27370156636439, 41.672025723472665, 26.093088857545837, 40.37222619899785, 32.99418604651162, 41.98943661971831, 34.26773455377574, 52.210036556995675], \"xaxis\": \"x\", \"y\": [0.0, 45.607142857142854, 90.15354066985645, 0.0, 22.19626168224299, 11.833333333333334, 28.274390243902438, 51.08695652173913, 106.83246073298429, 0.0, 0.0, 209.91445652173914, 123.97678571428571, 52.8125, 121.98051948051948, 1018.2553541666664, 482.1740784982935, 47.044444444444444, 189.4512195121951, 257.6893031358885, 1476.0800366972478, 171.31313131313132, 0.0, 889.002261116367, 0.0, 357.6741772151899, 2837.9931818181817, 874.4666666666668, 2723.3624358974357, 24.25531914893617, 43.987730061349694, 200.77960784313726, 94.11926315789474, 116.01466666666667, 306.5364601769911, 197.98382113821137, 8.928571428571429, 51.36986301369863, 0.0, 399.51612903225805, 113.10126582278481, 0.0, 852.4944736842104, 97.98507462686567, 459.10101449275356], \"yaxis\": \"y\", \"type\": \"scatter\", \"uid\": \"9873e8f7-088a-4124-b722-12dc7147e106\"}], {\"height\": 600, \"legend\": {\"tracegroupgap\": 0}, \"margin\": {\"t\": 60}, \"template\": {\"data\": {\"barpolar\": [{\"marker\": {\"line\": {\"color\": \"#E5ECF6\", \"width\": 0.5}}, \"type\": \"barpolar\"}], \"bar\": [{\"marker\": {\"line\": {\"color\": \"#E5ECF6\", \"width\": 0.5}}, \"type\": \"bar\"}], \"carpet\": [{\"aaxis\": {\"endlinecolor\": \"#2a3f5f\", \"gridcolor\": \"white\", \"linecolor\": \"white\", \"minorgridcolor\": \"white\", \"startlinecolor\": \"#2a3f5f\"}, \"baxis\": {\"endlinecolor\": \"#2a3f5f\", \"gridcolor\": \"white\", \"linecolor\": \"white\", \"minorgridcolor\": \"white\", \"startlinecolor\": \"#2a3f5f\"}, \"type\": \"carpet\"}], \"choropleth\": [{\"colorbar\": {\"outlinewidth\": 0, \"ticks\": \"\"}, \"type\": \"choropleth\"}], \"contourcarpet\": [{\"colorbar\": {\"outlinewidth\": 0, \"ticks\": \"\"}, \"type\": \"contourcarpet\"}], \"contour\": [{\"autocolorscale\": true, \"colorbar\": {\"outlinewidth\": 0, \"ticks\": \"\"}, \"type\": \"contour\"}], \"heatmapgl\": [{\"colorbar\": {\"outlinewidth\": 0, \"ticks\": \"\"}, \"type\": \"heatmapgl\"}], \"heatmap\": [{\"autocolorscale\": true, \"colorbar\": {\"outlinewidth\": 0, \"ticks\": \"\"}, \"type\": \"heatmap\"}], \"histogram2dcontour\": [{\"autocolorscale\": true, \"colorbar\": {\"outlinewidth\": 0, \"ticks\": \"\"}, \"type\": \"histogram2dcontour\"}], \"histogram2d\": [{\"autocolorscale\": true, \"colorbar\": {\"outlinewidth\": 0, \"ticks\": \"\"}, \"type\": \"histogram2d\"}], \"histogram\": [{\"marker\": {\"colorbar\": {\"outlinewidth\": 0, \"ticks\": \"\"}}, \"type\": \"histogram\"}], \"mesh3d\": [{\"colorbar\": {\"outlinewidth\": 0, \"ticks\": \"\"}, \"type\": \"mesh3d\"}], \"parcoords\": [{\"line\": {\"colorbar\": {\"outlinewidth\": 0, \"ticks\": \"\"}}, \"type\": \"parcoords\"}], \"scatter3d\": [{\"marker\": {\"colorbar\": {\"outlinewidth\": 0, \"ticks\": \"\"}}, \"type\": \"scatter3d\"}], \"scattercarpet\": [{\"marker\": {\"colorbar\": {\"outlinewidth\": 0, \"ticks\": \"\"}}, \"type\": \"scattercarpet\"}], \"scattergeo\": [{\"marker\": {\"colorbar\": {\"outlinewidth\": 0, \"ticks\": \"\"}}, \"type\": \"scattergeo\"}], \"scattergl\": [{\"marker\": {\"colorbar\": {\"outlinewidth\": 0, \"ticks\": \"\"}}, \"type\": \"scattergl\"}], \"scattermapbox\": [{\"marker\": {\"colorbar\": {\"outlinewidth\": 0, \"ticks\": \"\"}}, \"type\": \"scattermapbox\"}], \"scatterpolargl\": [{\"marker\": {\"colorbar\": {\"outlinewidth\": 0, \"ticks\": \"\"}}, \"type\": \"scatterpolargl\"}], \"scatterpolar\": [{\"marker\": {\"colorbar\": {\"outlinewidth\": 0, \"ticks\": \"\"}}, \"type\": \"scatterpolar\"}], \"scatter\": [{\"marker\": {\"colorbar\": {\"outlinewidth\": 0, \"ticks\": \"\"}}, \"type\": \"scatter\"}], \"scatterternary\": [{\"marker\": {\"colorbar\": {\"outlinewidth\": 0, \"ticks\": \"\"}}, \"type\": \"scatterternary\"}], \"surface\": [{\"colorbar\": {\"outlinewidth\": 0, \"ticks\": \"\"}, \"type\": \"surface\"}], \"table\": [{\"cells\": {\"fill\": {\"color\": \"#EBF0F8\"}, \"line\": {\"color\": \"white\"}}, \"header\": {\"fill\": {\"color\": \"#C8D4E3\"}, \"line\": {\"color\": \"white\"}}, \"type\": \"table\"}]}, \"layout\": {\"annotationdefaults\": {\"arrowcolor\": \"#506784\", \"arrowhead\": 0, \"arrowwidth\": 1}, \"colorscale\": {\"diverging\": [[0, \"#8e0152\"], [0.1, \"#c51b7d\"], [0.2, \"#de77ae\"], [0.3, \"#f1b6da\"], [0.4, \"#fde0ef\"], [0.5, \"#f7f7f7\"], [0.6, \"#e6f5d0\"], [0.7, \"#b8e186\"], [0.8, \"#7fbc41\"], [0.9, \"#4d9221\"], [1, \"#276419\"]], \"sequential\": [[0.0, \"#0508b8\"], [0.0893854748603352, \"#1910d8\"], [0.1787709497206704, \"#3c19f0\"], [0.2681564245810056, \"#6b1cfb\"], [0.3575418994413408, \"#981cfd\"], [0.44692737430167595, \"#bf1cfd\"], [0.5363128491620112, \"#dd2bfd\"], [0.6256983240223464, \"#f246fe\"], [0.7150837988826816, \"#fc67fd\"], [0.8044692737430168, \"#fe88fc\"], [0.8938547486033519, \"#fea5fd\"], [0.9832402234636871, \"#febefe\"], [1.0, \"#fec3fe\"]], \"sequentialminus\": [[0.0, \"#0508b8\"], [0.0893854748603352, \"#1910d8\"], [0.1787709497206704, \"#3c19f0\"], [0.2681564245810056, \"#6b1cfb\"], [0.3575418994413408, \"#981cfd\"], [0.44692737430167595, \"#bf1cfd\"], [0.5363128491620112, \"#dd2bfd\"], [0.6256983240223464, \"#f246fe\"], [0.7150837988826816, \"#fc67fd\"], [0.8044692737430168, \"#fe88fc\"], [0.8938547486033519, \"#fea5fd\"], [0.9832402234636871, \"#febefe\"], [1.0, \"#fec3fe\"]]}, \"colorway\": [\"#636efa\", \"#EF553B\", \"#00cc96\", \"#ab63fa\", \"#19d3f3\", \"#e763fa\", \"#FECB52\", \"#FFA15A\", \"#FF6692\", \"#B6E880\"], \"font\": {\"color\": \"#2a3f5f\"}, \"geo\": {\"bgcolor\": \"white\", \"lakecolor\": \"white\", \"landcolor\": \"#E5ECF6\", \"showlakes\": true, \"showland\": true, \"subunitcolor\": \"white\"}, \"hovermode\": \"closest\", \"mapbox\": {\"style\": \"light\"}, \"paper_bgcolor\": \"white\", \"plot_bgcolor\": \"#E5ECF6\", \"polar\": {\"angularaxis\": {\"gridcolor\": \"white\", \"linecolor\": \"white\", \"ticks\": \"\"}, \"bgcolor\": \"#E5ECF6\", \"radialaxis\": {\"gridcolor\": \"white\", \"linecolor\": \"white\", \"ticks\": \"\"}}, \"scene\": {\"xaxis\": {\"backgroundcolor\": \"#E5ECF6\", \"gridcolor\": \"white\", \"gridwidth\": 2, \"linecolor\": \"white\", \"showbackground\": true, \"ticks\": \"\", \"zerolinecolor\": \"white\"}, \"yaxis\": {\"backgroundcolor\": \"#E5ECF6\", \"gridcolor\": \"white\", \"gridwidth\": 2, \"linecolor\": \"white\", \"showbackground\": true, \"ticks\": \"\", \"zerolinecolor\": \"white\"}, \"zaxis\": {\"backgroundcolor\": \"#E5ECF6\", \"gridcolor\": \"white\", \"gridwidth\": 2, \"linecolor\": \"white\", \"showbackground\": true, \"ticks\": \"\", \"zerolinecolor\": \"white\"}}, \"shapedefaults\": {\"fillcolor\": \"#506784\", \"line\": {\"width\": 0}, \"opacity\": 0.4}, \"ternary\": {\"aaxis\": {\"gridcolor\": \"white\", \"linecolor\": \"white\", \"ticks\": \"\"}, \"baxis\": {\"gridcolor\": \"white\", \"linecolor\": \"white\", \"ticks\": \"\"}, \"bgcolor\": \"#E5ECF6\", \"caxis\": {\"gridcolor\": \"white\", \"linecolor\": \"white\", \"ticks\": \"\"}}, \"title\": {\"x\": 0.05}, \"xaxis\": {\"automargin\": true, \"gridcolor\": \"white\", \"linecolor\": \"white\", \"ticks\": \"\", \"zerolinecolor\": \"white\", \"zerolinewidth\": 2}, \"yaxis\": {\"automargin\": true, \"gridcolor\": \"white\", \"linecolor\": \"white\", \"ticks\": \"\", \"zerolinecolor\": \"white\", \"zerolinewidth\": 2}}}, \"grid\": {\"xaxes\": [\"x\"], \"yaxes\": [\"y\"], \"xgap\": 0.1, \"ygap\": 0.1, \"xside\": \"bottom\", \"yside\": \"left\"}, \"xaxis\": {\"title\": {\"text\": \"PercAge55Plus\"}, \"type\": \"log\"}, \"yaxis\": {\"title\": {\"text\": \"Avg UR Donations\"}}}, {\"showLink\": false, \"linkText\": \"Export to plot.ly\", \"plotlyServerURL\": \"https://plot.ly\"}); \n",
       "}\n",
       "});</script><script type=\"text/javascript\">window.addEventListener(\"resize\", function(){if (document.getElementById(\"e1ac5d03-b83d-46a1-b0bd-55bce4c8943e\")) {window._Plotly.Plots.resize(document.getElementById(\"e1ac5d03-b83d-46a1-b0bd-55bce4c8943e\"));};})</script>"
      ]
     },
     "metadata": {},
     "output_type": "display_data"
    }
   ],
   "source": [
    "px.scatter(avg_data, x=\"PercAge55Plus\", y=\"Avg UR Donations\", hover_name=\"Town\", size=\"Nmembers\", size_max=50, color=\"Avg # UR Donations\", color_continuous_scale=px.colors.diverging.Spectral, log_x=True)\n"
   ]
  },
  {
   "cell_type": "code",
   "execution_count": 31,
   "metadata": {},
   "outputs": [
    {
     "data": {
      "application/vnd.plotly.v1+json": {
       "config": {
        "linkText": "Export to plot.ly",
        "plotlyServerURL": "https://plot.ly",
        "showLink": false
       },
       "data": [
        {
         "hovertemplate": "<b>%{hovertext}</b><br><br>PercAge55Plus=%{x}<br>Avg R Donations=%{y}<br>Nmembers=%{marker.size}<br>Avg # R Donations=%{marker.color}<extra></extra>",
         "hovertext": [
          "Bath",
          "Bradford",
          "Canaan",
          "Cavendish",
          "Charlestown",
          "Chelsea",
          "Claremont",
          "Corinth",
          "Cornish",
          "Croydon",
          "Dorchester",
          "Enfield",
          "Fairlee",
          "Grafton",
          "Grantham",
          "Hanover",
          "Hartford",
          "Hartland",
          "Haverhill",
          "Lebanon",
          "Lyme",
          "Newbury",
          "Newport",
          "Norwich",
          "Orange",
          "Orford",
          "Piermont",
          "Plainfield",
          "Pomfret",
          "Reading",
          "Royalton",
          "Ryegate",
          "Sharon",
          "Springfield",
          "Strafford",
          "Thetford",
          "Topsham",
          "Tunbridge",
          "Unity",
          "Vershire",
          "Weathersfield",
          "West Fairlee",
          "West Windsor",
          "Windsor",
          "Woodstock"
         ],
         "legendgroup": "",
         "marker": {
          "cmax": 0.5142276422764228,
          "cmin": 0,
          "color": [
           0,
           0.03571428571428571,
           0.014354066985645933,
           0,
           0.018691588785046728,
           0,
           0.04878048780487805,
           0,
           0.17801047120418848,
           0,
           0,
           0.2826086956521739,
           0.10119047619047619,
           0.03125,
           0.032467532467532464,
           0.0921875,
           0.06484641638225255,
           0.4622222222222222,
           0.024390243902439025,
           0.07897793263646923,
           0.24036697247706423,
           0.020202020202020204,
           0,
           0.30274361400189215,
           0,
           0.3291139240506329,
           0.022727272727272728,
           0.09345794392523364,
           0.38461538461538464,
           0,
           0.049079754601226995,
           0.0196078431372549,
           0.031578947368421054,
           0.03333333333333333,
           0.19911504424778761,
           0.5142276422764228,
           0,
           0.0273972602739726,
           0,
           0.06451612903225806,
           0.0759493670886076,
           0,
           0.05263157894736842,
           0.09950248756218906,
           0.17028985507246377
          ],
          "colorbar": {
           "title": {
            "text": "Avg # R Donations"
           }
          },
          "colorscale": [
           [
            0,
            "rgb(158,1,66)"
           ],
           [
            0.1,
            "rgb(213,62,79)"
           ],
           [
            0.2,
            "rgb(244,109,67)"
           ],
           [
            0.3,
            "rgb(253,174,97)"
           ],
           [
            0.4,
            "rgb(254,224,139)"
           ],
           [
            0.5,
            "rgb(255,255,191)"
           ],
           [
            0.6,
            "rgb(230,245,152)"
           ],
           [
            0.7,
            "rgb(171,221,164)"
           ],
           [
            0.8,
            "rgb(102,194,165)"
           ],
           [
            0.9,
            "rgb(50,136,189)"
           ],
           [
            1,
            "rgb(94,79,162)"
           ]
          ],
          "showscale": true,
          "size": [
           0,
           7,
           10,
           0,
           2,
           1,
           0,
           3,
           11,
           0,
           0,
           20,
           10,
           1,
           11,
           153,
           25,
           8,
           9,
           55,
           59,
           8,
           2,
           79,
           0,
           11,
           6,
           25,
           12,
           2,
           10,
           3,
           7,
           5,
           10,
           52,
           0,
           3,
           0,
           2,
           4,
           0,
           12,
           3,
           19
          ],
          "sizemode": "area",
          "sizeref": 0.0612,
          "symbol": "circle"
         },
         "mode": "markers",
         "name": " ",
         "showlegend": false,
         "type": "scatter",
         "uid": "6cf53d70-6c10-48dc-8136-5fbb948ca57c",
         "x": [
          48.844537815126046,
          32.91230602670516,
          33.86351975371986,
          40.359042553191486,
          36.05090475243587,
          37.88447111777945,
          27.844906699296423,
          33.715596330275226,
          38.56287425149701,
          36.054421768707485,
          40.317460317460316,
          32.76278253236779,
          38.76040703052729,
          39.34563758389262,
          41.15657761244505,
          19.871342967923862,
          34.92063492063492,
          31.03957471943296,
          32.603092783505154,
          31.865533801256003,
          36.655011655011656,
          34.505087881591116,
          35.90823970037454,
          33.53964043619216,
          47.67025089605735,
          32.183145321831454,
          39.89637305699482,
          37.323358270989196,
          53.43035343035343,
          29.80225988700565,
          26.816046259486807,
          37.94037940379404,
          36.54753877275792,
          34.52149492330957,
          44.54545454545455,
          38.06600153491942,
          28.37055417700579,
          36.27370156636439,
          41.672025723472665,
          26.093088857545837,
          40.37222619899785,
          32.99418604651162,
          41.98943661971831,
          34.26773455377574,
          52.210036556995675
         ],
         "xaxis": "x",
         "y": [
          0,
          407.85714285714283,
          3.110047846889952,
          0,
          5.607476635514018,
          0,
          26.524390243902438,
          0,
          174.05759162303664,
          0,
          0,
          166.21315217391304,
          201.75595238095238,
          0.78125,
          434.2282467532467,
          774.4954895833332,
          887.2764505119454,
          646.679288888889,
          2.4390243902439024,
          212.74883855981417,
          894.0580183486238,
          2493.7658585858585,
          0,
          652.9378429517503,
          0,
          96.51898734177215,
          1.4204545454545454,
          524.7427414330217,
          166.47589743589742,
          0,
          82.20858895705521,
          0.9803921568627451,
          6.315789473684211,
          147.71555555555554,
          79.84513274336283,
          186.99705284552846,
          0,
          1.7123287671232876,
          0,
          38.70967741935484,
          39.87341772151899,
          0,
          677.8508771929825,
          73.38308457711443,
          689.0910144927537
         ],
         "yaxis": "y"
        }
       ],
       "layout": {
        "grid": {
         "xaxes": [
          "x"
         ],
         "xgap": 0.1,
         "xside": "bottom",
         "yaxes": [
          "y"
         ],
         "ygap": 0.1,
         "yside": "left"
        },
        "height": 600,
        "legend": {
         "tracegroupgap": 0
        },
        "margin": {
         "t": 60
        },
        "template": {
         "data": {
          "bar": [
           {
            "marker": {
             "line": {
              "color": "#E5ECF6",
              "width": 0.5
             }
            },
            "type": "bar"
           }
          ],
          "barpolar": [
           {
            "marker": {
             "line": {
              "color": "#E5ECF6",
              "width": 0.5
             }
            },
            "type": "barpolar"
           }
          ],
          "carpet": [
           {
            "aaxis": {
             "endlinecolor": "#2a3f5f",
             "gridcolor": "white",
             "linecolor": "white",
             "minorgridcolor": "white",
             "startlinecolor": "#2a3f5f"
            },
            "baxis": {
             "endlinecolor": "#2a3f5f",
             "gridcolor": "white",
             "linecolor": "white",
             "minorgridcolor": "white",
             "startlinecolor": "#2a3f5f"
            },
            "type": "carpet"
           }
          ],
          "choropleth": [
           {
            "colorbar": {
             "outlinewidth": 0,
             "ticks": ""
            },
            "type": "choropleth"
           }
          ],
          "contour": [
           {
            "autocolorscale": true,
            "colorbar": {
             "outlinewidth": 0,
             "ticks": ""
            },
            "type": "contour"
           }
          ],
          "contourcarpet": [
           {
            "colorbar": {
             "outlinewidth": 0,
             "ticks": ""
            },
            "type": "contourcarpet"
           }
          ],
          "heatmap": [
           {
            "autocolorscale": true,
            "colorbar": {
             "outlinewidth": 0,
             "ticks": ""
            },
            "type": "heatmap"
           }
          ],
          "heatmapgl": [
           {
            "colorbar": {
             "outlinewidth": 0,
             "ticks": ""
            },
            "type": "heatmapgl"
           }
          ],
          "histogram": [
           {
            "marker": {
             "colorbar": {
              "outlinewidth": 0,
              "ticks": ""
             }
            },
            "type": "histogram"
           }
          ],
          "histogram2d": [
           {
            "autocolorscale": true,
            "colorbar": {
             "outlinewidth": 0,
             "ticks": ""
            },
            "type": "histogram2d"
           }
          ],
          "histogram2dcontour": [
           {
            "autocolorscale": true,
            "colorbar": {
             "outlinewidth": 0,
             "ticks": ""
            },
            "type": "histogram2dcontour"
           }
          ],
          "mesh3d": [
           {
            "colorbar": {
             "outlinewidth": 0,
             "ticks": ""
            },
            "type": "mesh3d"
           }
          ],
          "parcoords": [
           {
            "line": {
             "colorbar": {
              "outlinewidth": 0,
              "ticks": ""
             }
            },
            "type": "parcoords"
           }
          ],
          "scatter": [
           {
            "marker": {
             "colorbar": {
              "outlinewidth": 0,
              "ticks": ""
             }
            },
            "type": "scatter"
           }
          ],
          "scatter3d": [
           {
            "marker": {
             "colorbar": {
              "outlinewidth": 0,
              "ticks": ""
             }
            },
            "type": "scatter3d"
           }
          ],
          "scattercarpet": [
           {
            "marker": {
             "colorbar": {
              "outlinewidth": 0,
              "ticks": ""
             }
            },
            "type": "scattercarpet"
           }
          ],
          "scattergeo": [
           {
            "marker": {
             "colorbar": {
              "outlinewidth": 0,
              "ticks": ""
             }
            },
            "type": "scattergeo"
           }
          ],
          "scattergl": [
           {
            "marker": {
             "colorbar": {
              "outlinewidth": 0,
              "ticks": ""
             }
            },
            "type": "scattergl"
           }
          ],
          "scattermapbox": [
           {
            "marker": {
             "colorbar": {
              "outlinewidth": 0,
              "ticks": ""
             }
            },
            "type": "scattermapbox"
           }
          ],
          "scatterpolar": [
           {
            "marker": {
             "colorbar": {
              "outlinewidth": 0,
              "ticks": ""
             }
            },
            "type": "scatterpolar"
           }
          ],
          "scatterpolargl": [
           {
            "marker": {
             "colorbar": {
              "outlinewidth": 0,
              "ticks": ""
             }
            },
            "type": "scatterpolargl"
           }
          ],
          "scatterternary": [
           {
            "marker": {
             "colorbar": {
              "outlinewidth": 0,
              "ticks": ""
             }
            },
            "type": "scatterternary"
           }
          ],
          "surface": [
           {
            "colorbar": {
             "outlinewidth": 0,
             "ticks": ""
            },
            "type": "surface"
           }
          ],
          "table": [
           {
            "cells": {
             "fill": {
              "color": "#EBF0F8"
             },
             "line": {
              "color": "white"
             }
            },
            "header": {
             "fill": {
              "color": "#C8D4E3"
             },
             "line": {
              "color": "white"
             }
            },
            "type": "table"
           }
          ]
         },
         "layout": {
          "annotationdefaults": {
           "arrowcolor": "#506784",
           "arrowhead": 0,
           "arrowwidth": 1
          },
          "colorscale": {
           "diverging": [
            [
             0,
             "#8e0152"
            ],
            [
             0.1,
             "#c51b7d"
            ],
            [
             0.2,
             "#de77ae"
            ],
            [
             0.3,
             "#f1b6da"
            ],
            [
             0.4,
             "#fde0ef"
            ],
            [
             0.5,
             "#f7f7f7"
            ],
            [
             0.6,
             "#e6f5d0"
            ],
            [
             0.7,
             "#b8e186"
            ],
            [
             0.8,
             "#7fbc41"
            ],
            [
             0.9,
             "#4d9221"
            ],
            [
             1,
             "#276419"
            ]
           ],
           "sequential": [
            [
             0,
             "#0508b8"
            ],
            [
             0.0893854748603352,
             "#1910d8"
            ],
            [
             0.1787709497206704,
             "#3c19f0"
            ],
            [
             0.2681564245810056,
             "#6b1cfb"
            ],
            [
             0.3575418994413408,
             "#981cfd"
            ],
            [
             0.44692737430167595,
             "#bf1cfd"
            ],
            [
             0.5363128491620112,
             "#dd2bfd"
            ],
            [
             0.6256983240223464,
             "#f246fe"
            ],
            [
             0.7150837988826816,
             "#fc67fd"
            ],
            [
             0.8044692737430168,
             "#fe88fc"
            ],
            [
             0.8938547486033519,
             "#fea5fd"
            ],
            [
             0.9832402234636871,
             "#febefe"
            ],
            [
             1,
             "#fec3fe"
            ]
           ],
           "sequentialminus": [
            [
             0,
             "#0508b8"
            ],
            [
             0.0893854748603352,
             "#1910d8"
            ],
            [
             0.1787709497206704,
             "#3c19f0"
            ],
            [
             0.2681564245810056,
             "#6b1cfb"
            ],
            [
             0.3575418994413408,
             "#981cfd"
            ],
            [
             0.44692737430167595,
             "#bf1cfd"
            ],
            [
             0.5363128491620112,
             "#dd2bfd"
            ],
            [
             0.6256983240223464,
             "#f246fe"
            ],
            [
             0.7150837988826816,
             "#fc67fd"
            ],
            [
             0.8044692737430168,
             "#fe88fc"
            ],
            [
             0.8938547486033519,
             "#fea5fd"
            ],
            [
             0.9832402234636871,
             "#febefe"
            ],
            [
             1,
             "#fec3fe"
            ]
           ]
          },
          "colorway": [
           "#636efa",
           "#EF553B",
           "#00cc96",
           "#ab63fa",
           "#19d3f3",
           "#e763fa",
           "#FECB52",
           "#FFA15A",
           "#FF6692",
           "#B6E880"
          ],
          "font": {
           "color": "#2a3f5f"
          },
          "geo": {
           "bgcolor": "white",
           "lakecolor": "white",
           "landcolor": "#E5ECF6",
           "showlakes": true,
           "showland": true,
           "subunitcolor": "white"
          },
          "hovermode": "closest",
          "mapbox": {
           "style": "light"
          },
          "paper_bgcolor": "white",
          "plot_bgcolor": "#E5ECF6",
          "polar": {
           "angularaxis": {
            "gridcolor": "white",
            "linecolor": "white",
            "ticks": ""
           },
           "bgcolor": "#E5ECF6",
           "radialaxis": {
            "gridcolor": "white",
            "linecolor": "white",
            "ticks": ""
           }
          },
          "scene": {
           "xaxis": {
            "backgroundcolor": "#E5ECF6",
            "gridcolor": "white",
            "gridwidth": 2,
            "linecolor": "white",
            "showbackground": true,
            "ticks": "",
            "zerolinecolor": "white"
           },
           "yaxis": {
            "backgroundcolor": "#E5ECF6",
            "gridcolor": "white",
            "gridwidth": 2,
            "linecolor": "white",
            "showbackground": true,
            "ticks": "",
            "zerolinecolor": "white"
           },
           "zaxis": {
            "backgroundcolor": "#E5ECF6",
            "gridcolor": "white",
            "gridwidth": 2,
            "linecolor": "white",
            "showbackground": true,
            "ticks": "",
            "zerolinecolor": "white"
           }
          },
          "shapedefaults": {
           "fillcolor": "#506784",
           "line": {
            "width": 0
           },
           "opacity": 0.4
          },
          "ternary": {
           "aaxis": {
            "gridcolor": "white",
            "linecolor": "white",
            "ticks": ""
           },
           "baxis": {
            "gridcolor": "white",
            "linecolor": "white",
            "ticks": ""
           },
           "bgcolor": "#E5ECF6",
           "caxis": {
            "gridcolor": "white",
            "linecolor": "white",
            "ticks": ""
           }
          },
          "title": {
           "x": 0.05
          },
          "xaxis": {
           "automargin": true,
           "gridcolor": "white",
           "linecolor": "white",
           "ticks": "",
           "zerolinecolor": "white",
           "zerolinewidth": 2
          },
          "yaxis": {
           "automargin": true,
           "gridcolor": "white",
           "linecolor": "white",
           "ticks": "",
           "zerolinecolor": "white",
           "zerolinewidth": 2
          }
         }
        },
        "xaxis": {
         "title": {
          "text": "PercAge55Plus"
         },
         "type": "log"
        },
        "yaxis": {
         "title": {
          "text": "Avg R Donations"
         }
        }
       }
      },
      "text/html": [
       "<div id=\"122fd93f-9e0b-4490-9942-848981f99314\" style=\"height: 600px; width: 100%;\" class=\"plotly-graph-div\"></div><script type=\"text/javascript\">require([\"plotly\"], function(Plotly) { window.PLOTLYENV=window.PLOTLYENV || {};window.PLOTLYENV.BASE_URL=\"https://plot.ly\";\n",
       "if (document.getElementById(\"122fd93f-9e0b-4490-9942-848981f99314\")) {\n",
       "    Plotly.newPlot(\"122fd93f-9e0b-4490-9942-848981f99314\", [{\"hovertemplate\": \"<b>%{hovertext}</b><br><br>PercAge55Plus=%{x}<br>Avg R Donations=%{y}<br>Nmembers=%{marker.size}<br>Avg # R Donations=%{marker.color}<extra></extra>\", \"hovertext\": [\"Bath\", \"Bradford\", \"Canaan\", \"Cavendish\", \"Charlestown\", \"Chelsea\", \"Claremont\", \"Corinth\", \"Cornish\", \"Croydon\", \"Dorchester\", \"Enfield\", \"Fairlee\", \"Grafton\", \"Grantham\", \"Hanover\", \"Hartford\", \"Hartland\", \"Haverhill\", \"Lebanon\", \"Lyme\", \"Newbury\", \"Newport\", \"Norwich\", \"Orange\", \"Orford\", \"Piermont\", \"Plainfield\", \"Pomfret\", \"Reading\", \"Royalton\", \"Ryegate\", \"Sharon\", \"Springfield\", \"Strafford\", \"Thetford\", \"Topsham\", \"Tunbridge\", \"Unity\", \"Vershire\", \"Weathersfield\", \"West Fairlee\", \"West Windsor\", \"Windsor\", \"Woodstock\"], \"legendgroup\": \"\", \"marker\": {\"cmax\": 0.5142276422764228, \"cmin\": 0.0, \"color\": [0.0, 0.03571428571428571, 0.014354066985645933, 0.0, 0.018691588785046728, 0.0, 0.04878048780487805, 0.0, 0.17801047120418848, 0.0, 0.0, 0.2826086956521739, 0.10119047619047619, 0.03125, 0.032467532467532464, 0.0921875, 0.06484641638225255, 0.4622222222222222, 0.024390243902439025, 0.07897793263646923, 0.24036697247706423, 0.020202020202020204, 0.0, 0.30274361400189215, 0.0, 0.3291139240506329, 0.022727272727272728, 0.09345794392523364, 0.38461538461538464, 0.0, 0.049079754601226995, 0.0196078431372549, 0.031578947368421054, 0.03333333333333333, 0.19911504424778761, 0.5142276422764228, 0.0, 0.0273972602739726, 0.0, 0.06451612903225806, 0.0759493670886076, 0.0, 0.05263157894736842, 0.09950248756218906, 0.17028985507246377], \"colorbar\": {\"title\": {\"text\": \"Avg # R Donations\"}}, \"colorscale\": [[0.0, \"rgb(158,1,66)\"], [0.1, \"rgb(213,62,79)\"], [0.2, \"rgb(244,109,67)\"], [0.3, \"rgb(253,174,97)\"], [0.4, \"rgb(254,224,139)\"], [0.5, \"rgb(255,255,191)\"], [0.6, \"rgb(230,245,152)\"], [0.7, \"rgb(171,221,164)\"], [0.8, \"rgb(102,194,165)\"], [0.9, \"rgb(50,136,189)\"], [1.0, \"rgb(94,79,162)\"]], \"showscale\": true, \"size\": [0, 7, 10, 0, 2, 1, 0, 3, 11, 0, 0, 20, 10, 1, 11, 153, 25, 8, 9, 55, 59, 8, 2, 79, 0, 11, 6, 25, 12, 2, 10, 3, 7, 5, 10, 52, 0, 3, 0, 2, 4, 0, 12, 3, 19], \"sizemode\": \"area\", \"sizeref\": 0.0612, \"symbol\": \"circle\"}, \"mode\": \"markers\", \"name\": \" \", \"showlegend\": false, \"x\": [48.844537815126046, 32.91230602670516, 33.86351975371986, 40.359042553191486, 36.05090475243587, 37.88447111777945, 27.844906699296423, 33.715596330275226, 38.56287425149701, 36.054421768707485, 40.317460317460316, 32.76278253236779, 38.76040703052729, 39.34563758389262, 41.15657761244505, 19.871342967923862, 34.92063492063492, 31.03957471943296, 32.603092783505154, 31.865533801256003, 36.655011655011656, 34.505087881591116, 35.90823970037454, 33.53964043619216, 47.67025089605735, 32.183145321831454, 39.89637305699482, 37.323358270989196, 53.43035343035343, 29.80225988700565, 26.816046259486807, 37.94037940379404, 36.54753877275792, 34.52149492330957, 44.54545454545455, 38.06600153491942, 28.37055417700579, 36.27370156636439, 41.672025723472665, 26.093088857545837, 40.37222619899785, 32.99418604651162, 41.98943661971831, 34.26773455377574, 52.210036556995675], \"xaxis\": \"x\", \"y\": [0.0, 407.85714285714283, 3.110047846889952, 0.0, 5.607476635514018, 0.0, 26.524390243902438, 0.0, 174.05759162303664, 0.0, 0.0, 166.21315217391304, 201.75595238095238, 0.78125, 434.2282467532467, 774.4954895833332, 887.2764505119454, 646.679288888889, 2.4390243902439024, 212.74883855981417, 894.0580183486238, 2493.7658585858585, 0.0, 652.9378429517503, 0.0, 96.51898734177215, 1.4204545454545454, 524.7427414330217, 166.47589743589742, 0.0, 82.20858895705521, 0.9803921568627451, 6.315789473684211, 147.71555555555554, 79.84513274336283, 186.99705284552846, 0.0, 1.7123287671232876, 0.0, 38.70967741935484, 39.87341772151899, 0.0, 677.8508771929825, 73.38308457711443, 689.0910144927537], \"yaxis\": \"y\", \"type\": \"scatter\", \"uid\": \"6cf53d70-6c10-48dc-8136-5fbb948ca57c\"}], {\"height\": 600, \"legend\": {\"tracegroupgap\": 0}, \"margin\": {\"t\": 60}, \"template\": {\"data\": {\"barpolar\": [{\"marker\": {\"line\": {\"color\": \"#E5ECF6\", \"width\": 0.5}}, \"type\": \"barpolar\"}], \"bar\": [{\"marker\": {\"line\": {\"color\": \"#E5ECF6\", \"width\": 0.5}}, \"type\": \"bar\"}], \"carpet\": [{\"aaxis\": {\"endlinecolor\": \"#2a3f5f\", \"gridcolor\": \"white\", \"linecolor\": \"white\", \"minorgridcolor\": \"white\", \"startlinecolor\": \"#2a3f5f\"}, \"baxis\": {\"endlinecolor\": \"#2a3f5f\", \"gridcolor\": \"white\", \"linecolor\": \"white\", \"minorgridcolor\": \"white\", \"startlinecolor\": \"#2a3f5f\"}, \"type\": \"carpet\"}], \"choropleth\": [{\"colorbar\": {\"outlinewidth\": 0, \"ticks\": \"\"}, \"type\": \"choropleth\"}], \"contourcarpet\": [{\"colorbar\": {\"outlinewidth\": 0, \"ticks\": \"\"}, \"type\": \"contourcarpet\"}], \"contour\": [{\"autocolorscale\": true, \"colorbar\": {\"outlinewidth\": 0, \"ticks\": \"\"}, \"type\": \"contour\"}], \"heatmapgl\": [{\"colorbar\": {\"outlinewidth\": 0, \"ticks\": \"\"}, \"type\": \"heatmapgl\"}], \"heatmap\": [{\"autocolorscale\": true, \"colorbar\": {\"outlinewidth\": 0, \"ticks\": \"\"}, \"type\": \"heatmap\"}], \"histogram2dcontour\": [{\"autocolorscale\": true, \"colorbar\": {\"outlinewidth\": 0, \"ticks\": \"\"}, \"type\": \"histogram2dcontour\"}], \"histogram2d\": [{\"autocolorscale\": true, \"colorbar\": {\"outlinewidth\": 0, \"ticks\": \"\"}, \"type\": \"histogram2d\"}], \"histogram\": [{\"marker\": {\"colorbar\": {\"outlinewidth\": 0, \"ticks\": \"\"}}, \"type\": \"histogram\"}], \"mesh3d\": [{\"colorbar\": {\"outlinewidth\": 0, \"ticks\": \"\"}, \"type\": \"mesh3d\"}], \"parcoords\": [{\"line\": {\"colorbar\": {\"outlinewidth\": 0, \"ticks\": \"\"}}, \"type\": \"parcoords\"}], \"scatter3d\": [{\"marker\": {\"colorbar\": {\"outlinewidth\": 0, \"ticks\": \"\"}}, \"type\": \"scatter3d\"}], \"scattercarpet\": [{\"marker\": {\"colorbar\": {\"outlinewidth\": 0, \"ticks\": \"\"}}, \"type\": \"scattercarpet\"}], \"scattergeo\": [{\"marker\": {\"colorbar\": {\"outlinewidth\": 0, \"ticks\": \"\"}}, \"type\": \"scattergeo\"}], \"scattergl\": [{\"marker\": {\"colorbar\": {\"outlinewidth\": 0, \"ticks\": \"\"}}, \"type\": \"scattergl\"}], \"scattermapbox\": [{\"marker\": {\"colorbar\": {\"outlinewidth\": 0, \"ticks\": \"\"}}, \"type\": \"scattermapbox\"}], \"scatterpolargl\": [{\"marker\": {\"colorbar\": {\"outlinewidth\": 0, \"ticks\": \"\"}}, \"type\": \"scatterpolargl\"}], \"scatterpolar\": [{\"marker\": {\"colorbar\": {\"outlinewidth\": 0, \"ticks\": \"\"}}, \"type\": \"scatterpolar\"}], \"scatter\": [{\"marker\": {\"colorbar\": {\"outlinewidth\": 0, \"ticks\": \"\"}}, \"type\": \"scatter\"}], \"scatterternary\": [{\"marker\": {\"colorbar\": {\"outlinewidth\": 0, \"ticks\": \"\"}}, \"type\": \"scatterternary\"}], \"surface\": [{\"colorbar\": {\"outlinewidth\": 0, \"ticks\": \"\"}, \"type\": \"surface\"}], \"table\": [{\"cells\": {\"fill\": {\"color\": \"#EBF0F8\"}, \"line\": {\"color\": \"white\"}}, \"header\": {\"fill\": {\"color\": \"#C8D4E3\"}, \"line\": {\"color\": \"white\"}}, \"type\": \"table\"}]}, \"layout\": {\"annotationdefaults\": {\"arrowcolor\": \"#506784\", \"arrowhead\": 0, \"arrowwidth\": 1}, \"colorscale\": {\"diverging\": [[0, \"#8e0152\"], [0.1, \"#c51b7d\"], [0.2, \"#de77ae\"], [0.3, \"#f1b6da\"], [0.4, \"#fde0ef\"], [0.5, \"#f7f7f7\"], [0.6, \"#e6f5d0\"], [0.7, \"#b8e186\"], [0.8, \"#7fbc41\"], [0.9, \"#4d9221\"], [1, \"#276419\"]], \"sequential\": [[0.0, \"#0508b8\"], [0.0893854748603352, \"#1910d8\"], [0.1787709497206704, \"#3c19f0\"], [0.2681564245810056, \"#6b1cfb\"], [0.3575418994413408, \"#981cfd\"], [0.44692737430167595, \"#bf1cfd\"], [0.5363128491620112, \"#dd2bfd\"], [0.6256983240223464, \"#f246fe\"], [0.7150837988826816, \"#fc67fd\"], [0.8044692737430168, \"#fe88fc\"], [0.8938547486033519, \"#fea5fd\"], [0.9832402234636871, \"#febefe\"], [1.0, \"#fec3fe\"]], \"sequentialminus\": [[0.0, \"#0508b8\"], [0.0893854748603352, \"#1910d8\"], [0.1787709497206704, \"#3c19f0\"], [0.2681564245810056, \"#6b1cfb\"], [0.3575418994413408, \"#981cfd\"], [0.44692737430167595, \"#bf1cfd\"], [0.5363128491620112, \"#dd2bfd\"], [0.6256983240223464, \"#f246fe\"], [0.7150837988826816, \"#fc67fd\"], [0.8044692737430168, \"#fe88fc\"], [0.8938547486033519, \"#fea5fd\"], [0.9832402234636871, \"#febefe\"], [1.0, \"#fec3fe\"]]}, \"colorway\": [\"#636efa\", \"#EF553B\", \"#00cc96\", \"#ab63fa\", \"#19d3f3\", \"#e763fa\", \"#FECB52\", \"#FFA15A\", \"#FF6692\", \"#B6E880\"], \"font\": {\"color\": \"#2a3f5f\"}, \"geo\": {\"bgcolor\": \"white\", \"lakecolor\": \"white\", \"landcolor\": \"#E5ECF6\", \"showlakes\": true, \"showland\": true, \"subunitcolor\": \"white\"}, \"hovermode\": \"closest\", \"mapbox\": {\"style\": \"light\"}, \"paper_bgcolor\": \"white\", \"plot_bgcolor\": \"#E5ECF6\", \"polar\": {\"angularaxis\": {\"gridcolor\": \"white\", \"linecolor\": \"white\", \"ticks\": \"\"}, \"bgcolor\": \"#E5ECF6\", \"radialaxis\": {\"gridcolor\": \"white\", \"linecolor\": \"white\", \"ticks\": \"\"}}, \"scene\": {\"xaxis\": {\"backgroundcolor\": \"#E5ECF6\", \"gridcolor\": \"white\", \"gridwidth\": 2, \"linecolor\": \"white\", \"showbackground\": true, \"ticks\": \"\", \"zerolinecolor\": \"white\"}, \"yaxis\": {\"backgroundcolor\": \"#E5ECF6\", \"gridcolor\": \"white\", \"gridwidth\": 2, \"linecolor\": \"white\", \"showbackground\": true, \"ticks\": \"\", \"zerolinecolor\": \"white\"}, \"zaxis\": {\"backgroundcolor\": \"#E5ECF6\", \"gridcolor\": \"white\", \"gridwidth\": 2, \"linecolor\": \"white\", \"showbackground\": true, \"ticks\": \"\", \"zerolinecolor\": \"white\"}}, \"shapedefaults\": {\"fillcolor\": \"#506784\", \"line\": {\"width\": 0}, \"opacity\": 0.4}, \"ternary\": {\"aaxis\": {\"gridcolor\": \"white\", \"linecolor\": \"white\", \"ticks\": \"\"}, \"baxis\": {\"gridcolor\": \"white\", \"linecolor\": \"white\", \"ticks\": \"\"}, \"bgcolor\": \"#E5ECF6\", \"caxis\": {\"gridcolor\": \"white\", \"linecolor\": \"white\", \"ticks\": \"\"}}, \"title\": {\"x\": 0.05}, \"xaxis\": {\"automargin\": true, \"gridcolor\": \"white\", \"linecolor\": \"white\", \"ticks\": \"\", \"zerolinecolor\": \"white\", \"zerolinewidth\": 2}, \"yaxis\": {\"automargin\": true, \"gridcolor\": \"white\", \"linecolor\": \"white\", \"ticks\": \"\", \"zerolinecolor\": \"white\", \"zerolinewidth\": 2}}}, \"grid\": {\"xaxes\": [\"x\"], \"yaxes\": [\"y\"], \"xgap\": 0.1, \"ygap\": 0.1, \"xside\": \"bottom\", \"yside\": \"left\"}, \"xaxis\": {\"title\": {\"text\": \"PercAge55Plus\"}, \"type\": \"log\"}, \"yaxis\": {\"title\": {\"text\": \"Avg R Donations\"}}}, {\"showLink\": false, \"linkText\": \"Export to plot.ly\", \"plotlyServerURL\": \"https://plot.ly\"}); \n",
       "}\n",
       "});</script><script type=\"text/javascript\">window.addEventListener(\"resize\", function(){if (document.getElementById(\"122fd93f-9e0b-4490-9942-848981f99314\")) {window._Plotly.Plots.resize(document.getElementById(\"122fd93f-9e0b-4490-9942-848981f99314\"));};})</script>"
      ],
      "text/vnd.plotly.v1+html": [
       "<div id=\"122fd93f-9e0b-4490-9942-848981f99314\" style=\"height: 600px; width: 100%;\" class=\"plotly-graph-div\"></div><script type=\"text/javascript\">require([\"plotly\"], function(Plotly) { window.PLOTLYENV=window.PLOTLYENV || {};window.PLOTLYENV.BASE_URL=\"https://plot.ly\";\n",
       "if (document.getElementById(\"122fd93f-9e0b-4490-9942-848981f99314\")) {\n",
       "    Plotly.newPlot(\"122fd93f-9e0b-4490-9942-848981f99314\", [{\"hovertemplate\": \"<b>%{hovertext}</b><br><br>PercAge55Plus=%{x}<br>Avg R Donations=%{y}<br>Nmembers=%{marker.size}<br>Avg # R Donations=%{marker.color}<extra></extra>\", \"hovertext\": [\"Bath\", \"Bradford\", \"Canaan\", \"Cavendish\", \"Charlestown\", \"Chelsea\", \"Claremont\", \"Corinth\", \"Cornish\", \"Croydon\", \"Dorchester\", \"Enfield\", \"Fairlee\", \"Grafton\", \"Grantham\", \"Hanover\", \"Hartford\", \"Hartland\", \"Haverhill\", \"Lebanon\", \"Lyme\", \"Newbury\", \"Newport\", \"Norwich\", \"Orange\", \"Orford\", \"Piermont\", \"Plainfield\", \"Pomfret\", \"Reading\", \"Royalton\", \"Ryegate\", \"Sharon\", \"Springfield\", \"Strafford\", \"Thetford\", \"Topsham\", \"Tunbridge\", \"Unity\", \"Vershire\", \"Weathersfield\", \"West Fairlee\", \"West Windsor\", \"Windsor\", \"Woodstock\"], \"legendgroup\": \"\", \"marker\": {\"cmax\": 0.5142276422764228, \"cmin\": 0.0, \"color\": [0.0, 0.03571428571428571, 0.014354066985645933, 0.0, 0.018691588785046728, 0.0, 0.04878048780487805, 0.0, 0.17801047120418848, 0.0, 0.0, 0.2826086956521739, 0.10119047619047619, 0.03125, 0.032467532467532464, 0.0921875, 0.06484641638225255, 0.4622222222222222, 0.024390243902439025, 0.07897793263646923, 0.24036697247706423, 0.020202020202020204, 0.0, 0.30274361400189215, 0.0, 0.3291139240506329, 0.022727272727272728, 0.09345794392523364, 0.38461538461538464, 0.0, 0.049079754601226995, 0.0196078431372549, 0.031578947368421054, 0.03333333333333333, 0.19911504424778761, 0.5142276422764228, 0.0, 0.0273972602739726, 0.0, 0.06451612903225806, 0.0759493670886076, 0.0, 0.05263157894736842, 0.09950248756218906, 0.17028985507246377], \"colorbar\": {\"title\": {\"text\": \"Avg # R Donations\"}}, \"colorscale\": [[0.0, \"rgb(158,1,66)\"], [0.1, \"rgb(213,62,79)\"], [0.2, \"rgb(244,109,67)\"], [0.3, \"rgb(253,174,97)\"], [0.4, \"rgb(254,224,139)\"], [0.5, \"rgb(255,255,191)\"], [0.6, \"rgb(230,245,152)\"], [0.7, \"rgb(171,221,164)\"], [0.8, \"rgb(102,194,165)\"], [0.9, \"rgb(50,136,189)\"], [1.0, \"rgb(94,79,162)\"]], \"showscale\": true, \"size\": [0, 7, 10, 0, 2, 1, 0, 3, 11, 0, 0, 20, 10, 1, 11, 153, 25, 8, 9, 55, 59, 8, 2, 79, 0, 11, 6, 25, 12, 2, 10, 3, 7, 5, 10, 52, 0, 3, 0, 2, 4, 0, 12, 3, 19], \"sizemode\": \"area\", \"sizeref\": 0.0612, \"symbol\": \"circle\"}, \"mode\": \"markers\", \"name\": \" \", \"showlegend\": false, \"x\": [48.844537815126046, 32.91230602670516, 33.86351975371986, 40.359042553191486, 36.05090475243587, 37.88447111777945, 27.844906699296423, 33.715596330275226, 38.56287425149701, 36.054421768707485, 40.317460317460316, 32.76278253236779, 38.76040703052729, 39.34563758389262, 41.15657761244505, 19.871342967923862, 34.92063492063492, 31.03957471943296, 32.603092783505154, 31.865533801256003, 36.655011655011656, 34.505087881591116, 35.90823970037454, 33.53964043619216, 47.67025089605735, 32.183145321831454, 39.89637305699482, 37.323358270989196, 53.43035343035343, 29.80225988700565, 26.816046259486807, 37.94037940379404, 36.54753877275792, 34.52149492330957, 44.54545454545455, 38.06600153491942, 28.37055417700579, 36.27370156636439, 41.672025723472665, 26.093088857545837, 40.37222619899785, 32.99418604651162, 41.98943661971831, 34.26773455377574, 52.210036556995675], \"xaxis\": \"x\", \"y\": [0.0, 407.85714285714283, 3.110047846889952, 0.0, 5.607476635514018, 0.0, 26.524390243902438, 0.0, 174.05759162303664, 0.0, 0.0, 166.21315217391304, 201.75595238095238, 0.78125, 434.2282467532467, 774.4954895833332, 887.2764505119454, 646.679288888889, 2.4390243902439024, 212.74883855981417, 894.0580183486238, 2493.7658585858585, 0.0, 652.9378429517503, 0.0, 96.51898734177215, 1.4204545454545454, 524.7427414330217, 166.47589743589742, 0.0, 82.20858895705521, 0.9803921568627451, 6.315789473684211, 147.71555555555554, 79.84513274336283, 186.99705284552846, 0.0, 1.7123287671232876, 0.0, 38.70967741935484, 39.87341772151899, 0.0, 677.8508771929825, 73.38308457711443, 689.0910144927537], \"yaxis\": \"y\", \"type\": \"scatter\", \"uid\": \"6cf53d70-6c10-48dc-8136-5fbb948ca57c\"}], {\"height\": 600, \"legend\": {\"tracegroupgap\": 0}, \"margin\": {\"t\": 60}, \"template\": {\"data\": {\"barpolar\": [{\"marker\": {\"line\": {\"color\": \"#E5ECF6\", \"width\": 0.5}}, \"type\": \"barpolar\"}], \"bar\": [{\"marker\": {\"line\": {\"color\": \"#E5ECF6\", \"width\": 0.5}}, \"type\": \"bar\"}], \"carpet\": [{\"aaxis\": {\"endlinecolor\": \"#2a3f5f\", \"gridcolor\": \"white\", \"linecolor\": \"white\", \"minorgridcolor\": \"white\", \"startlinecolor\": \"#2a3f5f\"}, \"baxis\": {\"endlinecolor\": \"#2a3f5f\", \"gridcolor\": \"white\", \"linecolor\": \"white\", \"minorgridcolor\": \"white\", \"startlinecolor\": \"#2a3f5f\"}, \"type\": \"carpet\"}], \"choropleth\": [{\"colorbar\": {\"outlinewidth\": 0, \"ticks\": \"\"}, \"type\": \"choropleth\"}], \"contourcarpet\": [{\"colorbar\": {\"outlinewidth\": 0, \"ticks\": \"\"}, \"type\": \"contourcarpet\"}], \"contour\": [{\"autocolorscale\": true, \"colorbar\": {\"outlinewidth\": 0, \"ticks\": \"\"}, \"type\": \"contour\"}], \"heatmapgl\": [{\"colorbar\": {\"outlinewidth\": 0, \"ticks\": \"\"}, \"type\": \"heatmapgl\"}], \"heatmap\": [{\"autocolorscale\": true, \"colorbar\": {\"outlinewidth\": 0, \"ticks\": \"\"}, \"type\": \"heatmap\"}], \"histogram2dcontour\": [{\"autocolorscale\": true, \"colorbar\": {\"outlinewidth\": 0, \"ticks\": \"\"}, \"type\": \"histogram2dcontour\"}], \"histogram2d\": [{\"autocolorscale\": true, \"colorbar\": {\"outlinewidth\": 0, \"ticks\": \"\"}, \"type\": \"histogram2d\"}], \"histogram\": [{\"marker\": {\"colorbar\": {\"outlinewidth\": 0, \"ticks\": \"\"}}, \"type\": \"histogram\"}], \"mesh3d\": [{\"colorbar\": {\"outlinewidth\": 0, \"ticks\": \"\"}, \"type\": \"mesh3d\"}], \"parcoords\": [{\"line\": {\"colorbar\": {\"outlinewidth\": 0, \"ticks\": \"\"}}, \"type\": \"parcoords\"}], \"scatter3d\": [{\"marker\": {\"colorbar\": {\"outlinewidth\": 0, \"ticks\": \"\"}}, \"type\": \"scatter3d\"}], \"scattercarpet\": [{\"marker\": {\"colorbar\": {\"outlinewidth\": 0, \"ticks\": \"\"}}, \"type\": \"scattercarpet\"}], \"scattergeo\": [{\"marker\": {\"colorbar\": {\"outlinewidth\": 0, \"ticks\": \"\"}}, \"type\": \"scattergeo\"}], \"scattergl\": [{\"marker\": {\"colorbar\": {\"outlinewidth\": 0, \"ticks\": \"\"}}, \"type\": \"scattergl\"}], \"scattermapbox\": [{\"marker\": {\"colorbar\": {\"outlinewidth\": 0, \"ticks\": \"\"}}, \"type\": \"scattermapbox\"}], \"scatterpolargl\": [{\"marker\": {\"colorbar\": {\"outlinewidth\": 0, \"ticks\": \"\"}}, \"type\": \"scatterpolargl\"}], \"scatterpolar\": [{\"marker\": {\"colorbar\": {\"outlinewidth\": 0, \"ticks\": \"\"}}, \"type\": \"scatterpolar\"}], \"scatter\": [{\"marker\": {\"colorbar\": {\"outlinewidth\": 0, \"ticks\": \"\"}}, \"type\": \"scatter\"}], \"scatterternary\": [{\"marker\": {\"colorbar\": {\"outlinewidth\": 0, \"ticks\": \"\"}}, \"type\": \"scatterternary\"}], \"surface\": [{\"colorbar\": {\"outlinewidth\": 0, \"ticks\": \"\"}, \"type\": \"surface\"}], \"table\": [{\"cells\": {\"fill\": {\"color\": \"#EBF0F8\"}, \"line\": {\"color\": \"white\"}}, \"header\": {\"fill\": {\"color\": \"#C8D4E3\"}, \"line\": {\"color\": \"white\"}}, \"type\": \"table\"}]}, \"layout\": {\"annotationdefaults\": {\"arrowcolor\": \"#506784\", \"arrowhead\": 0, \"arrowwidth\": 1}, \"colorscale\": {\"diverging\": [[0, \"#8e0152\"], [0.1, \"#c51b7d\"], [0.2, \"#de77ae\"], [0.3, \"#f1b6da\"], [0.4, \"#fde0ef\"], [0.5, \"#f7f7f7\"], [0.6, \"#e6f5d0\"], [0.7, \"#b8e186\"], [0.8, \"#7fbc41\"], [0.9, \"#4d9221\"], [1, \"#276419\"]], \"sequential\": [[0.0, \"#0508b8\"], [0.0893854748603352, \"#1910d8\"], [0.1787709497206704, \"#3c19f0\"], [0.2681564245810056, \"#6b1cfb\"], [0.3575418994413408, \"#981cfd\"], [0.44692737430167595, \"#bf1cfd\"], [0.5363128491620112, \"#dd2bfd\"], [0.6256983240223464, \"#f246fe\"], [0.7150837988826816, \"#fc67fd\"], [0.8044692737430168, \"#fe88fc\"], [0.8938547486033519, \"#fea5fd\"], [0.9832402234636871, \"#febefe\"], [1.0, \"#fec3fe\"]], \"sequentialminus\": [[0.0, \"#0508b8\"], [0.0893854748603352, \"#1910d8\"], [0.1787709497206704, \"#3c19f0\"], [0.2681564245810056, \"#6b1cfb\"], [0.3575418994413408, \"#981cfd\"], [0.44692737430167595, \"#bf1cfd\"], [0.5363128491620112, \"#dd2bfd\"], [0.6256983240223464, \"#f246fe\"], [0.7150837988826816, \"#fc67fd\"], [0.8044692737430168, \"#fe88fc\"], [0.8938547486033519, \"#fea5fd\"], [0.9832402234636871, \"#febefe\"], [1.0, \"#fec3fe\"]]}, \"colorway\": [\"#636efa\", \"#EF553B\", \"#00cc96\", \"#ab63fa\", \"#19d3f3\", \"#e763fa\", \"#FECB52\", \"#FFA15A\", \"#FF6692\", \"#B6E880\"], \"font\": {\"color\": \"#2a3f5f\"}, \"geo\": {\"bgcolor\": \"white\", \"lakecolor\": \"white\", \"landcolor\": \"#E5ECF6\", \"showlakes\": true, \"showland\": true, \"subunitcolor\": \"white\"}, \"hovermode\": \"closest\", \"mapbox\": {\"style\": \"light\"}, \"paper_bgcolor\": \"white\", \"plot_bgcolor\": \"#E5ECF6\", \"polar\": {\"angularaxis\": {\"gridcolor\": \"white\", \"linecolor\": \"white\", \"ticks\": \"\"}, \"bgcolor\": \"#E5ECF6\", \"radialaxis\": {\"gridcolor\": \"white\", \"linecolor\": \"white\", \"ticks\": \"\"}}, \"scene\": {\"xaxis\": {\"backgroundcolor\": \"#E5ECF6\", \"gridcolor\": \"white\", \"gridwidth\": 2, \"linecolor\": \"white\", \"showbackground\": true, \"ticks\": \"\", \"zerolinecolor\": \"white\"}, \"yaxis\": {\"backgroundcolor\": \"#E5ECF6\", \"gridcolor\": \"white\", \"gridwidth\": 2, \"linecolor\": \"white\", \"showbackground\": true, \"ticks\": \"\", \"zerolinecolor\": \"white\"}, \"zaxis\": {\"backgroundcolor\": \"#E5ECF6\", \"gridcolor\": \"white\", \"gridwidth\": 2, \"linecolor\": \"white\", \"showbackground\": true, \"ticks\": \"\", \"zerolinecolor\": \"white\"}}, \"shapedefaults\": {\"fillcolor\": \"#506784\", \"line\": {\"width\": 0}, \"opacity\": 0.4}, \"ternary\": {\"aaxis\": {\"gridcolor\": \"white\", \"linecolor\": \"white\", \"ticks\": \"\"}, \"baxis\": {\"gridcolor\": \"white\", \"linecolor\": \"white\", \"ticks\": \"\"}, \"bgcolor\": \"#E5ECF6\", \"caxis\": {\"gridcolor\": \"white\", \"linecolor\": \"white\", \"ticks\": \"\"}}, \"title\": {\"x\": 0.05}, \"xaxis\": {\"automargin\": true, \"gridcolor\": \"white\", \"linecolor\": \"white\", \"ticks\": \"\", \"zerolinecolor\": \"white\", \"zerolinewidth\": 2}, \"yaxis\": {\"automargin\": true, \"gridcolor\": \"white\", \"linecolor\": \"white\", \"ticks\": \"\", \"zerolinecolor\": \"white\", \"zerolinewidth\": 2}}}, \"grid\": {\"xaxes\": [\"x\"], \"yaxes\": [\"y\"], \"xgap\": 0.1, \"ygap\": 0.1, \"xside\": \"bottom\", \"yside\": \"left\"}, \"xaxis\": {\"title\": {\"text\": \"PercAge55Plus\"}, \"type\": \"log\"}, \"yaxis\": {\"title\": {\"text\": \"Avg R Donations\"}}}, {\"showLink\": false, \"linkText\": \"Export to plot.ly\", \"plotlyServerURL\": \"https://plot.ly\"}); \n",
       "}\n",
       "});</script><script type=\"text/javascript\">window.addEventListener(\"resize\", function(){if (document.getElementById(\"122fd93f-9e0b-4490-9942-848981f99314\")) {window._Plotly.Plots.resize(document.getElementById(\"122fd93f-9e0b-4490-9942-848981f99314\"));};})</script>"
      ]
     },
     "metadata": {},
     "output_type": "display_data"
    }
   ],
   "source": [
    "px.scatter(avg_data, x=\"PercAge55Plus\", y=\"Avg R Donations\", hover_name=\"Town\", size=\"Nmembers\", size_max=50, color=\"Avg # R Donations\", color_continuous_scale=px.colors.diverging.Spectral, log_x=True)\n"
   ]
  },
  {
   "cell_type": "code",
   "execution_count": null,
   "metadata": {},
   "outputs": [],
   "source": []
  }
 ],
 "metadata": {
  "kernelspec": {
   "display_name": "Psych 81.09",
   "language": "python",
   "name": "psych81.09"
  },
  "language_info": {
   "codemirror_mode": {
    "name": "ipython",
    "version": 3
   },
   "file_extension": ".py",
   "mimetype": "text/x-python",
   "name": "python",
   "nbconvert_exporter": "python",
   "pygments_lexer": "ipython3",
   "version": "3.6.8"
  }
 },
 "nbformat": 4,
 "nbformat_minor": 2
}
